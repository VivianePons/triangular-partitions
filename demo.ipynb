{
 "cells": [
  {
   "cell_type": "code",
   "execution_count": 1,
   "id": "36a06af1-e91b-4c85-8cbc-a737862a7931",
   "metadata": {},
   "outputs": [],
   "source": [
    "from triangular import *"
   ]
  },
  {
   "cell_type": "markdown",
   "id": "09a891f3-c682-4cdf-9899-46eccba757fa",
   "metadata": {},
   "source": [
    "# Deficic and (q,t) symmetry in Triangular partitions"
   ]
  },
  {
   "cell_type": "markdown",
   "id": "67e2516d-02f2-4a83-a12d-5106cb2d8adb",
   "metadata": {},
   "source": [
    "## Triangular partitions\n",
    "\n",
    "We have developed a specific class for Triangular Partitions"
   ]
  },
  {
   "cell_type": "code",
   "execution_count": 2,
   "id": "6da920f8-097d-4c94-a7ef-63d0b354983b",
   "metadata": {},
   "outputs": [],
   "source": [
    "T6 = TriangularPartitions(6)"
   ]
  },
  {
   "cell_type": "code",
   "execution_count": 3,
   "id": "326dae56-bcd1-4059-9c60-ac30c71dc654",
   "metadata": {},
   "outputs": [
    {
     "data": {
      "text/plain": [
       "[[6],\n",
       " [5, 1],\n",
       " [4, 2],\n",
       " [3, 2, 1],\n",
       " [2, 2, 1, 1],\n",
       " [2, 1, 1, 1, 1],\n",
       " [1, 1, 1, 1, 1, 1]]"
      ]
     },
     "execution_count": 3,
     "metadata": {},
     "output_type": "execute_result"
    }
   ],
   "source": [
    "list(T6)"
   ]
  },
  {
   "cell_type": "markdown",
   "id": "3362cb87-2590-4edd-aa26-96047165211c",
   "metadata": {},
   "source": [
    "You can create a triangular partition with the list of integers as you would create a partition"
   ]
  },
  {
   "cell_type": "code",
   "execution_count": 4,
   "id": "683be8ad-92d3-4e50-a48d-625bd29bec0e",
   "metadata": {},
   "outputs": [],
   "source": [
    "tp = TriangularPartition([4,3,1])"
   ]
  },
  {
   "cell_type": "code",
   "execution_count": 5,
   "id": "e5721869-0386-4936-a0d5-a48db584802b",
   "metadata": {},
   "outputs": [
    {
     "data": {
      "text/plain": [
       "[4, 3, 1]"
      ]
     },
     "execution_count": 5,
     "metadata": {},
     "output_type": "execute_result"
    }
   ],
   "source": [
    "tp"
   ]
  },
  {
   "cell_type": "markdown",
   "id": "0c148ad3-7ea6-4888-be07-d21b44a51618",
   "metadata": {},
   "source": [
    "This is just a wrapper around the classical integer partitions in Sage. \n",
    "For pratical reason, you can also send a non triangular partition in order to check if it's triangular or not"
   ]
  },
  {
   "cell_type": "code",
   "execution_count": 6,
   "id": "cc7d18a5-1ca6-460c-a8fe-01659a17eb77",
   "metadata": {},
   "outputs": [
    {
     "data": {
      "text/plain": [
       "True"
      ]
     },
     "execution_count": 6,
     "metadata": {},
     "output_type": "execute_result"
    }
   ],
   "source": [
    "tp.is_triangular()"
   ]
  },
  {
   "cell_type": "code",
   "execution_count": 7,
   "id": "ac2031b8-12e1-4e8e-9daa-fd6b53134b81",
   "metadata": {},
   "outputs": [
    {
     "data": {
      "text/plain": [
       "False"
      ]
     },
     "execution_count": 7,
     "metadata": {},
     "output_type": "execute_result"
    }
   ],
   "source": [
    "no_tp = TriangularPartition([4,4])\n",
    "no_tp.is_triangular()"
   ]
  },
  {
   "cell_type": "markdown",
   "id": "3de2328a-e5a0-4a90-bf42-583540378a9e",
   "metadata": {},
   "source": [
    "We have implemented the admissible slope interval for each cell of the partition"
   ]
  },
  {
   "cell_type": "code",
   "execution_count": 8,
   "id": "bce7379c-55ad-4bcc-b74e-50f04e2683ba",
   "metadata": {},
   "outputs": [
    {
     "data": {
      "text/plain": [
       "[4, 3, 1]"
      ]
     },
     "execution_count": 8,
     "metadata": {},
     "output_type": "execute_result"
    }
   ],
   "source": [
    "tp"
   ]
  },
  {
   "cell_type": "code",
   "execution_count": 9,
   "id": "01038030-3d37-4dd2-9c28-a389241aff11",
   "metadata": {},
   "outputs": [
    {
     "data": {
      "text/plain": [
       "{(0, 0): 1/3,\n",
       " (0, 1): 1/4,\n",
       " (0, 2): 1/3,\n",
       " (0, 3): 0,\n",
       " (1, 0): 1/4,\n",
       " (1, 1): 0,\n",
       " (1, 2): 0,\n",
       " (2, 0): 0}"
      ]
     },
     "execution_count": 9,
     "metadata": {},
     "output_type": "execute_result"
    }
   ],
   "source": [
    "tp.min_slopes()"
   ]
  },
  {
   "cell_type": "code",
   "execution_count": 10,
   "id": "c3c22bdd-2ff4-445a-8420-74a49a1b6468",
   "metadata": {},
   "outputs": [
    {
     "data": {
      "text/plain": [
       "{(0, 0): 1/2,\n",
       " (0, 1): 1/2,\n",
       " (0, 2): 2/3,\n",
       " (0, 3): 1,\n",
       " (1, 0): 1/2,\n",
       " (1, 1): 1/2,\n",
       " (1, 2): 1,\n",
       " (2, 0): 1}"
      ]
     },
     "execution_count": 10,
     "metadata": {},
     "output_type": "execute_result"
    }
   ],
   "source": [
    "tp.max_slopes()"
   ]
  },
  {
   "cell_type": "markdown",
   "id": "6284b8aa-7127-4fce-ba34-0ac52ab9d781",
   "metadata": {},
   "source": [
    "The maximum of all min slopes is the global min slope, and the minimum of all max slopes is the global max slope.\n",
    "\n",
    "For a triangular partition, the global min slope is stricktly inferior to the global max slope."
   ]
  },
  {
   "cell_type": "code",
   "execution_count": 11,
   "id": "a8ae8739-36b0-4763-a1e3-a517e9088f24",
   "metadata": {},
   "outputs": [
    {
     "data": {
      "text/plain": [
       "1/3"
      ]
     },
     "execution_count": 11,
     "metadata": {},
     "output_type": "execute_result"
    }
   ],
   "source": [
    "tp.global_min_slope()"
   ]
  },
  {
   "cell_type": "code",
   "execution_count": 12,
   "id": "75b2de69-3bed-4b84-be12-f0c8c619ec23",
   "metadata": {},
   "outputs": [
    {
     "data": {
      "text/plain": [
       "1/2"
      ]
     },
     "execution_count": 12,
     "metadata": {},
     "output_type": "execute_result"
    }
   ],
   "source": [
    "tp.global_max_slope()"
   ]
  },
  {
   "cell_type": "code",
   "execution_count": 13,
   "id": "58de74e9-e9ba-4c6c-b933-7b351b4ca056",
   "metadata": {},
   "outputs": [
    {
     "data": {
      "text/plain": [
       "1/2"
      ]
     },
     "execution_count": 13,
     "metadata": {},
     "output_type": "execute_result"
    }
   ],
   "source": [
    "no_tp.global_min_slope()"
   ]
  },
  {
   "cell_type": "code",
   "execution_count": 14,
   "id": "f90e7500-be18-4a02-954a-e8feb44ec753",
   "metadata": {},
   "outputs": [
    {
     "data": {
      "text/plain": [
       "1/4"
      ]
     },
     "execution_count": 14,
     "metadata": {},
     "output_type": "execute_result"
    }
   ],
   "source": [
    "no_tp.global_max_slope()"
   ]
  },
  {
   "cell_type": "code",
   "execution_count": 15,
   "id": "fe3606ca-69d0-4fbc-a39b-cb649654d53d",
   "metadata": {},
   "outputs": [
    {
     "data": {
      "text/plain": [
       "{(0, 0): 1/5,\n",
       " (0, 1): 1/4,\n",
       " (0, 2): 1/3,\n",
       " (0, 3): 1/2,\n",
       " (1, 0): 0,\n",
       " (1, 1): 0,\n",
       " (1, 2): 0,\n",
       " (1, 3): 0}"
      ]
     },
     "execution_count": 15,
     "metadata": {},
     "output_type": "execute_result"
    }
   ],
   "source": [
    "no_tp.min_slopes()"
   ]
  },
  {
   "cell_type": "code",
   "execution_count": 16,
   "id": "61edbe34-e158-4bed-86d2-cf36876ca8d1",
   "metadata": {},
   "outputs": [
    {
     "data": {
      "text/plain": [
       "{(0, 0): 2/5,\n",
       " (0, 1): 1/2,\n",
       " (0, 2): 2/3,\n",
       " (0, 3): 1,\n",
       " (1, 0): 1/4,\n",
       " (1, 1): 1/3,\n",
       " (1, 2): 1/2,\n",
       " (1, 3): 1}"
      ]
     },
     "execution_count": 16,
     "metadata": {},
     "output_type": "execute_result"
    }
   ],
   "source": [
    "no_tp.max_slopes()"
   ]
  },
  {
   "cell_type": "markdown",
   "id": "bcf9e620-338a-4d0c-96d4-1ddc91beefaa",
   "metadata": {},
   "source": [
    "## Triangular Dyck paths\n",
    "\n",
    "Given a triangular partition, you can enumerate its sub partitions as \"Triangular Dyck paths\""
   ]
  },
  {
   "cell_type": "code",
   "execution_count": 17,
   "id": "5bc7d639-2d82-4f5b-a355-7b319af501c7",
   "metadata": {},
   "outputs": [
    {
     "data": {
      "text/plain": [
       "Triangular Dyck Paths of [4, 3, 1]"
      ]
     },
     "execution_count": 17,
     "metadata": {},
     "output_type": "execute_result"
    }
   ],
   "source": [
    "TDP = tp.triangular_dyck_paths()\n",
    "TDP"
   ]
  },
  {
   "cell_type": "code",
   "execution_count": 18,
   "id": "d4ec78b1-f748-4aca-a7fe-46ae5161b152",
   "metadata": {},
   "outputs": [
    {
     "data": {
      "text/plain": [
       "[[[4, 3, 1], []],\n",
       " [[4, 3, 1], [1]],\n",
       " [[4, 3, 1], [2]],\n",
       " [[4, 3, 1], [3]],\n",
       " [[4, 3, 1], [1, 1]],\n",
       " [[4, 3, 1], [2, 1]],\n",
       " [[4, 3, 1], [3, 1]],\n",
       " [[4, 3, 1], [2, 2]],\n",
       " [[4, 3, 1], [3, 2]],\n",
       " [[4, 3, 1], [4]],\n",
       " [[4, 3, 1], [4, 1]],\n",
       " [[4, 3, 1], [4, 2]],\n",
       " [[4, 3, 1], [1, 1, 1]],\n",
       " [[4, 3, 1], [2, 1, 1]],\n",
       " [[4, 3, 1], [3, 1, 1]],\n",
       " [[4, 3, 1], [4, 1, 1]],\n",
       " [[4, 3, 1], [2, 2, 1]],\n",
       " [[4, 3, 1], [3, 2, 1]],\n",
       " [[4, 3, 1], [4, 2, 1]],\n",
       " [[4, 3, 1], [3, 3]],\n",
       " [[4, 3, 1], [4, 3]],\n",
       " [[4, 3, 1], [3, 3, 1]],\n",
       " [[4, 3, 1], [4, 3, 1]]]"
      ]
     },
     "execution_count": 18,
     "metadata": {},
     "output_type": "execute_result"
    }
   ],
   "source": [
    "list(TDP)"
   ]
  },
  {
   "cell_type": "markdown",
   "id": "261cd9fa-0775-43b9-aa70-29c1a8576267",
   "metadata": {},
   "source": [
    "A triangular Dyck path contains both the triangular partition and the sub partition"
   ]
  },
  {
   "cell_type": "code",
   "execution_count": 19,
   "id": "1926f093-58a5-4d58-8b35-b94aa2b03368",
   "metadata": {},
   "outputs": [
    {
     "data": {
      "text/plain": [
       "[[4, 3, 1], [4, 1]]"
      ]
     },
     "execution_count": 19,
     "metadata": {},
     "output_type": "execute_result"
    }
   ],
   "source": [
    "tdp = TriangularDyckPath([4,3,1], [4,1])\n",
    "tdp"
   ]
  },
  {
   "cell_type": "code",
   "execution_count": 20,
   "id": "a8191bd2-84a6-4f79-b650-0d3193125fbe",
   "metadata": {},
   "outputs": [
    {
     "data": {
      "text/plain": [
       "[4, 3, 1]"
      ]
     },
     "execution_count": 20,
     "metadata": {},
     "output_type": "execute_result"
    }
   ],
   "source": [
    "tdp.partition()"
   ]
  },
  {
   "cell_type": "code",
   "execution_count": 21,
   "id": "3f919553-d7d2-46f2-9a00-4ccb6b0f66f0",
   "metadata": {},
   "outputs": [
    {
     "data": {
      "text/plain": [
       "[4, 1]"
      ]
     },
     "execution_count": 21,
     "metadata": {},
     "output_type": "execute_result"
    }
   ],
   "source": [
    "tdp.path()"
   ]
  },
  {
   "cell_type": "markdown",
   "id": "32608f06-c8d5-48e4-a188-6f501ec24c7d",
   "metadata": {},
   "source": [
    "You can get the list of similar / deficit cells of a triangular Dyck path and its area."
   ]
  },
  {
   "cell_type": "code",
   "execution_count": 22,
   "id": "8fbba505-7fae-4a27-a770-f9fd11da9692",
   "metadata": {},
   "outputs": [
    {
     "data": {
      "text/plain": [
       "3"
      ]
     },
     "execution_count": 22,
     "metadata": {},
     "output_type": "execute_result"
    }
   ],
   "source": [
    "tdp.area()"
   ]
  },
  {
   "cell_type": "code",
   "execution_count": 23,
   "id": "88d80837-9d0d-40ca-95b5-ade372b489c1",
   "metadata": {},
   "outputs": [
    {
     "data": {
      "text/plain": [
       "3"
      ]
     },
     "execution_count": 23,
     "metadata": {},
     "output_type": "execute_result"
    }
   ],
   "source": [
    "tdp.sim()"
   ]
  },
  {
   "cell_type": "code",
   "execution_count": 24,
   "id": "02a0fda9-1910-4d6a-84b9-1ff5094a3e1c",
   "metadata": {},
   "outputs": [
    {
     "data": {
      "text/plain": [
       "[(0, 2), (0, 3), (1, 0)]"
      ]
     },
     "execution_count": 24,
     "metadata": {},
     "output_type": "execute_result"
    }
   ],
   "source": [
    "list(tdp.similar_cells())"
   ]
  },
  {
   "cell_type": "code",
   "execution_count": 25,
   "id": "05166278-2c11-461d-b8e0-f2faf38f27b6",
   "metadata": {},
   "outputs": [
    {
     "data": {
      "text/plain": [
       "2"
      ]
     },
     "execution_count": 25,
     "metadata": {},
     "output_type": "execute_result"
    }
   ],
   "source": [
    "tdp.deficit()"
   ]
  },
  {
   "cell_type": "code",
   "execution_count": 26,
   "id": "1d2c136d-6c90-4b67-aff9-3259d60b6ef2",
   "metadata": {},
   "outputs": [
    {
     "data": {
      "text/plain": [
       "[(0, 0), (0, 1)]"
      ]
     },
     "execution_count": 26,
     "metadata": {},
     "output_type": "execute_result"
    }
   ],
   "source": [
    "list(tdp.deficit_cells())"
   ]
  },
  {
   "cell_type": "markdown",
   "id": "5faba370-ca2e-47aa-a59e-3fa84e90555f",
   "metadata": {},
   "source": [
    "Here is the example of Figure 5"
   ]
  },
  {
   "cell_type": "code",
   "execution_count": 27,
   "id": "39db51bd-4f91-4acd-b99c-e848763f7e7b",
   "metadata": {},
   "outputs": [],
   "source": [
    "fig5 = TriangularDyckPath([7,6,4,3,1], [5,5,3,2])"
   ]
  },
  {
   "cell_type": "code",
   "execution_count": 28,
   "id": "a330cf8e-1e8c-4cda-9d6a-53f34982748f",
   "metadata": {},
   "outputs": [
    {
     "data": {
      "text/plain": [
       "[[7, 6, 4, 3, 1], [5, 5, 3, 2]]"
      ]
     },
     "execution_count": 28,
     "metadata": {},
     "output_type": "execute_result"
    }
   ],
   "source": [
    "fig5"
   ]
  },
  {
   "cell_type": "code",
   "execution_count": 29,
   "id": "e9eebbb0-2be1-415f-a002-754c03b7397f",
   "metadata": {},
   "outputs": [
    {
     "data": {
      "text/plain": [
       "13"
      ]
     },
     "execution_count": 29,
     "metadata": {},
     "output_type": "execute_result"
    }
   ],
   "source": [
    "fig5.sim()"
   ]
  },
  {
   "cell_type": "code",
   "execution_count": 30,
   "id": "9c862b71-b621-40bc-9b06-8b157fe32881",
   "metadata": {},
   "outputs": [
    {
     "data": {
      "text/plain": [
       "2"
      ]
     },
     "execution_count": 30,
     "metadata": {},
     "output_type": "execute_result"
    }
   ],
   "source": [
    "fig5.deficit()"
   ]
  },
  {
   "cell_type": "code",
   "execution_count": null,
   "id": "cf42ca90-2ced-4ea8-8ed1-10ce36aa20c1",
   "metadata": {},
   "outputs": [],
   "source": []
  },
  {
   "cell_type": "markdown",
   "id": "813e2ecc-cb19-40d6-b578-2306b23cf8e0",
   "metadata": {},
   "source": [
    "Here is the list of triangular Dyck path for the staircase partition with $n=3$, corresponding to the 5 Dyck paths of size $3$."
   ]
  },
  {
   "cell_type": "code",
   "execution_count": 31,
   "id": "e79d015e-f2c4-4ed4-8967-3977a8b33909",
   "metadata": {},
   "outputs": [
    {
     "data": {
      "text/plain": [
       "Triangular Dyck Paths of [2, 1]"
      ]
     },
     "execution_count": 31,
     "metadata": {},
     "output_type": "execute_result"
    }
   ],
   "source": [
    "D3 = TriangularDyckPaths([2,1])\n",
    "D3"
   ]
  },
  {
   "cell_type": "code",
   "execution_count": 32,
   "id": "6e70385c-e972-468c-b526-c7f99c1efddd",
   "metadata": {},
   "outputs": [
    {
     "data": {
      "text/plain": [
       "5"
      ]
     },
     "execution_count": 32,
     "metadata": {},
     "output_type": "execute_result"
    }
   ],
   "source": [
    "D3.cardinality()"
   ]
  },
  {
   "cell_type": "code",
   "execution_count": 33,
   "id": "f9e1d58b-cb71-48f1-9e34-293a38233545",
   "metadata": {},
   "outputs": [
    {
     "data": {
      "text/plain": [
       "[[[2, 1], []],\n",
       " [[2, 1], [1]],\n",
       " [[2, 1], [2]],\n",
       " [[2, 1], [1, 1]],\n",
       " [[2, 1], [2, 1]]]"
      ]
     },
     "execution_count": 33,
     "metadata": {},
     "output_type": "execute_result"
    }
   ],
   "source": [
    "list(D3)"
   ]
  },
  {
   "cell_type": "markdown",
   "id": "3accbe32-c2b3-4c43-ae76-cb4391964dc9",
   "metadata": {},
   "source": [
    "Besides, you can get the polynomial $A_\\lambda$ directly from the triangular partition $\\lambda$."
   ]
  },
  {
   "cell_type": "code",
   "execution_count": 34,
   "id": "606daa6d-0ef6-429d-af67-d1bf2024e5d9",
   "metadata": {},
   "outputs": [],
   "source": [
    "tp = TriangularPartition([3,2])"
   ]
  },
  {
   "cell_type": "code",
   "execution_count": 35,
   "id": "7a9d533c-2be3-4d24-a011-fea151886e8e",
   "metadata": {},
   "outputs": [
    {
     "data": {
      "text/plain": [
       "q^5 + q^4*t + q^3*t^2 + q^2*t^3 + q*t^4 + t^5 + q^3*t + q^2*t^2 + q*t^3"
      ]
     },
     "execution_count": 35,
     "metadata": {},
     "output_type": "execute_result"
    }
   ],
   "source": [
    "tp.Aqt()"
   ]
  },
  {
   "cell_type": "code",
   "execution_count": 36,
   "id": "3486cb9c-4135-44b1-994c-a5388468f3f9",
   "metadata": {},
   "outputs": [
    {
     "name": "stdout",
     "output_type": "stream",
     "text": [
      "5 0\n",
      "4 1\n",
      "3 2\n",
      "2 2\n",
      "3 1\n",
      "2 3\n",
      "1 4\n",
      "1 3\n",
      "0 5\n"
     ]
    }
   ],
   "source": [
    "for tdp in tp.triangular_dyck_paths():\n",
    "    print(tdp.area(), tdp.sim())"
   ]
  },
  {
   "cell_type": "markdown",
   "id": "07700d48-c520-43c0-95a7-f882ce9bbdad",
   "metadata": {},
   "source": [
    "Checking Conjecture 1"
   ]
  },
  {
   "cell_type": "code",
   "execution_count": 37,
   "id": "7a840d9e-0687-4389-96ab-3d923836019b",
   "metadata": {},
   "outputs": [],
   "source": [
    "q,t = tp.Aqt().parent().gens()"
   ]
  },
  {
   "cell_type": "code",
   "execution_count": 38,
   "id": "bb6ced0c-e269-49d7-a427-06c344ebf2b4",
   "metadata": {},
   "outputs": [
    {
     "data": {
      "text/plain": [
       "s[3, 1] + s[5]"
      ]
     },
     "execution_count": 38,
     "metadata": {},
     "output_type": "execute_result"
    }
   ],
   "source": [
    "schur = tp.Aqt_schur2parts()\n",
    "schur"
   ]
  },
  {
   "cell_type": "code",
   "execution_count": 39,
   "id": "a943e9b7-9fb6-4be7-9576-c046a00bdf4f",
   "metadata": {},
   "outputs": [
    {
     "data": {
      "text/plain": [
       "q^5 + q^4*t + q^3*t^2 + q^2*t^3 + q*t^4 + t^5 + q^3*t + q^2*t^2 + q*t^3"
      ]
     },
     "execution_count": 39,
     "metadata": {},
     "output_type": "execute_result"
    }
   ],
   "source": [
    "schur.expand(2, [q,t])"
   ]
  },
  {
   "cell_type": "code",
   "execution_count": 40,
   "id": "4734ae6d-c358-4641-b408-1a9a549d1b1e",
   "metadata": {},
   "outputs": [
    {
     "data": {
      "text/plain": [
       "True"
      ]
     },
     "execution_count": 40,
     "metadata": {},
     "output_type": "execute_result"
    }
   ],
   "source": [
    "schur.is_schur_positive()"
   ]
  },
  {
   "cell_type": "code",
   "execution_count": 41,
   "id": "38672d22-d973-4114-9c59-4c8cc77f9664",
   "metadata": {},
   "outputs": [
    {
     "data": {
      "text/plain": [
       "True"
      ]
     },
     "execution_count": 41,
     "metadata": {},
     "output_type": "execute_result"
    }
   ],
   "source": [
    "# size 4\n",
    "all(part.Aqt_schur2parts().is_schur_positive() for part in TriangularPartitions(4))"
   ]
  },
  {
   "cell_type": "code",
   "execution_count": 42,
   "id": "02300686-cd6e-413d-abaf-2d6d2132af6e",
   "metadata": {},
   "outputs": [
    {
     "data": {
      "text/plain": [
       "True"
      ]
     },
     "execution_count": 42,
     "metadata": {},
     "output_type": "execute_result"
    }
   ],
   "source": [
    "# size 5\n",
    "all(part.Aqt_schur2parts().is_schur_positive() for part in TriangularPartitions(5))"
   ]
  },
  {
   "cell_type": "code",
   "execution_count": 43,
   "id": "20523109-eb04-4410-b67d-408da2b7593d",
   "metadata": {},
   "outputs": [
    {
     "data": {
      "text/plain": [
       "True"
      ]
     },
     "execution_count": 43,
     "metadata": {},
     "output_type": "execute_result"
    }
   ],
   "source": [
    "# size 6\n",
    "all(part.Aqt_schur2parts().is_schur_positive() for part in TriangularPartitions(6))"
   ]
  },
  {
   "cell_type": "code",
   "execution_count": 44,
   "id": "743e5dfc-e3da-4a5e-b3b6-59d2ccf540a8",
   "metadata": {},
   "outputs": [
    {
     "data": {
      "text/plain": [
       "True"
      ]
     },
     "execution_count": 44,
     "metadata": {},
     "output_type": "execute_result"
    }
   ],
   "source": [
    "# size 7\n",
    "all(part.Aqt_schur2parts().is_schur_positive() for part in TriangularPartitions(7))"
   ]
  },
  {
   "cell_type": "code",
   "execution_count": 45,
   "id": "4cbec411-4ba1-4806-987c-5b28234b4b95",
   "metadata": {},
   "outputs": [
    {
     "data": {
      "text/plain": [
       "True"
      ]
     },
     "execution_count": 45,
     "metadata": {},
     "output_type": "execute_result"
    }
   ],
   "source": [
    "# size 8\n",
    "all(part.Aqt_schur2parts().is_schur_positive() for part in TriangularPartitions(8))"
   ]
  },
  {
   "cell_type": "code",
   "execution_count": 46,
   "id": "f7f225ff-9fc1-477a-b13a-25c5c3265baf",
   "metadata": {},
   "outputs": [
    {
     "data": {
      "text/plain": [
       "True"
      ]
     },
     "execution_count": 46,
     "metadata": {},
     "output_type": "execute_result"
    }
   ],
   "source": [
    "# size 9\n",
    "all(part.Aqt_schur2parts().is_schur_positive() for part in TriangularPartitions(9))"
   ]
  },
  {
   "cell_type": "code",
   "execution_count": 47,
   "id": "ca76bb58-1cfc-40ab-a425-8b94d28dd5b7",
   "metadata": {},
   "outputs": [
    {
     "data": {
      "text/plain": [
       "True"
      ]
     },
     "execution_count": 47,
     "metadata": {},
     "output_type": "execute_result"
    }
   ],
   "source": [
    "# size 10\n",
    "all(part.Aqt_schur2parts().is_schur_positive() for part in TriangularPartitions(10))"
   ]
  },
  {
   "cell_type": "markdown",
   "id": "d7d78e10-9e04-4a7d-8236-671899901181",
   "metadata": {},
   "source": [
    "## Tableaux\n",
    "\n",
    "You can compute the triangular tableau associated to a triangular partition."
   ]
  },
  {
   "cell_type": "code",
   "execution_count": 2,
   "id": "d29e157f-7063-48cf-96c8-369d72753403",
   "metadata": {},
   "outputs": [
    {
     "data": {
      "text/plain": [
       "[[1, 2, 4], [3, 5]]"
      ]
     },
     "execution_count": 2,
     "metadata": {},
     "output_type": "execute_result"
    }
   ],
   "source": [
    "tp = TriangularPartition([3,2])\n",
    "tp.triangular_standard_tableau()"
   ]
  },
  {
   "cell_type": "code",
   "execution_count": 69,
   "id": "071f7e2b-290c-4b09-b73e-47137f99b4d6",
   "metadata": {},
   "outputs": [
    {
     "data": {
      "text/plain": [
       "[[1, 2, 4, 7], [3, 5, 8], [6]]"
      ]
     },
     "execution_count": 69,
     "metadata": {},
     "output_type": "execute_result"
    }
   ],
   "source": [
    "tp = TriangularPartition([4,3,1])\n",
    "tp.triangular_standard_tableau()"
   ]
  },
  {
   "cell_type": "markdown",
   "id": "b751d4c9-70a5-4fe8-a674-3c8662ed11ea",
   "metadata": {},
   "source": [
    "Here is the example of Fig. 10"
   ]
  },
  {
   "cell_type": "code",
   "execution_count": 70,
   "id": "e79ad354-1583-47db-bd18-9b5a94e69c72",
   "metadata": {},
   "outputs": [
    {
     "data": {
      "text/plain": [
       "[[4, 3, 1], [2, 2, 1]]"
      ]
     },
     "execution_count": 70,
     "metadata": {},
     "output_type": "execute_result"
    }
   ],
   "source": [
    "tdp = TriangularDyckPath([4,3,1], [2,2,1])\n",
    "tdp"
   ]
  },
  {
   "cell_type": "code",
   "execution_count": 71,
   "id": "f28aff8e-24e5-40c7-baa2-06e77f121081",
   "metadata": {},
   "outputs": [
    {
     "data": {
      "text/plain": [
       "[(0, 0), (0, 1)]"
      ]
     },
     "execution_count": 71,
     "metadata": {},
     "output_type": "execute_result"
    }
   ],
   "source": [
    "list(tdp.deficit_cells())"
   ]
  },
  {
   "cell_type": "code",
   "execution_count": 72,
   "id": "885c7736-a5bf-4d06-9ca1-e1af02d35c2b",
   "metadata": {},
   "outputs": [
    {
     "data": {
      "text/plain": [
       "2"
      ]
     },
     "execution_count": 72,
     "metadata": {},
     "output_type": "execute_result"
    }
   ],
   "source": [
    "tdp.deficit()"
   ]
  },
  {
   "cell_type": "markdown",
   "id": "e019a8f9-0a3c-4b57-b91e-54c30f723599",
   "metadata": {},
   "source": [
    "Here is the example of Fig. 11: the deficit on the staircase partition"
   ]
  },
  {
   "cell_type": "code",
   "execution_count": 73,
   "id": "10cb3982-761a-4ce2-a760-7dd9f4d136a1",
   "metadata": {},
   "outputs": [
    {
     "data": {
      "text/plain": [
       "[[1, 2, 4], [3, 5], [6]]"
      ]
     },
     "execution_count": 73,
     "metadata": {},
     "output_type": "execute_result"
    }
   ],
   "source": [
    "staircase = TriangularPartition([3,2,1])\n",
    "tab = staircase.triangular_standard_tableau()\n",
    "tab"
   ]
  },
  {
   "cell_type": "code",
   "execution_count": 74,
   "id": "654b36b3-c162-49f1-b542-b275eb6960fa",
   "metadata": {},
   "outputs": [
    {
     "data": {
      "text/plain": [
       "[[3, 2, 1], [3, 1, 1]]"
      ]
     },
     "execution_count": 74,
     "metadata": {},
     "output_type": "execute_result"
    }
   ],
   "source": [
    "tdp1 = TriangularDyckPath([3,2,1], [3,1,1])\n",
    "tdp1"
   ]
  },
  {
   "cell_type": "code",
   "execution_count": 75,
   "id": "461373d6-acbe-4b80-bc09-b8576b9140da",
   "metadata": {},
   "outputs": [
    {
     "data": {
      "text/plain": [
       "4"
      ]
     },
     "execution_count": 75,
     "metadata": {},
     "output_type": "execute_result"
    }
   ],
   "source": [
    "tdp1.sim()"
   ]
  },
  {
   "cell_type": "code",
   "execution_count": 76,
   "id": "427cd8e2-b178-440e-9fc8-47ddb83ad1a2",
   "metadata": {},
   "outputs": [
    {
     "data": {
      "text/plain": [
       "[[3, 2, 1], [1, 1, 1]]"
      ]
     },
     "execution_count": 76,
     "metadata": {},
     "output_type": "execute_result"
    }
   ],
   "source": [
    "tdp2 = TriangularDyckPath([3,2,1], [1,1,1])\n",
    "tdp2"
   ]
  },
  {
   "cell_type": "code",
   "execution_count": 77,
   "id": "2a349b9d-32e1-4be4-9296-52c5ce95129e",
   "metadata": {},
   "outputs": [
    {
     "data": {
      "text/plain": [
       "1"
      ]
     },
     "execution_count": 77,
     "metadata": {},
     "output_type": "execute_result"
    }
   ],
   "source": [
    "tdp2.sim()"
   ]
  },
  {
   "cell_type": "markdown",
   "id": "7f9cd012-15c5-45b7-8e2f-4de0cf2a0d5d",
   "metadata": {},
   "source": [
    "You can also obtain the list of sim-sym tableaux"
   ]
  },
  {
   "cell_type": "code",
   "execution_count": 96,
   "id": "e4a29e4d-37aa-47ce-bfb1-0a8272c99d47",
   "metadata": {},
   "outputs": [
    {
     "data": {
      "text/plain": [
       "[[[1, 3, 4], [2, 5]], [[1, 2, 4], [3, 5]]]"
      ]
     },
     "execution_count": 96,
     "metadata": {},
     "output_type": "execute_result"
    }
   ],
   "source": [
    "tp = TriangularPartition([3,2])\n",
    "Tabs = list(tp.sim_sym_tableaux())\n",
    "Tabs"
   ]
  },
  {
   "cell_type": "markdown",
   "id": "9191ce72-a010-40fb-be1c-246db3e8b5c5",
   "metadata": {},
   "source": [
    "The deficit and sim statistics can be computed for a given tableau"
   ]
  },
  {
   "cell_type": "code",
   "execution_count": 97,
   "id": "c2641cab-37b1-42cc-bbbd-ef2f7b5a3a63",
   "metadata": {},
   "outputs": [],
   "source": [
    "tdp = TriangularDyckPath([3,2],[2])"
   ]
  },
  {
   "cell_type": "code",
   "execution_count": 98,
   "id": "93362be7-d934-4249-910f-9f8f2831ceb4",
   "metadata": {},
   "outputs": [
    {
     "data": {
      "text/plain": [
       "1"
      ]
     },
     "execution_count": 98,
     "metadata": {},
     "output_type": "execute_result"
    }
   ],
   "source": [
    "tdp.sim(tableau = Tabs[0])"
   ]
  },
  {
   "cell_type": "code",
   "execution_count": 99,
   "id": "d8510ab9-a180-4c32-ad5b-a9a7acc4a49d",
   "metadata": {},
   "outputs": [
    {
     "data": {
      "text/plain": [
       "2"
      ]
     },
     "execution_count": 99,
     "metadata": {},
     "output_type": "execute_result"
    }
   ],
   "source": [
    "tdp.sim(tableau = Tabs[1])"
   ]
  },
  {
   "cell_type": "code",
   "execution_count": 100,
   "id": "fee116f2-6a5d-4548-aebc-8295fab8c0f5",
   "metadata": {},
   "outputs": [
    {
     "data": {
      "text/plain": [
       "1"
      ]
     },
     "execution_count": 100,
     "metadata": {},
     "output_type": "execute_result"
    }
   ],
   "source": [
    "tdp.deficit(tableau = Tabs[0])"
   ]
  },
  {
   "cell_type": "code",
   "execution_count": 101,
   "id": "3d3a93c3-b14b-49ee-a204-26015f669db6",
   "metadata": {},
   "outputs": [
    {
     "data": {
      "text/plain": [
       "0"
      ]
     },
     "execution_count": 101,
     "metadata": {},
     "output_type": "execute_result"
    }
   ],
   "source": [
    "tdp.deficit(tableau = Tabs[1])"
   ]
  },
  {
   "cell_type": "markdown",
   "id": "1848ed3e-d670-4e94-81d8-f3d331b691f6",
   "metadata": {},
   "source": [
    "As well as the $A_\\lambda$ polynomial."
   ]
  },
  {
   "cell_type": "code",
   "execution_count": 102,
   "id": "5d7764a8-ad5d-4768-b3da-1378c751f71e",
   "metadata": {},
   "outputs": [
    {
     "data": {
      "text/plain": [
       "q^5 + q^4*t + q^3*t^2 + q^2*t^3 + q*t^4 + t^5 + q^3*t + q^2*t^2 + q*t^3"
      ]
     },
     "execution_count": 102,
     "metadata": {},
     "output_type": "execute_result"
    }
   ],
   "source": [
    "tp.Aqt(tableau = Tabs[0])"
   ]
  },
  {
   "cell_type": "code",
   "execution_count": 103,
   "id": "b8ab65f9-54c3-4b2f-b8e9-71a191d48f6a",
   "metadata": {},
   "outputs": [
    {
     "data": {
      "text/plain": [
       "q^5 + q^4*t + q^3*t^2 + q^2*t^3 + q*t^4 + t^5 + q^3*t + q^2*t^2 + q*t^3"
      ]
     },
     "execution_count": 103,
     "metadata": {},
     "output_type": "execute_result"
    }
   ],
   "source": [
    "tp.Aqt(tableau = Tabs[1])"
   ]
  },
  {
   "cell_type": "markdown",
   "id": "7814a101-86e3-4217-ad2b-660bb5865d61",
   "metadata": {},
   "source": [
    "As both tableaux are sim-sym, the polynomial is the same. But for another tableau, we get a different result which is not symmetric."
   ]
  },
  {
   "cell_type": "code",
   "execution_count": 104,
   "id": "564693da-febe-4f7c-af0a-5c357f90c9cb",
   "metadata": {},
   "outputs": [],
   "source": [
    "nonSimSym = Tableau([[1,2,3],[4,5]])"
   ]
  },
  {
   "cell_type": "code",
   "execution_count": 105,
   "id": "612f886d-51d6-44a8-aca4-0a5e09b96da6",
   "metadata": {},
   "outputs": [
    {
     "data": {
      "text/plain": [
       "q^5 + q^4*t + q^3*t^2 + q^2*t^3 + q*t^4 + t^5 + q^3*t + q^2*t^2 + q*t^2"
      ]
     },
     "execution_count": 105,
     "metadata": {},
     "output_type": "execute_result"
    }
   ],
   "source": [
    "pol = tp.Aqt(tableau = nonSimSym)\n",
    "pol"
   ]
  },
  {
   "cell_type": "code",
   "execution_count": 106,
   "id": "a1995bce-44c4-41ba-9429-47939a15a44e",
   "metadata": {},
   "outputs": [
    {
     "data": {
      "text/plain": [
       "False"
      ]
     },
     "execution_count": 106,
     "metadata": {},
     "output_type": "execute_result"
    }
   ],
   "source": [
    "pol(q,t) == pol(t,q)"
   ]
  },
  {
   "cell_type": "markdown",
   "id": "84c23d32-fc6d-4610-b52e-70ca4f6efe4c",
   "metadata": {},
   "source": [
    "Here is the example of the partition $(4,2,1)$ given in the paper."
   ]
  },
  {
   "cell_type": "code",
   "execution_count": 107,
   "id": "09ac8e9b-0eba-4fe3-bd05-fab11388c92b",
   "metadata": {},
   "outputs": [
    {
     "data": {
      "text/plain": [
       "[[[1, 3, 6, 7], [2, 5], [4]],\n",
       " [[1, 2, 6, 7], [3, 5], [4]],\n",
       " [[1, 3, 4, 7], [2, 5], [6]],\n",
       " [[1, 2, 4, 7], [3, 5], [6]],\n",
       " [[1, 3, 4, 6], [2, 5], [7]],\n",
       " [[1, 2, 4, 6], [3, 5], [7]],\n",
       " [[1, 2, 3, 5], [4, 6], [7]]]"
      ]
     },
     "execution_count": 107,
     "metadata": {},
     "output_type": "execute_result"
    }
   ],
   "source": [
    "tp = TriangularPartition([4,2,1])\n",
    "list(tp.sim_sym_tableaux())"
   ]
  },
  {
   "cell_type": "code",
   "execution_count": 108,
   "id": "4fde5012-3ec4-4c26-b624-4dc61b9751b2",
   "metadata": {},
   "outputs": [
    {
     "data": {
      "text/plain": [
       "[[[1, 2, 4, 7], [3, 5], [6]], [[1, 2, 4, 6], [3, 5], [7]]]"
      ]
     },
     "execution_count": 108,
     "metadata": {},
     "output_type": "execute_result"
    }
   ],
   "source": [
    "list(tp.slope_tableaux())"
   ]
  },
  {
   "cell_type": "code",
   "execution_count": 109,
   "id": "5e1f901b-f2d3-4ca9-8726-5183e04c87fa",
   "metadata": {},
   "outputs": [
    {
     "data": {
      "text/plain": [
       "[[1, 2, 4, 7], [3, 5], [6]]"
      ]
     },
     "execution_count": 109,
     "metadata": {},
     "output_type": "execute_result"
    }
   ],
   "source": [
    "tp.triangular_standard_tableau()"
   ]
  },
  {
   "cell_type": "markdown",
   "id": "82d2d611-24f9-4fd8-b243-6143d78c475a",
   "metadata": {},
   "source": [
    "## $\\nu$-Tamari Lattice"
   ]
  },
  {
   "cell_type": "code",
   "execution_count": 149,
   "id": "4f747117-142e-4932-8b8c-cc17e2f93e56",
   "metadata": {},
   "outputs": [],
   "source": [
    "tr = TriangularPartition((7,6,4,3,1))"
   ]
  },
  {
   "cell_type": "code",
   "execution_count": 150,
   "id": "2e375aba-2584-4a8c-b6ba-7c1fc46b8eee",
   "metadata": {},
   "outputs": [],
   "source": [
    "tdp = TriangularDyckPath(tr, (6,3,2,2))"
   ]
  },
  {
   "cell_type": "code",
   "execution_count": 151,
   "id": "2d2138f4-e734-4f66-9791-6c455bcb1321",
   "metadata": {},
   "outputs": [
    {
     "data": {
      "text/plain": [
       "[[[7, 6, 4, 3, 1], [5, 3, 2, 2]],\n",
       " [[7, 6, 4, 3, 1], [6, 2, 2, 2]],\n",
       " [[7, 6, 4, 3, 1], [6, 2, 1, 1]]]"
      ]
     },
     "execution_count": 151,
     "metadata": {},
     "output_type": "execute_result"
    }
   ],
   "source": [
    "list(tdp.path_tamari_up())"
   ]
  },
  {
   "cell_type": "code",
   "execution_count": 12,
   "id": "b3c72006-7ff1-4bd8-aaff-89453aa211ce",
   "metadata": {},
   "outputs": [],
   "source": [
    "tr = TriangularPartition((4,2,1))"
   ]
  },
  {
   "cell_type": "code",
   "execution_count": 13,
   "id": "bd7adb8d-e64d-429c-8eae-4d3e81954495",
   "metadata": {},
   "outputs": [],
   "source": [
    "L = tr.path_tamari_lattice() # gives the nu Tamari lattice"
   ]
  },
  {
   "cell_type": "code",
   "execution_count": 14,
   "id": "e96ed6c1-95e5-473b-9da2-c401d8cbe811",
   "metadata": {},
   "outputs": [
    {
     "data": {
      "image/png": "[encoded data removed]",
      "text/plain": [
       "Finite lattice containing 19 elements"
      ]
     },
     "execution_count": 14,
     "metadata": {},
     "output_type": "execute_result"
    }
   ],
   "source": [
    "L"
   ]
  },
  {
   "cell_type": "code",
   "execution_count": 20,
   "id": "9b3ec039-292d-4690-a150-57acfcdb9709",
   "metadata": {},
   "outputs": [
    {
     "data": {
      "text/plain": [
       "[[1, 2, 4, 7], [3, 5], [6]]"
      ]
     },
     "execution_count": 20,
     "metadata": {},
     "output_type": "execute_result"
    }
   ],
   "source": [
    "tr.triangular_standard_tableau()"
   ]
  },
  {
   "cell_type": "markdown",
   "id": "f2420f46-1fa8-4a6f-bef1-7560a3fd0884",
   "metadata": {
    "jp-MarkdownHeadingCollapsed": true
   },
   "source": [
    "Is the distribution of intervals on the nu-Tamari lattice symmetric using the triangular tableau ?"
   ]
  },
  {
   "cell_type": "code",
   "execution_count": 15,
   "id": "976203f7-b794-40f8-8e5f-56af501a9db7",
   "metadata": {},
   "outputs": [],
   "source": [
    "d = tr.triangular_distance_sim_distribution_intervals()"
   ]
  },
  {
   "cell_type": "code",
   "execution_count": 16,
   "id": "ba158498-2c45-437e-a4ae-46a2e9340a43",
   "metadata": {},
   "outputs": [
    {
     "data": {
      "text/plain": [
       "False"
      ]
     },
     "execution_count": 16,
     "metadata": {},
     "output_type": "execute_result"
    }
   ],
   "source": [
    "test_symmetry_distribution(d)"
   ]
  },
  {
   "cell_type": "code",
   "execution_count": 22,
   "id": "6e54ed42-1093-4f8e-8303-69f22e8caa65",
   "metadata": {},
   "outputs": [
    {
     "data": {
      "text/plain": [
       "q^7 + q^6*t + q^5*t^2 + q^4*t^3 + q^3*t^4 + q^2*t^5 + q*t^6 + t^7 + q^6 + 2*q^5*t + 2*q^4*t^2 + 2*q^3*t^3 + 2*q^2*t^4 + 3*q*t^5 + t^6 + 2*q^5 + 4*q^4*t + 5*q^3*t^2 + 6*q^2*t^3 + 3*q*t^4 + 2*t^5 + 3*q^4 + 6*q^3*t + 6*q^2*t^2 + 6*q*t^3 + 3*t^4 + 4*q^3 + 8*q^2*t + 8*q*t^2 + 4*t^3 + 4*q^2 + 7*q*t + 4*t^2 + 3*q + 3*t + 1"
      ]
     },
     "execution_count": 22,
     "metadata": {},
     "output_type": "execute_result"
    }
   ],
   "source": [
    "pol = tr.Aqt_intervals()\n",
    "pol"
   ]
  },
  {
   "cell_type": "code",
   "execution_count": 23,
   "id": "c0740adf-1e0b-4c4c-8ad6-3fff062f8814",
   "metadata": {},
   "outputs": [],
   "source": [
    "q,t = pol.parent().gens()"
   ]
  },
  {
   "cell_type": "code",
   "execution_count": 24,
   "id": "9bb96227-7d8b-4d89-af6a-cce89cfcf60e",
   "metadata": {},
   "outputs": [
    {
     "data": {
      "text/plain": [
       "False"
      ]
     },
     "execution_count": 24,
     "metadata": {},
     "output_type": "execute_result"
    }
   ],
   "source": [
    "pol(q,t) == pol(t,q) # pol is not symmetric"
   ]
  },
  {
   "cell_type": "code",
   "execution_count": 26,
   "id": "8d3769f6-1009-429b-956a-691f29293bf5",
   "metadata": {},
   "outputs": [],
   "source": [
    "tr = TriangularPartition((4,3,1))"
   ]
  },
  {
   "cell_type": "code",
   "execution_count": 27,
   "id": "41597ecb-452c-4dad-9bea-fbb04e812d55",
   "metadata": {},
   "outputs": [],
   "source": [
    "L = tr.path_tamari_lattice()"
   ]
  },
  {
   "cell_type": "code",
   "execution_count": 28,
   "id": "ea3d3a35-f829-49a0-ab97-e7366c8a8227",
   "metadata": {},
   "outputs": [
    {
     "data": {
      "text/plain": [
       "Finite lattice containing 23 elements (use the .plot() method to plot)"
      ]
     },
     "execution_count": 28,
     "metadata": {},
     "output_type": "execute_result"
    }
   ],
   "source": [
    "L"
   ]
  },
  {
   "cell_type": "code",
   "execution_count": 31,
   "id": "67abbfb7-5198-4ad4-9318-800929f0e4f2",
   "metadata": {},
   "outputs": [],
   "source": [
    "tabs = list(tr.sim_sym_tableaux())"
   ]
  },
  {
   "cell_type": "code",
   "execution_count": 32,
   "id": "43b62ec0-6f46-45de-86c7-805e9365ca03",
   "metadata": {},
   "outputs": [
    {
     "data": {
      "text/plain": [
       "[[[1, 3, 4, 7], [2, 5, 8], [6]],\n",
       " [[1, 2, 4, 7], [3, 5, 8], [6]],\n",
       " [[1, 3, 4, 6], [2, 5, 8], [7]],\n",
       " [[1, 2, 4, 6], [3, 5, 8], [7]]]"
      ]
     },
     "execution_count": 32,
     "metadata": {},
     "output_type": "execute_result"
    }
   ],
   "source": [
    "tabs"
   ]
  },
  {
   "cell_type": "code",
   "execution_count": 33,
   "id": "55a8f79b-8a8c-4a45-8f65-90a2b798dfb4",
   "metadata": {},
   "outputs": [
    {
     "data": {
      "text/plain": [
       "False"
      ]
     },
     "execution_count": 33,
     "metadata": {},
     "output_type": "execute_result"
    }
   ],
   "source": [
    "any(test_symmetry_distribution(poset_distance_sim_distribution_intervals(L, tab)) for tab in tabs)"
   ]
  },
  {
   "cell_type": "markdown",
   "id": "bb9be9bc-092a-4bfd-a204-a2389e71c6e8",
   "metadata": {},
   "source": [
    "## Conjecture"
   ]
  },
  {
   "cell_type": "code",
   "execution_count": 2,
   "id": "4097d91e-18ba-4626-829a-cad20bde9068",
   "metadata": {},
   "outputs": [],
   "source": [
    "tr = TriangularPartition((4,2,1))"
   ]
  },
  {
   "cell_type": "code",
   "execution_count": 3,
   "id": "8f3a0f27-d599-4311-844d-096d59a94519",
   "metadata": {},
   "outputs": [
    {
     "data": {
      "text/plain": [
       "[[1, 2, 3, 5], [4, 6], [7]]"
      ]
     },
     "execution_count": 3,
     "metadata": {},
     "output_type": "execute_result"
    }
   ],
   "source": [
    "tab = tr.top_down_standard_tableau()\n",
    "tab"
   ]
  },
  {
   "cell_type": "code",
   "execution_count": 4,
   "id": "9d1621f7-6544-4775-9efc-f8c4b9780918",
   "metadata": {},
   "outputs": [],
   "source": [
    "d = tr.top_down_distance_sim_distribution_intervals()"
   ]
  },
  {
   "cell_type": "code",
   "execution_count": 5,
   "id": "1c560991-ec31-4314-b9fd-d92cd03e25f0",
   "metadata": {},
   "outputs": [
    {
     "data": {
      "text/plain": [
       "True"
      ]
     },
     "execution_count": 5,
     "metadata": {},
     "output_type": "execute_result"
    }
   ],
   "source": [
    "test_symmetry_distribution(d)"
   ]
  },
  {
   "cell_type": "code",
   "execution_count": 6,
   "id": "6024ec8e-0f0f-4886-b39f-c0f92ffaf455",
   "metadata": {},
   "outputs": [
    {
     "data": {
      "text/plain": [
       "q^7 + q^6*t + q^5*t^2 + q^4*t^3 + q^3*t^4 + q^2*t^5 + q*t^6 + t^7 + q^6 + 2*q^5*t + 2*q^4*t^2 + 2*q^3*t^3 + 2*q^2*t^4 + 2*q*t^5 + t^6 + 2*q^5 + 4*q^4*t + 5*q^3*t^2 + 5*q^2*t^3 + 4*q*t^4 + 2*t^5 + 3*q^4 + 6*q^3*t + 7*q^2*t^2 + 6*q*t^3 + 3*t^4 + 4*q^3 + 8*q^2*t + 8*q*t^2 + 4*t^3 + 4*q^2 + 7*q*t + 4*t^2 + 3*q + 3*t + 1"
      ]
     },
     "execution_count": 6,
     "metadata": {},
     "output_type": "execute_result"
    }
   ],
   "source": [
    "pol = tr.Aqt_intervals(tableau = tab)\n",
    "pol"
   ]
  },
  {
   "cell_type": "code",
   "execution_count": 7,
   "id": "06cc01f2-d7b7-4426-9c5b-84a26353b018",
   "metadata": {},
   "outputs": [],
   "source": [
    "q,t = pol.parent().gens()"
   ]
  },
  {
   "cell_type": "code",
   "execution_count": 8,
   "id": "21cf7af2-4b82-4173-b185-646c379a2616",
   "metadata": {},
   "outputs": [
    {
     "data": {
      "text/plain": [
       "True"
      ]
     },
     "execution_count": 8,
     "metadata": {},
     "output_type": "execute_result"
    }
   ],
   "source": [
    "pol(q,t) == pol(t,q)"
   ]
  },
  {
   "cell_type": "code",
   "execution_count": 12,
   "id": "05b696fc-8f5a-49ac-aa25-74b92dbf3b07",
   "metadata": {},
   "outputs": [],
   "source": [
    "Sym = SymmetricFunctions(QQ[q,t])"
   ]
  },
  {
   "cell_type": "code",
   "execution_count": 13,
   "id": "28b1dbc8-ec15-4d3b-84af-4b59d972ccda",
   "metadata": {},
   "outputs": [],
   "source": [
    "schur = Sym.schur()"
   ]
  },
  {
   "cell_type": "code",
   "execution_count": 14,
   "id": "5d0cea76-cfeb-491f-873a-9341ac846249",
   "metadata": {},
   "outputs": [
    {
     "data": {
      "text/plain": [
       "s[2, 1, 1] + s[3, 2] + s[4, 1] + s[5, 1] + s[7]"
      ]
     },
     "execution_count": 14,
     "metadata": {},
     "output_type": "execute_result"
    }
   ],
   "source": [
    "Al = schur[2, 1, 1] + schur[3, 2] + schur[4, 1] + schur[5, 1] + schur[7]\n",
    "Al"
   ]
  },
  {
   "cell_type": "code",
   "execution_count": 15,
   "id": "fdef7c6e-2733-4e55-a3fb-cc9e930bbf3c",
   "metadata": {},
   "outputs": [
    {
     "data": {
      "text/plain": [
       "True"
      ]
     },
     "execution_count": 15,
     "metadata": {},
     "output_type": "execute_result"
    }
   ],
   "source": [
    "pol == Al.expand(3)(q,t,1)"
   ]
  },
  {
   "cell_type": "code",
   "execution_count": 17,
   "id": "b7c824f4-6904-4356-9363-25626cafb875",
   "metadata": {},
   "outputs": [],
   "source": [
    "tr = TriangularPartition((4,3,1))"
   ]
  },
  {
   "cell_type": "code",
   "execution_count": 18,
   "id": "3a0ae908-0d52-4a1b-9fad-8b810e51181e",
   "metadata": {},
   "outputs": [
    {
     "data": {
      "text/plain": [
       "[[1, 2, 4, 6], [3, 5, 7], [8]]"
      ]
     },
     "execution_count": 18,
     "metadata": {},
     "output_type": "execute_result"
    }
   ],
   "source": [
    "tab = tr.top_down_standard_tableau()\n",
    "tab"
   ]
  },
  {
   "cell_type": "code",
   "execution_count": 20,
   "id": "feb82863-4d4f-4c09-bfb2-f5129a40b7d7",
   "metadata": {},
   "outputs": [
    {
     "data": {
      "text/plain": [
       "False"
      ]
     },
     "execution_count": 20,
     "metadata": {},
     "output_type": "execute_result"
    }
   ],
   "source": [
    "tr.top_down_is_sim_sym()"
   ]
  },
  {
   "cell_type": "code",
   "execution_count": 21,
   "id": "7ba88462-16bd-4343-a9ce-f361dca1cf33",
   "metadata": {},
   "outputs": [],
   "source": [
    "d = tr.area_sim_distribution(tableau = tab)"
   ]
  },
  {
   "cell_type": "code",
   "execution_count": 22,
   "id": "7124db7d-3072-4d15-9845-765275529e4d",
   "metadata": {},
   "outputs": [
    {
     "data": {
      "text/plain": [
       "False"
      ]
     },
     "execution_count": 22,
     "metadata": {},
     "output_type": "execute_result"
    }
   ],
   "source": [
    "test_symmetry_distribution(d)"
   ]
  },
  {
   "cell_type": "code",
   "execution_count": 23,
   "id": "c94ebe86-9b52-435d-af90-4db9b9edcc98",
   "metadata": {},
   "outputs": [
    {
     "data": {
      "text/plain": [
       "[(3, 2)]"
      ]
     },
     "execution_count": 23,
     "metadata": {},
     "output_type": "execute_result"
    }
   ],
   "source": [
    "[(a,s) for a,s in d if d[(a,s)] != d.get((s,a), 0)]"
   ]
  },
  {
   "cell_type": "code",
   "execution_count": 24,
   "id": "9428f5b1-f3fc-4baa-809d-73e1011758bf",
   "metadata": {},
   "outputs": [
    {
     "data": {
      "text/plain": [
       "[[4, 3, 1], [2, 2, 1]]"
      ]
     },
     "execution_count": 24,
     "metadata": {},
     "output_type": "execute_result"
    }
   ],
   "source": [
    "tdp = [tdp for tdp in tr.triangular_dyck_paths() if tdp.area() == 3 and tdp.sim(tableau = tab)==2][0]\n",
    "tdp"
   ]
  },
  {
   "cell_type": "markdown",
   "id": "24182f59-80d5-4f8a-8b49-82d5a60c6780",
   "metadata": {},
   "source": [
    "Checking the conjecture :"
   ]
  },
  {
   "cell_type": "markdown",
   "id": "1e28141c-9f28-4a01-8d70-5cdb51b7696c",
   "metadata": {},
   "source": [
    "* symmetry of the interval polynomials (tested up to size 21)"
   ]
  },
  {
   "cell_type": "code",
   "execution_count": 27,
   "id": "e17d2ccf-3a10-4796-865c-a1e04acfcde3",
   "metadata": {},
   "outputs": [],
   "source": [
    "def test_both_symmetry(n):\n",
    "    for tr in TriangularPartitions(n):\n",
    "        if tr.top_down_is_sim_sym():\n",
    "            print(tr)\n",
    "            d = tr.top_down_distance_sim_distribution_intervals()\n",
    "            if not test_symmetry_distribution(d):\n",
    "                return tr\n",
    "    return True"
   ]
  },
  {
   "cell_type": "code",
   "execution_count": 28,
   "id": "dd22ba7f-9620-4526-bfbd-b5df96739774",
   "metadata": {},
   "outputs": [
    {
     "name": "stdout",
     "output_type": "stream",
     "text": [
      "[3]\n",
      "[2, 1]\n",
      "[1, 1, 1]\n"
     ]
    },
    {
     "data": {
      "text/plain": [
       "True"
      ]
     },
     "execution_count": 28,
     "metadata": {},
     "output_type": "execute_result"
    }
   ],
   "source": [
    "test_both_symmetry(3)"
   ]
  },
  {
   "cell_type": "code",
   "execution_count": 29,
   "id": "4012d41f-644a-4885-8b1e-06990b5cb5af",
   "metadata": {},
   "outputs": [
    {
     "name": "stdout",
     "output_type": "stream",
     "text": [
      "[4]\n",
      "[3, 1]\n",
      "[2, 1, 1]\n",
      "[1, 1, 1, 1]\n"
     ]
    },
    {
     "data": {
      "text/plain": [
       "True"
      ]
     },
     "execution_count": 29,
     "metadata": {},
     "output_type": "execute_result"
    }
   ],
   "source": [
    "test_both_symmetry(4)"
   ]
  },
  {
   "cell_type": "code",
   "execution_count": 30,
   "id": "0a4341a5-1389-4375-a804-fb52b5ef8d55",
   "metadata": {},
   "outputs": [
    {
     "name": "stdout",
     "output_type": "stream",
     "text": [
      "[5]\n",
      "[4, 1]\n",
      "[3, 2]\n",
      "[2, 1, 1, 1]\n",
      "[1, 1, 1, 1, 1]\n"
     ]
    },
    {
     "data": {
      "text/plain": [
       "True"
      ]
     },
     "execution_count": 30,
     "metadata": {},
     "output_type": "execute_result"
    }
   ],
   "source": [
    "test_both_symmetry(5)"
   ]
  },
  {
   "cell_type": "code",
   "execution_count": 31,
   "id": "fb0b2ba3-ff43-4de8-9f55-bd12608402ca",
   "metadata": {},
   "outputs": [
    {
     "name": "stdout",
     "output_type": "stream",
     "text": [
      "[6]\n",
      "[5, 1]\n",
      "[4, 2]\n",
      "[3, 2, 1]\n",
      "[2, 1, 1, 1, 1]\n",
      "[1, 1, 1, 1, 1, 1]\n"
     ]
    },
    {
     "data": {
      "text/plain": [
       "True"
      ]
     },
     "execution_count": 31,
     "metadata": {},
     "output_type": "execute_result"
    }
   ],
   "source": [
    "test_both_symmetry(6)"
   ]
  },
  {
   "cell_type": "code",
   "execution_count": 32,
   "id": "4e4fc5d2-0956-4655-ae59-0defd160b002",
   "metadata": {},
   "outputs": [
    {
     "name": "stdout",
     "output_type": "stream",
     "text": [
      "[7]\n",
      "[6, 1]\n",
      "[5, 2]\n",
      "[4, 2, 1]\n",
      "[3, 2, 1, 1]\n",
      "[2, 1, 1, 1, 1, 1]\n",
      "[1, 1, 1, 1, 1, 1, 1]\n"
     ]
    },
    {
     "data": {
      "text/plain": [
       "True"
      ]
     },
     "execution_count": 32,
     "metadata": {},
     "output_type": "execute_result"
    }
   ],
   "source": [
    "test_both_symmetry(7)"
   ]
  },
  {
   "cell_type": "code",
   "execution_count": 33,
   "id": "b02ed36c-4d19-4eb0-910b-bb2002663830",
   "metadata": {},
   "outputs": [
    {
     "name": "stdout",
     "output_type": "stream",
     "text": [
      "[8]\n",
      "[7, 1]\n",
      "[6, 2]\n",
      "[5, 3]\n",
      "[2, 1, 1, 1, 1, 1, 1]\n",
      "[1, 1, 1, 1, 1, 1, 1, 1]\n"
     ]
    },
    {
     "data": {
      "text/plain": [
       "True"
      ]
     },
     "execution_count": 33,
     "metadata": {},
     "output_type": "execute_result"
    }
   ],
   "source": [
    "test_both_symmetry(8)"
   ]
  },
  {
   "cell_type": "code",
   "execution_count": 34,
   "id": "c888cdb3-333a-4621-b31f-abddd9a89117",
   "metadata": {},
   "outputs": [
    {
     "name": "stdout",
     "output_type": "stream",
     "text": [
      "[9]\n",
      "[8, 1]\n",
      "[7, 2]\n",
      "[6, 3]\n",
      "[5, 3, 1]\n",
      "[4, 3, 2]\n",
      "[2, 1, 1, 1, 1, 1, 1, 1]\n",
      "[1, 1, 1, 1, 1, 1, 1, 1, 1]\n"
     ]
    },
    {
     "data": {
      "text/plain": [
       "True"
      ]
     },
     "execution_count": 34,
     "metadata": {},
     "output_type": "execute_result"
    }
   ],
   "source": [
    "test_both_symmetry(9)"
   ]
  },
  {
   "cell_type": "code",
   "execution_count": 35,
   "id": "439f7037-bc4f-4ba4-8808-17274a7bd2a7",
   "metadata": {},
   "outputs": [
    {
     "name": "stdout",
     "output_type": "stream",
     "text": [
      "[10]\n",
      "[9, 1]\n",
      "[8, 2]\n",
      "[7, 3]\n",
      "[6, 3, 1]\n",
      "[4, 3, 2, 1]\n",
      "[2, 1, 1, 1, 1, 1, 1, 1, 1]\n",
      "[1, 1, 1, 1, 1, 1, 1, 1, 1, 1]\n"
     ]
    },
    {
     "data": {
      "text/plain": [
       "True"
      ]
     },
     "execution_count": 35,
     "metadata": {},
     "output_type": "execute_result"
    }
   ],
   "source": [
    "test_both_symmetry(10)"
   ]
  },
  {
   "cell_type": "code",
   "execution_count": 36,
   "id": "f2725649-7b4a-4711-925e-db11fd2e06d7",
   "metadata": {},
   "outputs": [
    {
     "name": "stdout",
     "output_type": "stream",
     "text": [
      "[11]\n",
      "[10, 1]\n",
      "[9, 2]\n",
      "[8, 3]\n",
      "[7, 4]\n",
      "[4, 3, 2, 1, 1]\n",
      "[2, 1, 1, 1, 1, 1, 1, 1, 1, 1]\n",
      "[1, 1, 1, 1, 1, 1, 1, 1, 1, 1, 1]\n"
     ]
    },
    {
     "data": {
      "text/plain": [
       "True"
      ]
     },
     "execution_count": 36,
     "metadata": {},
     "output_type": "execute_result"
    }
   ],
   "source": [
    "test_both_symmetry(11)"
   ]
  },
  {
   "cell_type": "code",
   "execution_count": 37,
   "id": "c7606516-87ef-4a6e-992d-feab0e6fe205",
   "metadata": {},
   "outputs": [
    {
     "name": "stdout",
     "output_type": "stream",
     "text": [
      "[12]\n",
      "[11, 1]\n",
      "[10, 2]\n",
      "[9, 3]\n",
      "[8, 4]\n",
      "[7, 4, 1]\n",
      "[6, 4, 2]\n",
      "[2, 1, 1, 1, 1, 1, 1, 1, 1, 1, 1]\n",
      "[1, 1, 1, 1, 1, 1, 1, 1, 1, 1, 1, 1]\n"
     ]
    },
    {
     "data": {
      "text/plain": [
       "True"
      ]
     },
     "execution_count": 37,
     "metadata": {},
     "output_type": "execute_result"
    }
   ],
   "source": [
    "test_both_symmetry(12)"
   ]
  },
  {
   "cell_type": "code",
   "execution_count": 38,
   "id": "a28d3093-2d41-4063-a8c4-d617962853a8",
   "metadata": {},
   "outputs": [
    {
     "name": "stdout",
     "output_type": "stream",
     "text": [
      "[13]\n",
      "[12, 1]\n",
      "[11, 2]\n",
      "[10, 3]\n",
      "[9, 4]\n",
      "[8, 4, 1]\n",
      "[6, 4, 2, 1]\n",
      "[2, 1, 1, 1, 1, 1, 1, 1, 1, 1, 1, 1]\n",
      "[1, 1, 1, 1, 1, 1, 1, 1, 1, 1, 1, 1, 1]\n"
     ]
    },
    {
     "data": {
      "text/plain": [
       "True"
      ]
     },
     "execution_count": 38,
     "metadata": {},
     "output_type": "execute_result"
    }
   ],
   "source": [
    "test_both_symmetry(13)"
   ]
  },
  {
   "cell_type": "code",
   "execution_count": 39,
   "id": "cd946ad5-f604-49bb-ae20-ce889fb7bc1a",
   "metadata": {},
   "outputs": [
    {
     "name": "stdout",
     "output_type": "stream",
     "text": [
      "[14]\n",
      "[13, 1]\n",
      "[12, 2]\n",
      "[11, 3]\n",
      "[10, 4]\n",
      "[9, 5]\n",
      "[5, 4, 3, 2]\n",
      "[2, 1, 1, 1, 1, 1, 1, 1, 1, 1, 1, 1, 1]\n",
      "[1, 1, 1, 1, 1, 1, 1, 1, 1, 1, 1, 1, 1, 1]\n"
     ]
    },
    {
     "data": {
      "text/plain": [
       "True"
      ]
     },
     "execution_count": 39,
     "metadata": {},
     "output_type": "execute_result"
    }
   ],
   "source": [
    "test_both_symmetry(14)"
   ]
  },
  {
   "cell_type": "code",
   "execution_count": 40,
   "id": "3ae1cbc8-8096-4352-9d3d-a7702cded46a",
   "metadata": {},
   "outputs": [
    {
     "name": "stdout",
     "output_type": "stream",
     "text": [
      "[15]\n",
      "[14, 1]\n",
      "[13, 2]\n",
      "[12, 3]\n",
      "[11, 4]\n",
      "[10, 5]\n",
      "[9, 5, 1]\n",
      "[8, 5, 2]\n",
      "[7, 5, 3]\n",
      "[5, 4, 3, 2, 1]\n",
      "[2, 1, 1, 1, 1, 1, 1, 1, 1, 1, 1, 1, 1, 1]\n",
      "[1, 1, 1, 1, 1, 1, 1, 1, 1, 1, 1, 1, 1, 1, 1]\n"
     ]
    },
    {
     "data": {
      "text/plain": [
       "True"
      ]
     },
     "execution_count": 40,
     "metadata": {},
     "output_type": "execute_result"
    }
   ],
   "source": [
    "test_both_symmetry(15)"
   ]
  },
  {
   "cell_type": "code",
   "execution_count": 41,
   "id": "2f13eb55-302a-42cf-a149-1b7ac32aeffd",
   "metadata": {},
   "outputs": [
    {
     "name": "stdout",
     "output_type": "stream",
     "text": [
      "[16]\n",
      "[15, 1]\n",
      "[14, 2]\n",
      "[13, 3]\n",
      "[12, 4]\n",
      "[11, 5]\n",
      "[10, 5, 1]\n",
      "[7, 5, 3, 1]\n",
      "[5, 4, 3, 2, 1, 1]\n",
      "[2, 1, 1, 1, 1, 1, 1, 1, 1, 1, 1, 1, 1, 1, 1]\n",
      "[1, 1, 1, 1, 1, 1, 1, 1, 1, 1, 1, 1, 1, 1, 1, 1]\n"
     ]
    },
    {
     "data": {
      "text/plain": [
       "True"
      ]
     },
     "execution_count": 41,
     "metadata": {},
     "output_type": "execute_result"
    }
   ],
   "source": [
    "test_both_symmetry(16)"
   ]
  },
  {
   "cell_type": "code",
   "execution_count": 42,
   "id": "03fa6d7b-03f8-4fc8-9e71-cdb6e4a629ec",
   "metadata": {},
   "outputs": [
    {
     "name": "stdout",
     "output_type": "stream",
     "text": [
      "[17]\n",
      "[16, 1]\n",
      "[15, 2]\n",
      "[14, 3]\n",
      "[13, 4]\n",
      "[12, 5]\n",
      "[11, 6]\n",
      "[2, 1, 1, 1, 1, 1, 1, 1, 1, 1, 1, 1, 1, 1, 1, 1]\n",
      "[1, 1, 1, 1, 1, 1, 1, 1, 1, 1, 1, 1, 1, 1, 1, 1, 1]\n"
     ]
    },
    {
     "data": {
      "text/plain": [
       "True"
      ]
     },
     "execution_count": 42,
     "metadata": {},
     "output_type": "execute_result"
    }
   ],
   "source": [
    "test_both_symmetry(17)"
   ]
  },
  {
   "cell_type": "code",
   "execution_count": 43,
   "id": "66760fae-28e1-4d03-af6b-8b9b5a4a375c",
   "metadata": {},
   "outputs": [
    {
     "name": "stdout",
     "output_type": "stream",
     "text": [
      "[18]\n",
      "[17, 1]\n",
      "[16, 2]\n",
      "[15, 3]\n",
      "[14, 4]\n",
      "[13, 5]\n",
      "[12, 6]\n",
      "[11, 6, 1]\n",
      "[10, 6, 2]\n",
      "[9, 6, 3]\n",
      "[2, 1, 1, 1, 1, 1, 1, 1, 1, 1, 1, 1, 1, 1, 1, 1, 1]\n",
      "[1, 1, 1, 1, 1, 1, 1, 1, 1, 1, 1, 1, 1, 1, 1, 1, 1, 1]\n"
     ]
    },
    {
     "data": {
      "text/plain": [
       "True"
      ]
     },
     "execution_count": 43,
     "metadata": {},
     "output_type": "execute_result"
    }
   ],
   "source": [
    "test_both_symmetry(18)"
   ]
  },
  {
   "cell_type": "code",
   "execution_count": 44,
   "id": "e5b84835-0761-4692-a1df-e3e01653088f",
   "metadata": {},
   "outputs": [
    {
     "name": "stdout",
     "output_type": "stream",
     "text": [
      "[19]\n",
      "[18, 1]\n",
      "[17, 2]\n",
      "[16, 3]\n",
      "[15, 4]\n",
      "[14, 5]\n",
      "[13, 6]\n",
      "[12, 6, 1]\n",
      "[9, 6, 3, 1]\n",
      "[2, 1, 1, 1, 1, 1, 1, 1, 1, 1, 1, 1, 1, 1, 1, 1, 1, 1]\n",
      "[1, 1, 1, 1, 1, 1, 1, 1, 1, 1, 1, 1, 1, 1, 1, 1, 1, 1, 1]\n"
     ]
    },
    {
     "data": {
      "text/plain": [
       "True"
      ]
     },
     "execution_count": 44,
     "metadata": {},
     "output_type": "execute_result"
    }
   ],
   "source": [
    "test_both_symmetry(19)"
   ]
  },
  {
   "cell_type": "code",
   "execution_count": 45,
   "id": "e53b5b3d-a1c5-4a3e-99ed-b4d2ec569447",
   "metadata": {},
   "outputs": [
    {
     "name": "stdout",
     "output_type": "stream",
     "text": [
      "[20]\n",
      "[19, 1]\n",
      "[18, 2]\n",
      "[17, 3]\n",
      "[16, 4]\n",
      "[15, 5]\n",
      "[14, 6]\n",
      "[13, 7]\n",
      "[8, 6, 4, 2]\n",
      "[6, 5, 4, 3, 2]\n",
      "[2, 1, 1, 1, 1, 1, 1, 1, 1, 1, 1, 1, 1, 1, 1, 1, 1, 1, 1]\n",
      "[1, 1, 1, 1, 1, 1, 1, 1, 1, 1, 1, 1, 1, 1, 1, 1, 1, 1, 1, 1]\n"
     ]
    },
    {
     "data": {
      "text/plain": [
       "True"
      ]
     },
     "execution_count": 45,
     "metadata": {},
     "output_type": "execute_result"
    }
   ],
   "source": [
    "test_both_symmetry(20)"
   ]
  },
  {
   "cell_type": "code",
   "execution_count": 46,
   "id": "23f318ab-ffed-499d-8c2f-2855d18b09fa",
   "metadata": {},
   "outputs": [
    {
     "name": "stdout",
     "output_type": "stream",
     "text": [
      "[21]\n",
      "[20, 1]\n",
      "[19, 2]\n",
      "[18, 3]\n",
      "[17, 4]\n",
      "[16, 5]\n",
      "[15, 6]\n",
      "[14, 7]\n",
      "[13, 7, 1]\n",
      "[12, 7, 2]\n",
      "[11, 7, 3]\n",
      "[10, 7, 4]\n",
      "[8, 6, 4, 2, 1]\n",
      "[6, 5, 4, 3, 2, 1]\n",
      "[2, 1, 1, 1, 1, 1, 1, 1, 1, 1, 1, 1, 1, 1, 1, 1, 1, 1, 1, 1]\n",
      "[1, 1, 1, 1, 1, 1, 1, 1, 1, 1, 1, 1, 1, 1, 1, 1, 1, 1, 1, 1, 1]\n"
     ]
    },
    {
     "data": {
      "text/plain": [
       "True"
      ]
     },
     "execution_count": 46,
     "metadata": {},
     "output_type": "execute_result"
    }
   ],
   "source": [
    "test_both_symmetry(21)"
   ]
  },
  {
   "cell_type": "code",
   "execution_count": 47,
   "id": "192b9b69-af12-4d9c-9fa0-483b65eccb42",
   "metadata": {},
   "outputs": [
    {
     "data": {
      "text/plain": [
       "Finite lattice containing 416 elements (use the .plot() method to plot)"
      ]
     },
     "execution_count": 47,
     "metadata": {},
     "output_type": "execute_result"
    }
   ],
   "source": [
    "tr = TriangularPartition((8, 6, 4, 2, 1))\n",
    "L = tr.path_tamari_lattice()\n",
    "L"
   ]
  },
  {
   "cell_type": "code",
   "execution_count": 48,
   "id": "9ec36680-3e6d-4cad-a4b9-2b754cf352a6",
   "metadata": {},
   "outputs": [
    {
     "data": {
      "text/plain": [
       "17388"
      ]
     },
     "execution_count": 48,
     "metadata": {},
     "output_type": "execute_result"
    }
   ],
   "source": [
    "len(L.relations())"
   ]
  },
  {
   "cell_type": "markdown",
   "id": "1422e17e-d282-4692-b2f0-b9c73beda71c",
   "metadata": {},
   "source": [
    "Testing the Schur positivity"
   ]
  },
  {
   "cell_type": "code",
   "execution_count": 57,
   "id": "b3c7e980-461f-4aab-a797-ccb4132f2085",
   "metadata": {},
   "outputs": [],
   "source": [
    "def test_schur_positive_simsym(n):\n",
    "    for tr in TriangularPartitions(n):\n",
    "        if tr.top_down_is_sim_sym():\n",
    "            print(tr)\n",
    "            d = tr.top_down_distance_sim_distribution_intervals()\n",
    "            pol = sum(d[k]*q**k[0]*t**k[1] for k in d)\n",
    "            S = schur.from_polynomial(pol)\n",
    "            if not all(c>0 for p,c in S if len(p) <= 2):\n",
    "                return tr\n",
    "    return True"
   ]
  },
  {
   "cell_type": "code",
   "execution_count": 2,
   "id": "a80b3ea4-0c7c-45e6-b57f-eb7ba81be99a",
   "metadata": {},
   "outputs": [],
   "source": [
    "K.<q,t> = QQ[]\n",
    "Sym = SymmetricFunctions(QQ)\n",
    "schur = Sym.schur()"
   ]
  },
  {
   "cell_type": "code",
   "execution_count": 59,
   "id": "513569cf-080d-4b72-b89a-005d689f8930",
   "metadata": {},
   "outputs": [
    {
     "name": "stdout",
     "output_type": "stream",
     "text": [
      "[3]\n",
      "[2, 1]\n",
      "[1, 1, 1]\n"
     ]
    },
    {
     "data": {
      "text/plain": [
       "True"
      ]
     },
     "execution_count": 59,
     "metadata": {},
     "output_type": "execute_result"
    }
   ],
   "source": [
    "test_schur_positive_simsym(3)"
   ]
  },
  {
   "cell_type": "code",
   "execution_count": 60,
   "id": "11145480-bd18-4445-98f6-8e3be7e5bf47",
   "metadata": {},
   "outputs": [
    {
     "name": "stdout",
     "output_type": "stream",
     "text": [
      "[4]\n",
      "[3, 1]\n",
      "[2, 1, 1]\n",
      "[1, 1, 1, 1]\n"
     ]
    },
    {
     "data": {
      "text/plain": [
       "True"
      ]
     },
     "execution_count": 60,
     "metadata": {},
     "output_type": "execute_result"
    }
   ],
   "source": [
    "test_schur_positive_simsym(4)"
   ]
  },
  {
   "cell_type": "code",
   "execution_count": 61,
   "id": "2c0d692f-033e-403c-87e7-2bfba658d10c",
   "metadata": {},
   "outputs": [
    {
     "name": "stdout",
     "output_type": "stream",
     "text": [
      "[5]\n",
      "[4, 1]\n",
      "[3, 2]\n",
      "[2, 1, 1, 1]\n",
      "[1, 1, 1, 1, 1]\n"
     ]
    },
    {
     "data": {
      "text/plain": [
       "True"
      ]
     },
     "execution_count": 61,
     "metadata": {},
     "output_type": "execute_result"
    }
   ],
   "source": [
    "test_schur_positive_simsym(5)"
   ]
  },
  {
   "cell_type": "code",
   "execution_count": 62,
   "id": "f9d86b0f-0356-420a-b35f-ac6e6146c64f",
   "metadata": {},
   "outputs": [
    {
     "name": "stdout",
     "output_type": "stream",
     "text": [
      "[6]\n",
      "[5, 1]\n",
      "[4, 2]\n",
      "[3, 2, 1]\n",
      "[2, 1, 1, 1, 1]\n",
      "[1, 1, 1, 1, 1, 1]\n"
     ]
    },
    {
     "data": {
      "text/plain": [
       "True"
      ]
     },
     "execution_count": 62,
     "metadata": {},
     "output_type": "execute_result"
    }
   ],
   "source": [
    "test_schur_positive_simsym(6)"
   ]
  },
  {
   "cell_type": "code",
   "execution_count": 63,
   "id": "7ac8d280-4235-4924-bc48-e44fad07c809",
   "metadata": {},
   "outputs": [
    {
     "name": "stdout",
     "output_type": "stream",
     "text": [
      "[7]\n",
      "[6, 1]\n",
      "[5, 2]\n",
      "[4, 2, 1]\n",
      "[3, 2, 1, 1]\n",
      "[2, 1, 1, 1, 1, 1]\n",
      "[1, 1, 1, 1, 1, 1, 1]\n"
     ]
    },
    {
     "data": {
      "text/plain": [
       "True"
      ]
     },
     "execution_count": 63,
     "metadata": {},
     "output_type": "execute_result"
    }
   ],
   "source": [
    "test_schur_positive_simsym(7)"
   ]
  },
  {
   "cell_type": "code",
   "execution_count": 64,
   "id": "377f626f-a74c-4932-8878-d72ab77434ab",
   "metadata": {},
   "outputs": [
    {
     "name": "stdout",
     "output_type": "stream",
     "text": [
      "[8]\n",
      "[7, 1]\n",
      "[6, 2]\n",
      "[5, 3]\n",
      "[2, 1, 1, 1, 1, 1, 1]\n",
      "[1, 1, 1, 1, 1, 1, 1, 1]\n"
     ]
    },
    {
     "data": {
      "text/plain": [
       "True"
      ]
     },
     "execution_count": 64,
     "metadata": {},
     "output_type": "execute_result"
    }
   ],
   "source": [
    "test_schur_positive_simsym(8)"
   ]
  },
  {
   "cell_type": "code",
   "execution_count": 65,
   "id": "cf532809-47dc-485c-a30d-b4ed907a0216",
   "metadata": {},
   "outputs": [
    {
     "name": "stdout",
     "output_type": "stream",
     "text": [
      "[9]\n",
      "[8, 1]\n",
      "[7, 2]\n",
      "[6, 3]\n",
      "[5, 3, 1]\n",
      "[4, 3, 2]\n",
      "[2, 1, 1, 1, 1, 1, 1, 1]\n",
      "[1, 1, 1, 1, 1, 1, 1, 1, 1]\n"
     ]
    },
    {
     "data": {
      "text/plain": [
       "True"
      ]
     },
     "execution_count": 65,
     "metadata": {},
     "output_type": "execute_result"
    }
   ],
   "source": [
    "test_schur_positive_simsym(9)"
   ]
  },
  {
   "cell_type": "code",
   "execution_count": 66,
   "id": "6e20f3df-35df-4bb4-8d3c-1f4de79365d6",
   "metadata": {},
   "outputs": [
    {
     "name": "stdout",
     "output_type": "stream",
     "text": [
      "[10]\n",
      "[9, 1]\n",
      "[8, 2]\n",
      "[7, 3]\n",
      "[6, 3, 1]\n",
      "[4, 3, 2, 1]\n",
      "[2, 1, 1, 1, 1, 1, 1, 1, 1]\n",
      "[1, 1, 1, 1, 1, 1, 1, 1, 1, 1]\n"
     ]
    },
    {
     "data": {
      "text/plain": [
       "True"
      ]
     },
     "execution_count": 66,
     "metadata": {},
     "output_type": "execute_result"
    }
   ],
   "source": [
    "test_schur_positive_simsym(10)"
   ]
  },
  {
   "cell_type": "code",
   "execution_count": 67,
   "id": "4d846afa-f844-4e4d-9fbd-c20c9f36aa3d",
   "metadata": {},
   "outputs": [
    {
     "name": "stdout",
     "output_type": "stream",
     "text": [
      "[11]\n",
      "[10, 1]\n",
      "[9, 2]\n",
      "[8, 3]\n",
      "[7, 4]\n",
      "[4, 3, 2, 1, 1]\n",
      "[2, 1, 1, 1, 1, 1, 1, 1, 1, 1]\n",
      "[1, 1, 1, 1, 1, 1, 1, 1, 1, 1, 1]\n"
     ]
    },
    {
     "data": {
      "text/plain": [
       "True"
      ]
     },
     "execution_count": 67,
     "metadata": {},
     "output_type": "execute_result"
    }
   ],
   "source": [
    "test_schur_positive_simsym(11)"
   ]
  },
  {
   "cell_type": "code",
   "execution_count": 68,
   "id": "87730efa-8191-4722-bc1b-d73be668dd19",
   "metadata": {},
   "outputs": [
    {
     "name": "stdout",
     "output_type": "stream",
     "text": [
      "[12]\n",
      "[11, 1]\n",
      "[10, 2]\n",
      "[9, 3]\n",
      "[8, 4]\n",
      "[7, 4, 1]\n",
      "[6, 4, 2]\n",
      "[2, 1, 1, 1, 1, 1, 1, 1, 1, 1, 1]\n",
      "[1, 1, 1, 1, 1, 1, 1, 1, 1, 1, 1, 1]\n"
     ]
    },
    {
     "data": {
      "text/plain": [
       "True"
      ]
     },
     "execution_count": 68,
     "metadata": {},
     "output_type": "execute_result"
    }
   ],
   "source": [
    "test_schur_positive_simsym(12)"
   ]
  },
  {
   "cell_type": "code",
   "execution_count": 69,
   "id": "d181e80a-97f9-4d96-bf83-c2433fae09cd",
   "metadata": {},
   "outputs": [
    {
     "name": "stdout",
     "output_type": "stream",
     "text": [
      "[13]\n",
      "[12, 1]\n",
      "[11, 2]\n",
      "[10, 3]\n",
      "[9, 4]\n",
      "[8, 4, 1]\n",
      "[6, 4, 2, 1]\n",
      "[2, 1, 1, 1, 1, 1, 1, 1, 1, 1, 1, 1]\n",
      "[1, 1, 1, 1, 1, 1, 1, 1, 1, 1, 1, 1, 1]\n"
     ]
    },
    {
     "data": {
      "text/plain": [
       "True"
      ]
     },
     "execution_count": 69,
     "metadata": {},
     "output_type": "execute_result"
    }
   ],
   "source": [
    "test_schur_positive_simsym(13)"
   ]
  },
  {
   "cell_type": "code",
   "execution_count": 70,
   "id": "be9df8f3-e233-47f3-8ff4-99d8d6b2708d",
   "metadata": {},
   "outputs": [
    {
     "name": "stdout",
     "output_type": "stream",
     "text": [
      "[14]\n",
      "[13, 1]\n",
      "[12, 2]\n",
      "[11, 3]\n",
      "[10, 4]\n",
      "[9, 5]\n",
      "[5, 4, 3, 2]\n",
      "[2, 1, 1, 1, 1, 1, 1, 1, 1, 1, 1, 1, 1]\n",
      "[1, 1, 1, 1, 1, 1, 1, 1, 1, 1, 1, 1, 1, 1]\n"
     ]
    },
    {
     "data": {
      "text/plain": [
       "True"
      ]
     },
     "execution_count": 70,
     "metadata": {},
     "output_type": "execute_result"
    }
   ],
   "source": [
    "test_schur_positive_simsym(14)"
   ]
  },
  {
   "cell_type": "code",
   "execution_count": 71,
   "id": "f6d55b89-df68-4b7c-84b0-81b6c52ed21f",
   "metadata": {},
   "outputs": [
    {
     "name": "stdout",
     "output_type": "stream",
     "text": [
      "[15]\n",
      "[14, 1]\n",
      "[13, 2]\n",
      "[12, 3]\n",
      "[11, 4]\n",
      "[10, 5]\n",
      "[9, 5, 1]\n",
      "[8, 5, 2]\n",
      "[7, 5, 3]\n",
      "[5, 4, 3, 2, 1]\n",
      "[2, 1, 1, 1, 1, 1, 1, 1, 1, 1, 1, 1, 1, 1]\n",
      "[1, 1, 1, 1, 1, 1, 1, 1, 1, 1, 1, 1, 1, 1, 1]\n"
     ]
    },
    {
     "data": {
      "text/plain": [
       "True"
      ]
     },
     "execution_count": 71,
     "metadata": {},
     "output_type": "execute_result"
    }
   ],
   "source": [
    "test_schur_positive_simsym(15)"
   ]
  },
  {
   "cell_type": "code",
   "execution_count": 72,
   "id": "bd90d12a-9eab-4f98-8fd8-7816af65922e",
   "metadata": {},
   "outputs": [
    {
     "name": "stdout",
     "output_type": "stream",
     "text": [
      "[16]\n",
      "[15, 1]\n",
      "[14, 2]\n",
      "[13, 3]\n",
      "[12, 4]\n",
      "[11, 5]\n",
      "[10, 5, 1]\n",
      "[7, 5, 3, 1]\n",
      "[5, 4, 3, 2, 1, 1]\n",
      "[2, 1, 1, 1, 1, 1, 1, 1, 1, 1, 1, 1, 1, 1, 1]\n",
      "[1, 1, 1, 1, 1, 1, 1, 1, 1, 1, 1, 1, 1, 1, 1, 1]\n"
     ]
    },
    {
     "data": {
      "text/plain": [
       "True"
      ]
     },
     "execution_count": 72,
     "metadata": {},
     "output_type": "execute_result"
    }
   ],
   "source": [
    "test_schur_positive_simsym(16)"
   ]
  },
  {
   "cell_type": "code",
   "execution_count": 73,
   "id": "fb8e4373-e0cf-48c2-ae50-57eaaabeeaa1",
   "metadata": {},
   "outputs": [
    {
     "name": "stdout",
     "output_type": "stream",
     "text": [
      "[17]\n",
      "[16, 1]\n",
      "[15, 2]\n",
      "[14, 3]\n",
      "[13, 4]\n",
      "[12, 5]\n",
      "[11, 6]\n",
      "[2, 1, 1, 1, 1, 1, 1, 1, 1, 1, 1, 1, 1, 1, 1, 1]\n",
      "[1, 1, 1, 1, 1, 1, 1, 1, 1, 1, 1, 1, 1, 1, 1, 1, 1]\n"
     ]
    },
    {
     "data": {
      "text/plain": [
       "True"
      ]
     },
     "execution_count": 73,
     "metadata": {},
     "output_type": "execute_result"
    }
   ],
   "source": [
    "test_schur_positive_simsym(17)"
   ]
  },
  {
   "cell_type": "code",
   "execution_count": 74,
   "id": "c1255699-c339-4ed0-9145-bf0a251a391a",
   "metadata": {},
   "outputs": [
    {
     "name": "stdout",
     "output_type": "stream",
     "text": [
      "[18]\n",
      "[17, 1]\n",
      "[16, 2]\n",
      "[15, 3]\n",
      "[14, 4]\n",
      "[13, 5]\n",
      "[12, 6]\n",
      "[11, 6, 1]\n",
      "[10, 6, 2]\n",
      "[9, 6, 3]\n",
      "[2, 1, 1, 1, 1, 1, 1, 1, 1, 1, 1, 1, 1, 1, 1, 1, 1]\n",
      "[1, 1, 1, 1, 1, 1, 1, 1, 1, 1, 1, 1, 1, 1, 1, 1, 1, 1]\n"
     ]
    },
    {
     "data": {
      "text/plain": [
       "True"
      ]
     },
     "execution_count": 74,
     "metadata": {},
     "output_type": "execute_result"
    }
   ],
   "source": [
    "test_schur_positive_simsym(18)"
   ]
  },
  {
   "cell_type": "code",
   "execution_count": 75,
   "id": "5f06eed2-6201-4f7d-86ac-4cf06d75fac7",
   "metadata": {},
   "outputs": [
    {
     "name": "stdout",
     "output_type": "stream",
     "text": [
      "[19]\n",
      "[18, 1]\n",
      "[17, 2]\n",
      "[16, 3]\n",
      "[15, 4]\n",
      "[14, 5]\n",
      "[13, 6]\n",
      "[12, 6, 1]\n",
      "[9, 6, 3, 1]\n",
      "[2, 1, 1, 1, 1, 1, 1, 1, 1, 1, 1, 1, 1, 1, 1, 1, 1, 1]\n",
      "[1, 1, 1, 1, 1, 1, 1, 1, 1, 1, 1, 1, 1, 1, 1, 1, 1, 1, 1]\n"
     ]
    },
    {
     "data": {
      "text/plain": [
       "True"
      ]
     },
     "execution_count": 75,
     "metadata": {},
     "output_type": "execute_result"
    }
   ],
   "source": [
    "test_schur_positive_simsym(19)"
   ]
  },
  {
   "cell_type": "code",
   "execution_count": 76,
   "id": "cae94d21-87eb-4781-9ff4-7da3cdea1b82",
   "metadata": {},
   "outputs": [
    {
     "name": "stdout",
     "output_type": "stream",
     "text": [
      "[20]\n",
      "[19, 1]\n",
      "[18, 2]\n",
      "[17, 3]\n",
      "[16, 4]\n",
      "[15, 5]\n",
      "[14, 6]\n",
      "[13, 7]\n",
      "[8, 6, 4, 2]\n",
      "[6, 5, 4, 3, 2]\n",
      "[2, 1, 1, 1, 1, 1, 1, 1, 1, 1, 1, 1, 1, 1, 1, 1, 1, 1, 1]\n",
      "[1, 1, 1, 1, 1, 1, 1, 1, 1, 1, 1, 1, 1, 1, 1, 1, 1, 1, 1, 1]\n"
     ]
    },
    {
     "data": {
      "text/plain": [
       "True"
      ]
     },
     "execution_count": 76,
     "metadata": {},
     "output_type": "execute_result"
    }
   ],
   "source": [
    "test_schur_positive_simsym(20)"
   ]
  },
  {
   "cell_type": "code",
   "execution_count": 77,
   "id": "c996515a-62de-4765-bb32-b4832bbb04c6",
   "metadata": {},
   "outputs": [
    {
     "name": "stdout",
     "output_type": "stream",
     "text": [
      "[21]\n",
      "[20, 1]\n",
      "[19, 2]\n",
      "[18, 3]\n",
      "[17, 4]\n",
      "[16, 5]\n",
      "[15, 6]\n",
      "[14, 7]\n",
      "[13, 7, 1]\n",
      "[12, 7, 2]\n",
      "[11, 7, 3]\n",
      "[10, 7, 4]\n",
      "[8, 6, 4, 2, 1]\n",
      "[6, 5, 4, 3, 2, 1]\n",
      "[2, 1, 1, 1, 1, 1, 1, 1, 1, 1, 1, 1, 1, 1, 1, 1, 1, 1, 1, 1]\n",
      "[1, 1, 1, 1, 1, 1, 1, 1, 1, 1, 1, 1, 1, 1, 1, 1, 1, 1, 1, 1, 1]\n"
     ]
    },
    {
     "data": {
      "text/plain": [
       "True"
      ]
     },
     "execution_count": 77,
     "metadata": {},
     "output_type": "execute_result"
    }
   ],
   "source": [
    "test_schur_positive_simsym(21)"
   ]
  },
  {
   "cell_type": "markdown",
   "id": "2cc12e7a-de60-46f1-a6c4-b7a8cbcf5c3d",
   "metadata": {},
   "source": [
    "Expansion of known $A_\\lambda$"
   ]
  },
  {
   "cell_type": "code",
   "execution_count": 3,
   "id": "e22b3e18-5a3e-49e1-82c3-5ffe92a7facb",
   "metadata": {},
   "outputs": [],
   "source": [
    "from exploration import SCHURS"
   ]
  },
  {
   "cell_type": "code",
   "execution_count": 4,
   "id": "e7a04a32-fb55-4ec1-a5b1-cee8b5384df6",
   "metadata": {},
   "outputs": [
    {
     "name": "stdout",
     "output_type": "stream",
     "text": [
      "[]  :  s[]\n",
      "[1]  :  s[1]\n",
      "[2]  :  s[2]\n",
      "[2, 1]  :  s[1, 1] + s[3]\n",
      "[3]  :  s[3]\n",
      "[3, 1]  :  s[2, 1] + s[4]\n",
      "[4]  :  s[4]\n",
      "[3, 2]  :  s[3, 1] + s[5]\n",
      "[4, 1]  :  s[3, 1] + s[5]\n",
      "[5]  :  s[5]\n",
      "[3, 2, 1]  :  s[1, 1, 1] + s[3, 1] + s[4, 1] + s[6]\n",
      "[4, 2]  :  s[2, 2] + s[4, 1] + s[6]\n",
      "[5, 1]  :  s[4, 1] + s[6]\n",
      "[6]  :  s[6]\n",
      "[4, 2, 1]  :  s[2, 1, 1] + s[3, 2] + s[4, 1] + s[5, 1] + s[7]\n",
      "[5, 2]  :  s[3, 2] + s[5, 1] + s[7]\n",
      "[6, 1]  :  s[5, 1] + s[7]\n",
      "[7]  :  s[7]\n",
      "[5, 3]  :  s[4, 2] + s[6, 1] + s[8]\n",
      "[6, 2]  :  s[4, 2] + s[6, 1] + s[8]\n",
      "[7, 1]  :  s[6, 1] + s[8]\n",
      "[8]  :  s[8]\n",
      "[4, 3, 2]  :  s[3, 3] + s[4, 1, 1] + s[5, 2] + s[6, 1] + s[7, 1] + s[9]\n",
      "[5, 3, 1]  :  s[2, 2, 1] + s[4, 1, 1] + s[4, 2] + s[5, 2] + s[6, 1] + s[7, 1] + s[9]\n",
      "[6, 3]  :  s[3, 3] + s[5, 2] + s[7, 1] + s[9]\n",
      "[7, 2]  :  s[5, 2] + s[7, 1] + s[9]\n",
      "[8, 1]  :  s[7, 1] + s[9]\n",
      "[9]  :  s[9]\n",
      "[4, 3, 2, 1]  :  s[1, 1, 1, 1] + s[3, 1, 1] + s[4, 1, 1] + s[4, 2] + s[4, 3] + s[5, 1, 1] + s[6, 1] + s[6, 2] + s[7, 1] + s[8, 1] + s[10]\n",
      "[6, 3, 1]  :  s[3, 2, 1] + s[4, 3] + s[5, 1, 1] + s[5, 2] + s[6, 2] + s[7, 1] + s[8, 1] + s[10]\n",
      "[7, 3]  :  s[4, 3] + s[6, 2] + s[8, 1] + s[10]\n",
      "[8, 2]  :  s[6, 2] + s[8, 1] + s[10]\n",
      "[9, 1]  :  s[8, 1] + s[10]\n",
      "[10]  :  s[10]\n",
      "[7, 4]  :  s[5, 3] + s[7, 2] + s[9, 1] + s[11]\n",
      "[8, 3]  :  s[5, 3] + s[7, 2] + s[9, 1] + s[11]\n",
      "[9, 2]  :  s[7, 2] + s[9, 1] + s[11]\n",
      "[10, 1]  :  s[9, 1] + s[11]\n",
      "[11]  :  s[11]\n",
      "[6, 4, 2]  :  s[2, 2, 2] + s[4, 2, 1] + s[4, 4] + s[5, 2, 1] + s[6, 2] + s[6, 3] + s[7, 1, 1] + s[7, 2] + s[8, 2] + s[9, 1] + s[10, 1] + s[12]\n",
      "[7, 4, 1]  :  s[3, 3, 1] + s[5, 2, 1] + s[5, 3] + s[6, 3] + s[7, 1, 1] + s[7, 2] + s[8, 2] + s[9, 1] + s[10, 1] + s[12]\n",
      "[8, 4]  :  s[4, 4] + s[6, 3] + s[8, 2] + s[10, 1] + s[12]\n",
      "[9, 3]  :  s[6, 3] + s[8, 2] + s[10, 1] + s[12]\n",
      "[10, 2]  :  s[8, 2] + s[10, 1] + s[12]\n",
      "[11, 1]  :  s[10, 1] + s[12]\n",
      "[12]  :  s[12]\n",
      "[6, 4, 2, 1]  :  s[2, 2, 1, 1] + s[3, 2, 2] + s[4, 1, 1, 1] + s[4, 2, 1] + s[4, 3, 1] + 2*s[5, 2, 1] + s[5, 3] + s[5, 4] + s[6, 1, 1] + s[6, 2, 1] + s[6, 3] + s[7, 1, 1] + 2*s[7, 2] + s[7, 3] + s[8, 1, 1] + s[8, 2] + s[9, 1] + s[9, 2] + s[10, 1] + s[11, 1] + s[13]\n",
      "[8, 4, 1]  :  s[4, 3, 1] + s[5, 4] + s[6, 2, 1] + s[6, 3] + s[7, 3] + s[8, 1, 1] + s[8, 2] + s[9, 2] + s[10, 1] + s[11, 1] + s[13]\n",
      "[9, 4]  :  s[5, 4] + s[7, 3] + s[9, 2] + s[11, 1] + s[13]\n",
      "[10, 3]  :  s[7, 3] + s[9, 2] + s[11, 1] + s[13]\n",
      "[11, 2]  :  s[9, 2] + s[11, 1] + s[13]\n",
      "[12, 1]  :  s[11, 1] + s[13]\n",
      "[13]  :  s[13]\n",
      "[5, 4, 3, 2]  :  s[4, 3, 1] + s[5, 1, 1, 1] + s[5, 3, 1] + s[6, 2, 1] + s[6, 3] + s[6, 4] + s[7, 1, 1] + s[7, 2, 1] + s[7, 3] + s[8, 1, 1] + s[8, 2] + s[8, 3] + s[9, 1, 1] + s[9, 2] + s[10, 1] + s[10, 2] + s[11, 1] + s[12, 1] + s[14]\n",
      "[9, 5]  :  s[6, 4] + s[8, 3] + s[10, 2] + s[12, 1] + s[14]\n",
      "[10, 4]  :  s[6, 4] + s[8, 3] + s[10, 2] + s[12, 1] + s[14]\n",
      "[11, 3]  :  s[8, 3] + s[10, 2] + s[12, 1] + s[14]\n",
      "[12, 2]  :  s[10, 2] + s[12, 1] + s[14]\n",
      "[13, 1]  :  s[12, 1] + s[14]\n",
      "[14]  :  s[14]\n",
      "[5, 4, 3, 2, 1]  :  s[1, 1, 1, 1, 1] + s[3, 1, 1, 1] + s[4, 1, 1, 1] + s[4, 2, 1] + s[4, 3, 1] + s[4, 4] + s[4, 4, 1] + s[5, 1, 1, 1] + s[5, 2, 1] + s[5, 3, 1] + s[6, 1, 1] + s[6, 1, 1, 1] + s[6, 2, 1] + s[6, 3] + s[6, 3, 1] + s[6, 4] + s[7, 1, 1] + s[7, 2] + s[7, 2, 1] + s[7, 3] + s[7, 4] + 2*s[8, 1, 1] + s[8, 2] + s[8, 2, 1] + s[8, 3] + s[9, 1, 1] + s[9, 2] + s[9, 3] + s[10, 1] + s[10, 1, 1] + s[10, 2] + s[11, 1] + s[11, 2] + s[12, 1] + s[13, 1] + s[15]\n",
      "[7, 5, 3]  :  s[4, 4, 1] + s[5, 2, 2] + s[6, 3, 1] + s[6, 4] + s[7, 2, 1] + s[7, 4] + s[8, 2, 1] + s[8, 3] + s[9, 2] + s[9, 3] + s[10, 1, 1] + s[10, 2] + s[11, 2] + s[12, 1] + s[13, 1] + s[15]\n",
      "[8, 5, 2]  :  s[3, 3, 2] + s[5, 2, 2] + s[5, 3, 1] + s[5, 5] + s[6, 3, 1] + s[7, 2, 1] + s[7, 3] + s[7, 4] + s[8, 2, 1] + s[8, 3] + s[9, 2] + s[9, 3] + s[10, 1, 1] + s[10, 2] + s[11, 2] + s[12, 1] + s[13, 1] + s[15]\n",
      "[9, 5, 1]  :  s[4, 4, 1] + s[6, 3, 1] + s[6, 4] + s[7, 4] + s[8, 2, 1] + s[8, 3] + s[9, 3] + s[10, 1, 1] + s[10, 2] + s[11, 2] + s[12, 1] + s[13, 1] + s[15]\n",
      "[10, 5]  :  s[5, 5] + s[7, 4] + s[9, 3] + s[11, 2] + s[13, 1] + s[15]\n",
      "[11, 4]  :  s[7, 4] + s[9, 3] + s[11, 2] + s[13, 1] + s[15]\n",
      "[12, 3]  :  s[9, 3] + s[11, 2] + s[13, 1] + s[15]\n",
      "[13, 2]  :  s[11, 2] + s[13, 1] + s[15]\n",
      "[14, 1]  :  s[13, 1] + s[15]\n",
      "[15]  :  s[15]\n",
      "[7, 5, 3, 1]  :  s[2, 2, 2, 1] + s[4, 2, 1, 1] + s[4, 2, 2] + s[4, 4, 1] + s[5, 2, 1, 1] + s[5, 2, 2] + s[5, 3, 1] + s[5, 4, 1] + s[6, 2, 1] + s[6, 2, 2] + s[6, 3, 1] + s[6, 4] + s[6, 5] + s[7, 1, 1, 1] + 2*s[7, 2, 1] + s[7, 3] + s[7, 3, 1] + s[7, 4] + 2*s[8, 2, 1] + s[8, 3] + s[8, 4] + s[9, 1, 1] + s[9, 2] + s[9, 2, 1] + s[9, 3] + s[10, 1, 1] + 2*s[10, 2] + s[10, 3] + s[11, 1, 1] + s[11, 2] + s[12, 1] + s[12, 2] + s[13, 1] + s[14, 1] + s[16]\n",
      "[10, 5, 1]  :  s[5, 4, 1] + s[6, 5] + s[7, 3, 1] + s[7, 4] + s[8, 4] + s[9, 2, 1] + s[9, 3] + s[10, 3] + s[11, 1, 1] + s[11, 2] + s[12, 2] + s[13, 1] + s[14, 1] + s[16]\n",
      "[11, 5]  :  s[6, 5] + s[8, 4] + s[10, 3] + s[12, 2] + s[14, 1] + s[16]\n",
      "[12, 4]  :  s[8, 4] + s[10, 3] + s[12, 2] + s[14, 1] + s[16]\n",
      "[13, 3]  :  s[10, 3] + s[12, 2] + s[14, 1] + s[16]\n",
      "[14, 2]  :  s[12, 2] + s[14, 1] + s[16]\n",
      "[15, 1]  :  s[14, 1] + s[16]\n",
      "[16]  :  s[16]\n",
      "[6, 5, 4, 3, 2]  :  s[4, 4, 2] + s[5, 3, 1, 1] + s[5, 3, 3] + s[5, 4, 1, 1] + s[6, 1, 1, 1, 1] + s[6, 3, 1, 1] + s[6, 3, 2] + s[6, 4, 1] + s[6, 4, 2] + s[6, 5, 1] + s[6, 6] + s[7, 2, 1, 1] + s[7, 3, 1] + s[7, 3, 1, 1] + s[7, 3, 2] + 2*s[7, 4, 1] + s[7, 5, 1] + s[7, 6] + s[8, 1, 1, 1] + s[8, 2, 1, 1] + s[8, 2, 2] + 2*s[8, 3, 1] + s[8, 3, 2] + s[8, 4] + 2*s[8, 4, 1] + s[8, 5] + s[8, 6] + s[9, 1, 1, 1] + s[9, 2, 1] + s[9, 2, 1, 1] + 3*s[9, 3, 1] + s[9, 4] + s[9, 4, 1] + s[9, 5] + s[10, 1, 1, 1] + 2*s[10, 2, 1] + s[10, 2, 2] + s[10, 3] + 2*s[10, 3, 1] + 2*s[10, 4] + s[10, 5] + s[11, 1, 1] + s[11, 1, 1, 1] + 2*s[11, 2, 1] + 2*s[11, 3] + s[11, 3, 1] + s[11, 4] + s[12, 1, 1] + s[12, 2] + 2*s[12, 2, 1] + 2*s[12, 3] + s[12, 4] + 2*s[13, 1, 1] + s[13, 2] + s[13, 2, 1] + s[13, 3] + s[14, 1, 1] + 2*s[14, 2] + s[14, 3] + s[15, 1] + s[15, 1, 1] + s[15, 2] + s[16, 1] + s[16, 2] + s[17, 1] + s[18, 1] + s[20]\n",
      "[6, 5, 4, 3, 2, 1]  :  s[1, 1, 1, 1, 1, 1] + s[3, 1, 1, 1, 1] + s[4, 1, 1, 1, 1] + s[4, 2, 1, 1] + s[4, 3, 1, 1] + s[4, 4, 1] + s[4, 4, 1, 1] + s[4, 4, 2] + s[4, 4, 3] + s[5, 1, 1, 1, 1] + s[5, 2, 1, 1] + s[5, 2, 2] + s[5, 3, 1, 1] + s[5, 3, 2] + s[5, 4, 1] + s[5, 4, 1, 1] + s[5, 4, 2] + s[6, 1, 1, 1] + s[6, 1, 1, 1, 1] + 2*s[6, 2, 1, 1] + s[6, 3, 1] + 2*s[6, 3, 1, 1] + s[6, 3, 2] + s[6, 3, 3] + 2*s[6, 4, 1] + s[6, 4, 1, 1] + s[6, 4, 2] + s[6, 5, 1] + s[6, 6, 1] + s[7, 1, 1, 1] + s[7, 1, 1, 1, 1] + s[7, 2, 1] + s[7, 2, 1, 1] + s[7, 2, 2] + 2*s[7, 3, 1] + s[7, 3, 1, 1] + s[7, 3, 2] + s[7, 4] + 3*s[7, 4, 1] + s[7, 4, 2] + s[7, 5] + s[7, 5, 1] + s[7, 6] + s[7, 7] + 2*s[8, 1, 1, 1] + 2*s[8, 2, 1] + 2*s[8, 2, 1, 1] + s[8, 2, 2] + 3*s[8, 3, 1] + s[8, 3, 1, 1] + s[8, 3, 2] + s[8, 4] + 3*s[8, 4, 1] + s[8, 5] + s[8, 5, 1] + s[8, 6] + 2*s[9, 1, 1, 1] + 2*s[9, 2, 1] + s[9, 2, 1, 1] + s[9, 2, 2] + s[9, 3] + 3*s[9, 3, 1] + s[9, 3, 2] + 2*s[9, 4] + 2*s[9, 4, 1] + s[9, 5] + s[9, 6] + s[10, 1, 1] + 2*s[10, 1, 1, 1] + 3*s[10, 2, 1] + s[10, 2, 1, 1] + s[10, 3] + 3*s[10, 3, 1] + 2*s[10, 4] + s[10, 4, 1] + s[10, 5] + s[11, 1, 1] + s[11, 1, 1, 1] + s[11, 2] + 3*s[11, 2, 1] + s[11, 2, 2] + 2*s[11, 3] + 2*s[11, 3, 1] + 2*s[11, 4] + s[11, 5] + 2*s[12, 1, 1] + s[12, 1, 1, 1] + s[12, 2] + 2*s[12, 2, 1] + 2*s[12, 3] + s[12, 3, 1] + s[12, 4] + 2*s[13, 1, 1] + 2*s[13, 2] + 2*s[13, 2, 1] + 2*s[13, 3] + s[13, 4] + 2*s[14, 1, 1] + s[14, 2] + s[14, 2, 1] + s[14, 3] + s[15, 1] + s[15, 1, 1] + 2*s[15, 2] + s[15, 3] + s[16, 1] + s[16, 1, 1] + s[16, 2] + s[17, 1] + s[17, 2] + s[18, 1] + s[19, 1] + s[21]\n",
      "ok\n"
     ]
    }
   ],
   "source": [
    "for l in SCHURS:\n",
    "    tr = TriangularPartition(l)\n",
    "    if tr.top_down_is_sim_sym():\n",
    "        print(tr, \" : \", SCHURS[l])\n",
    "        pol = tr.Aqt_intervals(gens = (q,t), tableau = tr.top_down_standard_tableau())\n",
    "        if pol != SCHURS[l].expand(3)(q,t,1):\n",
    "            print(\"Wrong\")\n",
    "            break\n",
    "print(\"ok\")"
   ]
  },
  {
   "cell_type": "markdown",
   "id": "ef3446de-e89f-47d1-89d0-ced673235278",
   "metadata": {},
   "source": [
    "LateX code for the annex table"
   ]
  },
  {
   "cell_type": "code",
   "execution_count": 38,
   "id": "d357ad2b-30d9-42ad-9282-cdf803913cea",
   "metadata": {},
   "outputs": [],
   "source": [
    "def print_split(l, str_schur):\n",
    "    s = \"$A_{\" + str(l)[1:-1] + \"}$ &\"\n",
    "    if len(str_schur) <= 140:\n",
    "        s+= \"$\" + str_schur + \"$ \\\\\\\\ \\n\"\n",
    "    else:\n",
    "        to_print = str_schur.split(\"+\")\n",
    "        s+= \"$\" + to_print[0] \n",
    "        cpt = len(to_print[0])\n",
    "        for term in to_print[1:]:\n",
    "            if cpt >= 120:\n",
    "                s+=\"$ \\\\\\\\ \\n\"\n",
    "                s+= \" & $\"\n",
    "                cpt = 0\n",
    "            s+= \"+\" + term\n",
    "            cpt+= len(term) + 1\n",
    "        s+= \"$ \\\\\\\\ \\n\"\n",
    "    return s\n",
    "            "
   ]
  },
  {
   "cell_type": "code",
   "execution_count": 39,
   "id": "783b6be5-4dae-417c-bfda-ce20782a2ae1",
   "metadata": {},
   "outputs": [],
   "source": [
    "s = \"\\\\begin{tabular}{ll} \\n\"\n",
    "for l in SCHURS:\n",
    "    if(len(l) > 2):\n",
    "        tr = TriangularPartition(l)\n",
    "        if tr.top_down_is_sim_sym():\n",
    "            s+= print_split(l, latex(SCHURS[l]))\n",
    "s+= \"\\\\end{tabular}\""
   ]
  },
  {
   "cell_type": "code",
   "execution_count": 40,
   "id": "a8be32af-be6d-4e04-a6c5-654015cdd72a",
   "metadata": {},
   "outputs": [
    {
     "name": "stdout",
     "output_type": "stream",
     "text": [
      "\\begin{tabular}{ll} \n",
      " $A_{3, 2, 1}$ & $ s_{1,1,1} + s_{3,1} + s_{4,1} + s_{6} $ \\\\ \n",
      " $A_{4, 2, 1}$ & $ s_{2,1,1} + s_{3,2} + s_{4,1} + s_{5,1} + s_{7} $ \\\\ \n",
      " $A_{4, 3, 2}$ & $ s_{3,3} + s_{4,1,1} + s_{5,2} + s_{6,1} + s_{7,1} + s_{9} $ \\\\ \n",
      " $A_{5, 3, 1}$ & $ s_{2,2,1} + s_{4,1,1} + s_{4,2} + s_{5,2} + s_{6,1} + s_{7,1} + s_{9} $ \\\\ \n",
      " $A_{4, 3, 2, 1}$ & $ s_{1,1,1,1} + s_{3,1,1} + s_{4,1,1} + s_{4,2} + s_{4,3} + s_{5,1,1} + s_{6,1} + s_{6,2} + s_{7,1} + s_{8,1} + s_{10} $ \\\\ \n",
      " $A_{6, 3, 1}$ & $ s_{3,2,1} + s_{4,3} + s_{5,1,1} + s_{5,2} + s_{6,2} + s_{7,1} + s_{8,1} + s_{10} $ \\\\ \n",
      " $A_{6, 4, 2}$ & $ s_{2,2,2} + s_{4,2,1} + s_{4,4} + s_{5,2,1} + s_{6,2} + s_{6,3} + s_{7,1,1} + s_{7,2} + s_{8,2} + s_{9,1} + s_{10,1} + s_{12} $ \\\\ \n",
      " $A_{7, 4, 1}$ & $ s_{3,3,1} + s_{5,2,1} + s_{5,3} + s_{6,3} + s_{7,1,1} + s_{7,2} + s_{8,2} + s_{9,1} + s_{10,1} + s_{12} $ \\\\ \n",
      " $A_{6, 4, 2, 1}$ &$s_{2,2,1,1} + s_{3,2,2} + s_{4,1,1,1} + s_{4,2,1} + s_{4,3,1} + 2 s_{5,2,1} + s_{5,3} + s_{5,4} + s_{6,1,1} + s_{6,2,1} $ \\\\ \n",
      " & $+ s_{6,3} + s_{7,1,1} + 2 s_{7,2} + s_{7,3} + s_{8,1,1} + s_{8,2} + s_{9,1} + s_{9,2} + s_{10,1} + s_{11,1} + s_{13}$ \\\\ \n",
      " $A_{8, 4, 1}$ & $ s_{4,3,1} + s_{5,4} + s_{6,2,1} + s_{6,3} + s_{7,3} + s_{8,1,1} + s_{8,2} + s_{9,2} + s_{10,1} + s_{11,1} + s_{13} $ \\\\ \n",
      " $A_{5, 4, 3, 2}$ &$s_{4,3,1} + s_{5,1,1,1} + s_{5,3,1} + s_{6,2,1} + s_{6,3} + s_{6,4} + s_{7,1,1} + s_{7,2,1} + s_{7,3} + s_{8,1,1} + s_{8,2} $ \\\\ \n",
      " & $+ s_{8,3} + s_{9,1,1} + s_{9,2} + s_{10,1} + s_{10,2} + s_{11,1} + s_{12,1} + s_{14}$ \\\\ \n",
      " $A_{5, 4, 3, 2, 1}$ &$s_{1,1,1,1,1} + s_{3,1,1,1} + s_{4,1,1,1} + s_{4,2,1} + s_{4,3,1} + s_{4,4} + s_{4,4,1} + s_{5,1,1,1} + s_{5,2,1} + s_{5,3,1} $ \\\\ \n",
      " & $+ s_{6,1,1} + s_{6,1,1,1} + s_{6,2,1} + s_{6,3} + s_{6,3,1} + s_{6,4} + s_{7,1,1} + s_{7,2} + s_{7,2,1} + s_{7,3} + s_{7,4} $ \\\\ \n",
      " & $+ 2 s_{8,1,1} + s_{8,2} + s_{8,2,1} + s_{8,3} + s_{9,1,1} + s_{9,2} + s_{9,3} + s_{10,1} + s_{10,1,1} + s_{10,2} + s_{11,1} $ \\\\ \n",
      " & $+ s_{11,2} + s_{12,1} + s_{13,1} + s_{15}$ \\\\ \n",
      " $A_{7, 5, 3}$ &$s_{4,4,1} + s_{5,2,2} + s_{6,3,1} + s_{6,4} + s_{7,2,1} + s_{7,4} + s_{8,2,1} + s_{8,3} + s_{9,2} + s_{9,3} + s_{10,1,1} $ \\\\ \n",
      " & $+ s_{10,2} + s_{11,2} + s_{12,1} + s_{13,1} + s_{15}$ \\\\ \n",
      " $A_{8, 5, 2}$ &$s_{3,3,2} + s_{5,2,2} + s_{5,3,1} + s_{5,5} + s_{6,3,1} + s_{7,2,1} + s_{7,3} + s_{7,4} + s_{8,2,1} + s_{8,3} + s_{9,2} $ \\\\ \n",
      " & $+ s_{9,3} + s_{10,1,1} + s_{10,2} + s_{11,2} + s_{12,1} + s_{13,1} + s_{15}$ \\\\ \n",
      " $A_{9, 5, 1}$ & $ s_{4,4,1} + s_{6,3,1} + s_{6,4} + s_{7,4} + s_{8,2,1} + s_{8,3} + s_{9,3} + s_{10,1,1} + s_{10,2} + s_{11,2} + s_{12,1} + s_{13,1} + s_{15} $ \\\\ \n",
      " $A_{7, 5, 3, 1}$ &$s_{2,2,2,1} + s_{4,2,1,1} + s_{4,2,2} + s_{4,4,1} + s_{5,2,1,1} + s_{5,2,2} + s_{5,3,1} + s_{5,4,1} + s_{6,2,1} + s_{6,2,2} $ \\\\ \n",
      " & $+ s_{6,3,1} + s_{6,4} + s_{6,5} + s_{7,1,1,1} + 2 s_{7,2,1} + s_{7,3} + s_{7,3,1} + s_{7,4} + 2 s_{8,2,1} + s_{8,3} + s_{8,4} $ \\\\ \n",
      " & $+ s_{9,1,1} + s_{9,2} + s_{9,2,1} + s_{9,3} + s_{10,1,1} + 2 s_{10,2} + s_{10,3} + s_{11,1,1} + s_{11,2} + s_{12,1} + s_{12,2} $ \\\\ \n",
      " & $+ s_{13,1} + s_{14,1} + s_{16}$ \\\\ \n",
      " $A_{10, 5, 1}$ &$s_{5,4,1} + s_{6,5} + s_{7,3,1} + s_{7,4} + s_{8,4} + s_{9,2,1} + s_{9,3} + s_{10,3} + s_{11,1,1} + s_{11,2} + s_{12,2} $ \\\\ \n",
      " & $+ s_{13,1} + s_{14,1} + s_{16}$ \\\\ \n",
      " $A_{6, 5, 4, 3, 2}$ &$s_{4,4,2} + s_{5,3,1,1} + s_{5,3,3} + s_{5,4,1,1} + s_{6,1,1,1,1} + s_{6,3,1,1} + s_{6,3,2} + s_{6,4,1} + s_{6,4,2} + s_{6,5,1} $ \\\\ \n",
      " & $+ s_{6,6} + s_{7,2,1,1} + s_{7,3,1} + s_{7,3,1,1} + s_{7,3,2} + 2 s_{7,4,1} + s_{7,5,1} + s_{7,6} + s_{8,1,1,1} + s_{8,2,1,1} $ \\\\ \n",
      " & $+ s_{8,2,2} + 2 s_{8,3,1} + s_{8,3,2} + s_{8,4} + 2 s_{8,4,1} + s_{8,5} + s_{8,6} + s_{9,1,1,1} + s_{9,2,1} + s_{9,2,1,1} $ \\\\ \n",
      " & $+ 3 s_{9,3,1} + s_{9,4} + s_{9,4,1} + s_{9,5} + s_{10,1,1,1} + 2 s_{10,2,1} + s_{10,2,2} + s_{10,3} + 2 s_{10,3,1} + 2 s_{10,4} $ \\\\ \n",
      " & $+ s_{10,5} + s_{11,1,1} + s_{11,1,1,1} + 2 s_{11,2,1} + 2 s_{11,3} + s_{11,3,1} + s_{11,4} + s_{12,1,1} + s_{12,2} + 2 s_{12,2,1} $ \\\\ \n",
      " & $+ 2 s_{12,3} + s_{12,4} + 2 s_{13,1,1} + s_{13,2} + s_{13,2,1} + s_{13,3} + s_{14,1,1} + 2 s_{14,2} + s_{14,3} + s_{15,1} $ \\\\ \n",
      " & $+ s_{15,1,1} + s_{15,2} + s_{16,1} + s_{16,2} + s_{17,1} + s_{18,1} + s_{20}$ \\\\ \n",
      " $A_{6, 5, 4, 3, 2, 1}$ &$s_{1,1,1,1,1,1} + s_{3,1,1,1,1} + s_{4,1,1,1,1} + s_{4,2,1,1} + s_{4,3,1,1} + s_{4,4,1} + s_{4,4,1,1} + s_{4,4,2} + s_{4,4,3} $ \\\\ \n",
      " & $+ s_{5,1,1,1,1} + s_{5,2,1,1} + s_{5,2,2} + s_{5,3,1,1} + s_{5,3,2} + s_{5,4,1} + s_{5,4,1,1} + s_{5,4,2} + s_{6,1,1,1} $ \\\\ \n",
      " & $+ s_{6,1,1,1,1} + 2 s_{6,2,1,1} + s_{6,3,1} + 2 s_{6,3,1,1} + s_{6,3,2} + s_{6,3,3} + 2 s_{6,4,1} + s_{6,4,1,1} + s_{6,4,2} $ \\\\ \n",
      " & $+ s_{6,5,1} + s_{6,6,1} + s_{7,1,1,1} + s_{7,1,1,1,1} + s_{7,2,1} + s_{7,2,1,1} + s_{7,2,2} + 2 s_{7,3,1} + s_{7,3,1,1} $ \\\\ \n",
      " & $+ s_{7,3,2} + s_{7,4} + 3 s_{7,4,1} + s_{7,4,2} + s_{7,5} + s_{7,5,1} + s_{7,6} + s_{7,7} + 2 s_{8,1,1,1} + 2 s_{8,2,1} $ \\\\ \n",
      " & $+ 2 s_{8,2,1,1} + s_{8,2,2} + 3 s_{8,3,1} + s_{8,3,1,1} + s_{8,3,2} + s_{8,4} + 3 s_{8,4,1} + s_{8,5} + s_{8,5,1} + s_{8,6} $ \\\\ \n",
      " & $+ 2 s_{9,1,1,1} + 2 s_{9,2,1} + s_{9,2,1,1} + s_{9,2,2} + s_{9,3} + 3 s_{9,3,1} + s_{9,3,2} + 2 s_{9,4} + 2 s_{9,4,1} + s_{9,5} $ \\\\ \n",
      " & $+ s_{9,6} + s_{10,1,1} + 2 s_{10,1,1,1} + 3 s_{10,2,1} + s_{10,2,1,1} + s_{10,3} + 3 s_{10,3,1} + 2 s_{10,4} + s_{10,4,1} $ \\\\ \n",
      " & $+ s_{10,5} + s_{11,1,1} + s_{11,1,1,1} + s_{11,2} + 3 s_{11,2,1} + s_{11,2,2} + 2 s_{11,3} + 2 s_{11,3,1} + 2 s_{11,4} + s_{11,5} $ \\\\ \n",
      " & $+ 2 s_{12,1,1} + s_{12,1,1,1} + s_{12,2} + 2 s_{12,2,1} + 2 s_{12,3} + s_{12,3,1} + s_{12,4} + 2 s_{13,1,1} + 2 s_{13,2} $ \\\\ \n",
      " & $+ 2 s_{13,2,1} + 2 s_{13,3} + s_{13,4} + 2 s_{14,1,1} + s_{14,2} + s_{14,2,1} + s_{14,3} + s_{15,1} + s_{15,1,1} + 2 s_{15,2} $ \\\\ \n",
      " & $+ s_{15,3} + s_{16,1} + s_{16,1,1} + s_{16,2} + s_{17,1} + s_{17,2} + s_{18,1} + s_{19,1} + s_{21}$ \\\\ \n",
      " \\end{tabular}\n"
     ]
    }
   ],
   "source": [
    "print(s)"
   ]
  },
  {
   "cell_type": "markdown",
   "id": "496b3a32-7983-42e3-af06-142f75274d34",
   "metadata": {},
   "source": [
    "## Properties of 2-partitions"
   ]
  },
  {
   "cell_type": "code",
   "execution_count": 243,
   "id": "2179ac3e-b6df-405c-846d-3367ee928eb4",
   "metadata": {},
   "outputs": [],
   "source": [
    "tr = TriangularPartition((7,3))"
   ]
  },
  {
   "cell_type": "code",
   "execution_count": 244,
   "id": "95284404-b7df-4415-b010-a4082d76513d",
   "metadata": {},
   "outputs": [
    {
     "data": {
      "text/plain": [
       "[[1, 2, 3, 4, 5, 7, 9], [6, 8, 10]]"
      ]
     },
     "execution_count": 244,
     "metadata": {},
     "output_type": "execute_result"
    }
   ],
   "source": [
    "tab = tr.top_down_standard_tableau()\n",
    "tab"
   ]
  },
  {
   "cell_type": "code",
   "execution_count": 245,
   "id": "db8955a4-1429-4724-9f0a-8d36d84a1d66",
   "metadata": {},
   "outputs": [
    {
     "data": {
      "text/plain": [
       "[[[7, 3], [3]], [[7, 3], [3, 1]], [[7, 3], [3, 2]], [[7, 3], [3, 3]]]"
      ]
     },
     "execution_count": 245,
     "metadata": {},
     "output_type": "execute_result"
    }
   ],
   "source": [
    "sim3 = [tdp for tdp in tr.triangular_dyck_paths() if tdp.sim(tab) == 3]\n",
    "sim3"
   ]
  },
  {
   "cell_type": "code",
   "execution_count": 249,
   "id": "c56707d7-b732-48bc-98a1-6aaeb4967ec7",
   "metadata": {},
   "outputs": [
    {
     "name": "stdout",
     "output_type": "stream",
     "text": [
      "\\begin{tikzpicture}\n",
      "\\draw[ultra thick, fill = red!30] (0,0)--(7,0)--(7,1)--(3,1)--(3,2)--(0,2)--cycle;\n",
      "\\draw[fill = green!10] (0,0)--(3,0)--(3,1)--(3,1)--(3,2)--(0,2)--cycle;\n",
      "\\draw[fill = yellow!50] (0,0) rectangle (1,1);\n",
      "\\draw[pattern=crosshatch dots, pattern color=gray!50] (0,0) rectangle (1,1);\n",
      "\\draw[fill = yellow!50] (1,0) rectangle (2,1);\n",
      "\\draw[pattern=crosshatch dots, pattern color=gray!50] (1,0) rectangle (2,1);\n",
      "\\draw[fill = yellow!50] (2,0) rectangle (3,1);\n",
      "\\draw[pattern=crosshatch dots, pattern color=gray!50] (2,0) rectangle (3,1);\n",
      "\\node at (0.5, 0.5) (int) {$1$};\n",
      "\\node at (1.5, 0.5) (int) {$2$};\n",
      "\\node at (2.5, 0.5) (int) {$3$};\n",
      "\\node at (3.5, 0.5) (int) {$4$};\n",
      "\\node at (4.5, 0.5) (int) {$5$};\n",
      "\\node at (5.5, 0.5) (int) {$7$};\n",
      "\\node at (6.5, 0.5) (int) {$9$};\n",
      "\\node at (0.5, 1.5) (int) {$6$};\n",
      "\\node at (1.5, 1.5) (int) {$8$};\n",
      "\\node at (2.5, 1.5) (int) {$10$};\n",
      "\\draw[line width = 5px, red] (7,0)--(3,0)--(3,1)--(3,1)--(3,2)--(0,2)--(0,2);\n",
      "\\draw[step=1cm,gray,very thin] (0,0) grid (7,2);\n",
      "\\end{tikzpicture}\n"
     ]
    }
   ],
   "source": [
    "print(sim3[3]._grid_latex_(with_deficit= True, tableau = tab))"
   ]
  },
  {
   "cell_type": "code",
   "execution_count": null,
   "id": "99948b04-a663-4893-8194-6ebeab5ff0fc",
   "metadata": {},
   "outputs": [],
   "source": []
  },
  {
   "cell_type": "code",
   "execution_count": null,
   "id": "984668e8-5c6f-4597-ab44-3ce5f00f7ebb",
   "metadata": {},
   "outputs": [],
   "source": []
  },
  {
   "cell_type": "code",
   "execution_count": 104,
   "id": "9faf02df-3df6-443b-91d6-4093493d5381",
   "metadata": {},
   "outputs": [],
   "source": [
    "tdp1 = TriangularDyckPath((7,3), (5,1))\n",
    "tdp2 = TriangularDyckPath((7,3), (5,2))\n",
    "tdp3 = TriangularDyckPath((7,3), (5,3))"
   ]
  },
  {
   "cell_type": "code",
   "execution_count": 105,
   "id": "b9cd00e9-cb63-4b9c-9f87-998d4fcde49c",
   "metadata": {},
   "outputs": [
    {
     "data": {
      "text/plain": [
       "6"
      ]
     },
     "execution_count": 105,
     "metadata": {},
     "output_type": "execute_result"
    }
   ],
   "source": [
    "tdp1.sim(tab)"
   ]
  },
  {
   "cell_type": "code",
   "execution_count": 106,
   "id": "a330d2e7-768a-45ed-8361-2384a2dcf0d7",
   "metadata": {},
   "outputs": [
    {
     "data": {
      "text/plain": [
       "6"
      ]
     },
     "execution_count": 106,
     "metadata": {},
     "output_type": "execute_result"
    }
   ],
   "source": [
    "tdp2.sim(tab)"
   ]
  },
  {
   "cell_type": "code",
   "execution_count": 107,
   "id": "e52e2fa7-2d9a-4a09-bc58-9c04051a48d9",
   "metadata": {},
   "outputs": [
    {
     "data": {
      "text/plain": [
       "6"
      ]
     },
     "execution_count": 107,
     "metadata": {},
     "output_type": "execute_result"
    }
   ],
   "source": [
    "tdp3.sim(tab)"
   ]
  },
  {
   "cell_type": "code",
   "execution_count": 108,
   "id": "d6173a99-5393-4802-af09-429db0ccb830",
   "metadata": {},
   "outputs": [],
   "source": [
    "tdp4 = TriangularDyckPath((7,3), (6,1))\n",
    "tdp5 = TriangularDyckPath((7,3), (7,1))"
   ]
  },
  {
   "cell_type": "code",
   "execution_count": 109,
   "id": "dd175ea5-08b4-477e-9dc6-67dc7a57c35a",
   "metadata": {},
   "outputs": [
    {
     "data": {
      "text/plain": [
       "7"
      ]
     },
     "execution_count": 109,
     "metadata": {},
     "output_type": "execute_result"
    }
   ],
   "source": [
    "tdp4.sim(tableau = tab)"
   ]
  },
  {
   "cell_type": "code",
   "execution_count": 110,
   "id": "b744420a-f910-4933-9b45-1604fc2ccc28",
   "metadata": {},
   "outputs": [
    {
     "data": {
      "text/plain": [
       "7"
      ]
     },
     "execution_count": 110,
     "metadata": {},
     "output_type": "execute_result"
    }
   ],
   "source": [
    "tdp5.sim(tableau = tab)"
   ]
  },
  {
   "cell_type": "code",
   "execution_count": 117,
   "id": "cf806454-89f7-4266-951a-4d7de1246c40",
   "metadata": {},
   "outputs": [],
   "source": [
    "def dist(tdp1, tdp2):\n",
    "    m,n = tdp1.partition()[0], tdp1.partition()[1]\n",
    "    m1,n1 = (tdp1.path()[0] if len(tdp1.path()) > 0 else 0), (tdp1.path()[1] if len(tdp1.path()) > 1 else 0)\n",
    "    m2,n2 = (tdp2.path()[0] if len(tdp2.path()) > 0 else 0), (tdp2.path()[1] if len(tdp2.path()) > 1 else 0)\n",
    "    \n",
    "    i1 = m - m1\n",
    "    j1 = n - n1\n",
    "    if i1 > j1:\n",
    "        return m1 - m2\n",
    "    else:\n",
    "        return m1 - m2 + n1 - n2\n",
    "\n",
    "    "
   ]
  },
  {
   "cell_type": "code",
   "execution_count": 119,
   "id": "d8abf8b7-9f03-4a87-91fd-161413921999",
   "metadata": {},
   "outputs": [
    {
     "data": {
      "text/plain": [
       "7"
      ]
     },
     "execution_count": 119,
     "metadata": {},
     "output_type": "execute_result"
    }
   ],
   "source": [
    "dist(TriangularDyckPath((7,3),(7,1)), TriangularDyckPath((7,3), (1,)))"
   ]
  },
  {
   "cell_type": "code",
   "execution_count": 120,
   "id": "ff311d73-54e9-4181-827b-b7f10c3309ba",
   "metadata": {},
   "outputs": [],
   "source": [
    "L = tr.path_tamari_lattice()"
   ]
  },
  {
   "cell_type": "code",
   "execution_count": 121,
   "id": "277c2e5e-f8db-4cd9-b145-d32205f62ff7",
   "metadata": {},
   "outputs": [
    {
     "data": {
      "text/plain": [
       "True"
      ]
     },
     "execution_count": 121,
     "metadata": {},
     "output_type": "execute_result"
    }
   ],
   "source": [
    "all(dist(mu,tau) == poset_distance(L,mu,tau) for mu,tau in L.relations())"
   ]
  },
  {
   "cell_type": "code",
   "execution_count": 131,
   "id": "c2f83d35-ed20-44ac-a9c4-17819720b845",
   "metadata": {},
   "outputs": [],
   "source": [
    "K.<q,t> = QQ[]\n",
    "Sym = SymmetricFunctions(QQ)\n",
    "schur = Sym.schur()"
   ]
  },
  {
   "cell_type": "code",
   "execution_count": null,
   "id": "57d0f6b5-75f6-402f-94fd-6424da7c9126",
   "metadata": {},
   "outputs": [],
   "source": []
  },
  {
   "cell_type": "code",
   "execution_count": 132,
   "id": "5e57f335-e5a3-45c6-8d5c-00e0144a147b",
   "metadata": {
    "editable": true,
    "slideshow": {
     "slide_type": ""
    },
    "tags": []
   },
   "outputs": [],
   "source": [
    "def Aqt_2parts_schur(m,n):\n",
    "    return sum(schur[m+n - 2*d, d] for d in range(min(n, m-n)+1))"
   ]
  },
  {
   "cell_type": "code",
   "execution_count": 241,
   "id": "866d4511-5b34-4817-a4a8-fb9ae23d1a36",
   "metadata": {},
   "outputs": [
    {
     "data": {
      "text/plain": [
       "s[5, 2] + s[7, 1] + s[9]"
      ]
     },
     "execution_count": 241,
     "metadata": {},
     "output_type": "execute_result"
    }
   ],
   "source": [
    "Aqt_2parts_schur(7,2)"
   ]
  },
  {
   "cell_type": "code",
   "execution_count": 134,
   "id": "862e3da0-b141-4517-808f-946255ab4c78",
   "metadata": {},
   "outputs": [
    {
     "data": {
      "text/plain": [
       "s[4, 2] + s[6, 1] + s[8]"
      ]
     },
     "execution_count": 134,
     "metadata": {},
     "output_type": "execute_result"
    }
   ],
   "source": [
    "Aqt_2parts_schur(5,3)"
   ]
  },
  {
   "cell_type": "code",
   "execution_count": 229,
   "id": "38948d61-ddf6-42ae-b342-7ecc01bc8aba",
   "metadata": {},
   "outputs": [],
   "source": [
    "def Aqt_2parts_rec(m,n):\n",
    "    if n == 0:\n",
    "        return sum(sum(t**d for d in range(m-s+1))*q**s for s in range(m+1))\n",
    "    pol = Aqt_2parts_rec(m-1,n-1)\n",
    "    \n",
    "    for s in range(m-n+1):\n",
    "        pol+= sum(sum(t**d for d in range(n-k,m+n-k-s+1)) for k in range(min(s,n)+1))*q**s\n",
    "    \n",
    "    for j in range(1,n+1):\n",
    "        s = m+n-2*j + 1\n",
    "        pol+=sum(sum(t**d for d in range(k,j+k+1)) for k in range(j))*q**s\n",
    "    \n",
    "    for j in range(n):\n",
    "        s = m+n-2*j\n",
    "        pol += sum(sum(t**d for d in range(k,j+k+1)) for k in range(j+1))*q**s\n",
    "    \n",
    "    return pol"
   ]
  },
  {
   "cell_type": "code",
   "execution_count": 231,
   "id": "1a09d9a0-0e65-4540-a383-09e7ef4234dc",
   "metadata": {},
   "outputs": [
    {
     "data": {
      "text/plain": [
       "True"
      ]
     },
     "execution_count": 231,
     "metadata": {},
     "output_type": "execute_result"
    }
   ],
   "source": [
    "Aqt_2parts_rec(4,0) == Aqt_2parts_schur(4,0).expand(3)(q,t,1)"
   ]
  },
  {
   "cell_type": "code",
   "execution_count": 232,
   "id": "dc54b50e-da9b-430e-832a-efde98d1e176",
   "metadata": {},
   "outputs": [
    {
     "data": {
      "text/plain": [
       "q^3 + q^2*t + q*t^2 + t^3 + q^2 + q*t + t^2 + q + t + 1"
      ]
     },
     "execution_count": 232,
     "metadata": {},
     "output_type": "execute_result"
    }
   ],
   "source": [
    "Aqt_2parts_rec(3,0)"
   ]
  },
  {
   "cell_type": "code",
   "execution_count": 233,
   "id": "371b9d06-3b2f-4104-995f-2b38cbf38cc3",
   "metadata": {},
   "outputs": [
    {
     "data": {
      "text/plain": [
       "q^5 + q^4*t + q^3*t^2 + q^2*t^3 + q*t^4 + t^5 + q^4 + 2*q^3*t + 2*q^2*t^2 + 2*q*t^3 + t^4 + 2*q^3 + 3*q^2*t + 3*q*t^2 + 2*t^3 + 2*q^2 + 3*q*t + 2*t^2 + 2*q + 2*t + 1"
      ]
     },
     "execution_count": 233,
     "metadata": {},
     "output_type": "execute_result"
    }
   ],
   "source": [
    "Aqt_2parts_rec(4,1)"
   ]
  },
  {
   "cell_type": "code",
   "execution_count": 234,
   "id": "04486a53-567d-46da-b66a-70dcfddceb18",
   "metadata": {},
   "outputs": [
    {
     "data": {
      "text/plain": [
       "True"
      ]
     },
     "execution_count": 234,
     "metadata": {},
     "output_type": "execute_result"
    }
   ],
   "source": [
    "Aqt_2parts_rec(4,1) == Aqt_2parts_schur(4,1).expand(3)(q,t,1)"
   ]
  },
  {
   "cell_type": "code",
   "execution_count": 235,
   "id": "afa40270-4a85-4d0d-a1ba-ba092e8a3f84",
   "metadata": {},
   "outputs": [
    {
     "data": {
      "text/plain": [
       "True"
      ]
     },
     "execution_count": 235,
     "metadata": {},
     "output_type": "execute_result"
    }
   ],
   "source": [
    "Aqt_2parts_rec(7,3) == Aqt_2parts_schur(7,3).expand(3)(q,t,1)"
   ]
  },
  {
   "cell_type": "code",
   "execution_count": 236,
   "id": "9a74aeb2-fd1b-4c82-b247-a222540a4d97",
   "metadata": {},
   "outputs": [
    {
     "data": {
      "text/plain": [
       "True"
      ]
     },
     "execution_count": 236,
     "metadata": {},
     "output_type": "execute_result"
    }
   ],
   "source": [
    "Aqt_2parts_rec(4,2) == Aqt_2parts_schur(4,2).expand(3)(q,t,1)"
   ]
  },
  {
   "cell_type": "code",
   "execution_count": 238,
   "id": "1ce1ca74-92b0-4e55-9582-6520b2da7cec",
   "metadata": {},
   "outputs": [
    {
     "data": {
      "text/plain": [
       "True"
      ]
     },
     "execution_count": 238,
     "metadata": {},
     "output_type": "execute_result"
    }
   ],
   "source": [
    "Aqt_2parts_rec(3,2) == Aqt_2parts_schur(3,2).expand(3)(q,t,1)"
   ]
  },
  {
   "cell_type": "code",
   "execution_count": 239,
   "id": "243fc6e7-fea8-41d0-bad7-2134f4b76576",
   "metadata": {},
   "outputs": [
    {
     "data": {
      "text/plain": [
       "True"
      ]
     },
     "execution_count": 239,
     "metadata": {},
     "output_type": "execute_result"
    }
   ],
   "source": [
    "Aqt_2parts_rec(5,3) == Aqt_2parts_schur(5,3).expand(3)(q,t,1)"
   ]
  },
  {
   "cell_type": "code",
   "execution_count": 242,
   "id": "84bad1da-9e4f-4125-83f2-a476bf35324a",
   "metadata": {},
   "outputs": [
    {
     "data": {
      "text/plain": [
       "True"
      ]
     },
     "execution_count": 242,
     "metadata": {},
     "output_type": "execute_result"
    }
   ],
   "source": [
    "Aqt_2parts_rec(7,2) == Aqt_2parts_schur(7,2).expand(3)(q,t,1)"
   ]
  },
  {
   "cell_type": "code",
   "execution_count": null,
   "id": "5e31cac9-fada-4192-ac00-653cea7c3c99",
   "metadata": {},
   "outputs": [],
   "source": []
  },
  {
   "cell_type": "markdown",
   "id": "3c020c28-8f13-4639-a1cd-469f65325680",
   "metadata": {},
   "source": [
    "## brouillon"
   ]
  },
  {
   "cell_type": "code",
   "execution_count": 125,
   "id": "d8d01c0f-c065-4b9c-a647-148be83cc3fa",
   "metadata": {},
   "outputs": [
    {
     "data": {
      "text/plain": [
       "q^4 + q^3*t + q^2*t^2 + q*t^3 + t^4 + q^3 + q^2*t + q*t^2 + t^3 + q^2 + q*t + t^2 + q + t + 1"
      ]
     },
     "execution_count": 125,
     "metadata": {},
     "output_type": "execute_result"
    }
   ],
   "source": [
    "schur[4].expand(3)(q,t,1)"
   ]
  },
  {
   "cell_type": "code",
   "execution_count": 127,
   "id": "c226110b-652d-4dac-bfdc-b3fe0a0c586a",
   "metadata": {},
   "outputs": [
    {
     "data": {
      "text/plain": [
       "q^4 + q^3*t + q^2*t^2 + q*t^3 + t^4 + q^3 + q^2*t + q*t^2 + t^3 + q^2 + q*t + t^2 + q + t + 1"
      ]
     },
     "execution_count": 127,
     "metadata": {},
     "output_type": "execute_result"
    }
   ],
   "source": [
    "sum(sum(t**d for d in range(4-s+1))*q**s for s in range(5))"
   ]
  },
  {
   "cell_type": "code",
   "execution_count": 128,
   "id": "9f625721-7dcc-40e4-b38a-8211b11837e5",
   "metadata": {},
   "outputs": [
    {
     "data": {
      "text/plain": [
       "True"
      ]
     },
     "execution_count": 128,
     "metadata": {},
     "output_type": "execute_result"
    }
   ],
   "source": [
    "sum(sum(t**d for d in range(4-s+1))*q**s for s in range(5)) == schur[4].expand(3)(q,t,1)"
   ]
  },
  {
   "cell_type": "code",
   "execution_count": null,
   "id": "f242e396-961f-4399-8498-ac9839f596a6",
   "metadata": {},
   "outputs": [],
   "source": []
  },
  {
   "cell_type": "code",
   "execution_count": 29,
   "id": "217a1092-6b52-488c-a2b0-2b94be9d145e",
   "metadata": {},
   "outputs": [],
   "source": [
    "tr42 = TriangularPartition((4,2))"
   ]
  },
  {
   "cell_type": "code",
   "execution_count": 36,
   "id": "c071a13c-13b4-4905-895d-cad50fb1ece9",
   "metadata": {},
   "outputs": [],
   "source": [
    "tab42 = tr42.top_down_standard_tableau()"
   ]
  },
  {
   "cell_type": "code",
   "execution_count": 30,
   "id": "f7a414d5-67cb-4c7d-b878-00d21e441f6b",
   "metadata": {},
   "outputs": [
    {
     "data": {
      "image/png": "[encoded data removed]",
      "text/plain": [
       "Finite lattice containing 12 elements"
      ]
     },
     "execution_count": 30,
     "metadata": {},
     "output_type": "execute_result"
    }
   ],
   "source": [
    "L42 = tr42.path_tamari_lattice()\n",
    "L42"
   ]
  },
  {
   "cell_type": "code",
   "execution_count": 122,
   "id": "fad78431-5e7b-4e7c-998b-3cb5caf0857e",
   "metadata": {},
   "outputs": [
    {
     "data": {
      "text/plain": [
       "True"
      ]
     },
     "execution_count": 122,
     "metadata": {},
     "output_type": "execute_result"
    }
   ],
   "source": [
    "all(dist(mu,tau) == poset_distance(L42,mu,tau) for mu,tau in L42.relations())"
   ]
  },
  {
   "cell_type": "code",
   "execution_count": 31,
   "id": "c3cda1fb-5ff2-48e5-acd7-82a9bf8a2149",
   "metadata": {},
   "outputs": [],
   "source": [
    "tr53 = TriangularPartition((5,3))"
   ]
  },
  {
   "cell_type": "code",
   "execution_count": 42,
   "id": "823ccbc4-df57-4272-8d47-2faef5b9c6e5",
   "metadata": {},
   "outputs": [],
   "source": [
    "tab53 = tr53.top_down_standard_tableau()"
   ]
  },
  {
   "cell_type": "code",
   "execution_count": 32,
   "id": "064caa3a-5c04-41af-8126-16f9c1d8db03",
   "metadata": {},
   "outputs": [
    {
     "data": {
      "image/png": "[encoded data removed]",
      "text/plain": [
       "Finite lattice containing 18 elements"
      ]
     },
     "execution_count": 32,
     "metadata": {},
     "output_type": "execute_result"
    }
   ],
   "source": [
    "L53 = tr53.path_tamari_lattice()\n",
    "L53"
   ]
  },
  {
   "cell_type": "code",
   "execution_count": 123,
   "id": "69418ff7-93d6-4452-8d12-5f470547351d",
   "metadata": {},
   "outputs": [
    {
     "data": {
      "text/plain": [
       "True"
      ]
     },
     "execution_count": 123,
     "metadata": {},
     "output_type": "execute_result"
    }
   ],
   "source": [
    "all(dist(mu,tau) == poset_distance(L53,mu,tau) for mu,tau in L53.relations())"
   ]
  },
  {
   "cell_type": "code",
   "execution_count": 33,
   "id": "81fa2730-a450-4111-88a0-4b06eba3b066",
   "metadata": {},
   "outputs": [],
   "source": [
    "k = 2"
   ]
  },
  {
   "cell_type": "code",
   "execution_count": 43,
   "id": "6f913308-9fe0-43d2-86ca-0f39239f2ce0",
   "metadata": {},
   "outputs": [],
   "source": [
    "Ids42_1 = [(mu, tau) for mu, tau in L42.relations() if tau.sim(tableau = tab42) + poset_distance(L42, mu, tau) <= 2  ] "
   ]
  },
  {
   "cell_type": "code",
   "execution_count": 44,
   "id": "abd7a8d8-9324-412e-9f02-0526517d4fa4",
   "metadata": {},
   "outputs": [
    {
     "data": {
      "text/plain": [
       "15"
      ]
     },
     "execution_count": 44,
     "metadata": {},
     "output_type": "execute_result"
    }
   ],
   "source": [
    "len(Ids42_1)"
   ]
  },
  {
   "cell_type": "code",
   "execution_count": 45,
   "id": "b77528bf-2fd6-471e-9554-2fcb5bf09005",
   "metadata": {},
   "outputs": [],
   "source": [
    "Ids53_1 = [(mu, tau) for mu, tau in L53.relations() if tau.sim(tableau = tab53) + poset_distance(L53, mu, tau) <= 2  ] "
   ]
  },
  {
   "cell_type": "code",
   "execution_count": 46,
   "id": "811cfb8e-f459-4aab-b55b-2a8a60007a35",
   "metadata": {},
   "outputs": [
    {
     "data": {
      "text/plain": [
       "15"
      ]
     },
     "execution_count": 46,
     "metadata": {},
     "output_type": "execute_result"
    }
   ],
   "source": [
    "len(Ids53_1)"
   ]
  },
  {
   "cell_type": "code",
   "execution_count": null,
   "id": "aea63f40-b439-4f07-85ab-ae4d4a1e0c97",
   "metadata": {},
   "outputs": [],
   "source": []
  },
  {
   "cell_type": "code",
   "execution_count": 47,
   "id": "c4d18ebc-f829-42ee-bcec-1c29ca0f4619",
   "metadata": {},
   "outputs": [],
   "source": [
    "Ids42_2 = [(mu, tau) for mu, tau in L42.relations() if tau.sim(tableau = tab42) <= 2 and 2 < tau.sim(tableau = tab42) + poset_distance(L42, mu, tau) and  tau.sim(tableau = tab42) + poset_distance(L42, mu, tau) <= 4  ] "
   ]
  },
  {
   "cell_type": "code",
   "execution_count": 48,
   "id": "0de89ed2-99b1-4747-a9f0-1a4c24fa0d28",
   "metadata": {},
   "outputs": [
    {
     "data": {
      "text/plain": [
       "19"
      ]
     },
     "execution_count": 48,
     "metadata": {},
     "output_type": "execute_result"
    }
   ],
   "source": [
    "len(Ids42_2)"
   ]
  },
  {
   "cell_type": "code",
   "execution_count": 49,
   "id": "bee522ca-d64f-47de-b4f2-e9b60545fd40",
   "metadata": {},
   "outputs": [],
   "source": [
    "Ids53_2 = [(mu, tau) for mu, tau in L53.relations() if tau.sim(tableau = tab53) <= 2 and 2 < tau.sim(tableau = tab53) + poset_distance(L53, mu, tau) and tau.sim(tableau = tab53) + poset_distance(L53, mu, tau) <= 4  ] "
   ]
  },
  {
   "cell_type": "code",
   "execution_count": 50,
   "id": "352d197a-eefe-4a9e-a2d0-e3d2f596f4f2",
   "metadata": {},
   "outputs": [
    {
     "data": {
      "text/plain": [
       "27"
      ]
     },
     "execution_count": 50,
     "metadata": {},
     "output_type": "execute_result"
    }
   ],
   "source": [
    "len(Ids53_2)"
   ]
  },
  {
   "cell_type": "code",
   "execution_count": 51,
   "id": "a0b34043-9aaa-4f7e-b0e0-45ddefaaf04f",
   "metadata": {},
   "outputs": [
    {
     "data": {
      "text/plain": [
       "8"
      ]
     },
     "execution_count": 51,
     "metadata": {},
     "output_type": "execute_result"
    }
   ],
   "source": [
    "sum(min(s+1, d+s-2) for s in range(3) for d in range(3-s, 5 - s))"
   ]
  },
  {
   "cell_type": "code",
   "execution_count": 52,
   "id": "88509cf9-6205-4d45-bdec-2c48e2e30e6d",
   "metadata": {},
   "outputs": [
    {
     "data": {
      "text/plain": [
       "8"
      ]
     },
     "execution_count": 52,
     "metadata": {},
     "output_type": "execute_result"
    }
   ],
   "source": [
    "27 - 19"
   ]
  },
  {
   "cell_type": "code",
   "execution_count": null,
   "id": "db0ce69f-8903-4193-845a-2121939c1fdd",
   "metadata": {},
   "outputs": [],
   "source": []
  },
  {
   "cell_type": "code",
   "execution_count": 53,
   "id": "379e08c5-c0f1-4763-9f01-f2f12b0ef6bc",
   "metadata": {},
   "outputs": [],
   "source": [
    "Ids42_3 = [(mu, tau) for mu, tau in L42.relations() if tau.sim(tableau = tab42) <= 2 and tau.sim(tableau = tab42) + poset_distance(L42, mu, tau) >= 5  ] "
   ]
  },
  {
   "cell_type": "code",
   "execution_count": 54,
   "id": "eda021d8-2d01-4c8d-a0ee-748b05d7a5c5",
   "metadata": {},
   "outputs": [
    {
     "data": {
      "text/plain": [
       "8"
      ]
     },
     "execution_count": 54,
     "metadata": {},
     "output_type": "execute_result"
    }
   ],
   "source": [
    "len(Ids42_3)"
   ]
  },
  {
   "cell_type": "code",
   "execution_count": 55,
   "id": "25f444ec-2f6c-42ca-9ed2-dfe4c8d55cb8",
   "metadata": {},
   "outputs": [],
   "source": [
    "Ids53_3 = [(mu, tau) for mu, tau in L53.relations() if tau.sim(tableau = tab53) <= 2 and  tau.sim(tableau = tab53) + poset_distance(L53, mu, tau) >= 5  ] "
   ]
  },
  {
   "cell_type": "code",
   "execution_count": 56,
   "id": "37d95556-db65-41d5-960f-d24eb0f7f088",
   "metadata": {},
   "outputs": [
    {
     "data": {
      "text/plain": [
       "28"
      ]
     },
     "execution_count": 56,
     "metadata": {},
     "output_type": "execute_result"
    }
   ],
   "source": [
    "len(Ids53_3)"
   ]
  },
  {
   "cell_type": "code",
   "execution_count": 64,
   "id": "e2dfb74d-921c-4db9-aa8d-3ab81f7a4792",
   "metadata": {},
   "outputs": [
    {
     "data": {
      "text/plain": [
       "20"
      ]
     },
     "execution_count": 64,
     "metadata": {},
     "output_type": "execute_result"
    }
   ],
   "source": [
    "sum(min(s, 3*k+2 - d -s) + 1 for s in range(3) for d in range(5-s,9-s))"
   ]
  },
  {
   "cell_type": "code",
   "execution_count": null,
   "id": "a6daa90e-906b-4bcb-89ab-d6a59ccde865",
   "metadata": {},
   "outputs": [],
   "source": []
  },
  {
   "cell_type": "code",
   "execution_count": 65,
   "id": "12d27a51-714b-4a8f-bb56-4295e3d172b8",
   "metadata": {},
   "outputs": [],
   "source": [
    "Ids42_3 = [(mu, tau) for mu, tau in L42.relations() if tau.sim(tableau = tab42) == 3] "
   ]
  },
  {
   "cell_type": "code",
   "execution_count": 66,
   "id": "dec7dc75-b5a6-4cf6-b26c-85c97c3df600",
   "metadata": {},
   "outputs": [
    {
     "data": {
      "text/plain": [
       "8"
      ]
     },
     "execution_count": 66,
     "metadata": {},
     "output_type": "execute_result"
    }
   ],
   "source": [
    "len(Ids42_3)"
   ]
  },
  {
   "cell_type": "code",
   "execution_count": 67,
   "id": "d5192d66-2607-4b1e-88dc-19da468d07b7",
   "metadata": {},
   "outputs": [],
   "source": [
    "Ids53_3 = [(mu, tau) for mu, tau in L53.relations() if tau.sim(tableau = tab53) == 3 ] "
   ]
  },
  {
   "cell_type": "code",
   "execution_count": 68,
   "id": "5c66a1ed-8e65-4def-8d6f-6def78664041",
   "metadata": {},
   "outputs": [
    {
     "data": {
      "text/plain": [
       "20"
      ]
     },
     "execution_count": 68,
     "metadata": {},
     "output_type": "execute_result"
    }
   ],
   "source": [
    "len(Ids53_3)"
   ]
  },
  {
   "cell_type": "code",
   "execution_count": 70,
   "id": "d5f0527c-db7c-42b2-89f1-5f8f232fb8aa",
   "metadata": {},
   "outputs": [
    {
     "data": {
      "text/plain": [
       "7"
      ]
     },
     "execution_count": 70,
     "metadata": {},
     "output_type": "execute_result"
    }
   ],
   "source": [
    "sum(min(d+1, 2*k-d+1,k) for d in range(4))"
   ]
  },
  {
   "cell_type": "code",
   "execution_count": null,
   "id": "5d0c18f5-e431-4662-bc80-d6b5441217a0",
   "metadata": {},
   "outputs": [],
   "source": []
  },
  {
   "cell_type": "code",
   "execution_count": 71,
   "id": "f54d7052-6baa-48bb-ab19-676631ddb2fa",
   "metadata": {},
   "outputs": [],
   "source": [
    "K.<q,t> = QQ[]"
   ]
  },
  {
   "cell_type": "code",
   "execution_count": 72,
   "id": "17dced5d-a70d-4baa-a4c7-33a8f407bf23",
   "metadata": {},
   "outputs": [],
   "source": [
    "Sym = SymmetricFunctions(QQ)"
   ]
  },
  {
   "cell_type": "code",
   "execution_count": 74,
   "id": "d357352f-43f0-4a58-8a9b-a3ddb73fe45c",
   "metadata": {},
   "outputs": [],
   "source": [
    "schur = Sym.schur()"
   ]
  },
  {
   "cell_type": "code",
   "execution_count": 75,
   "id": "447e0940-9ef9-4aff-a47c-5d3e38bc6638",
   "metadata": {},
   "outputs": [],
   "source": [
    "pol42 = schur[6] + schur[4,1] + schur[2,2]"
   ]
  },
  {
   "cell_type": "code",
   "execution_count": 76,
   "id": "55e4f76d-6da6-4f47-92dd-049bec06df0b",
   "metadata": {},
   "outputs": [
    {
     "data": {
      "text/plain": [
       "58"
      ]
     },
     "execution_count": 76,
     "metadata": {},
     "output_type": "execute_result"
    }
   ],
   "source": [
    "pol42.expand(3)(1,1,1)"
   ]
  },
  {
   "cell_type": "code",
   "execution_count": 77,
   "id": "54fac780-4564-448c-887c-c420b86b0944",
   "metadata": {},
   "outputs": [
    {
     "data": {
      "text/plain": [
       "58"
      ]
     },
     "execution_count": 77,
     "metadata": {},
     "output_type": "execute_result"
    }
   ],
   "source": [
    "len(L42.relations())"
   ]
  },
  {
   "cell_type": "code",
   "execution_count": 78,
   "id": "e9a72a2e-900a-44a7-b57c-43520e53ea2b",
   "metadata": {},
   "outputs": [],
   "source": [
    "pol53 = schur[8] + schur[6,1] + schur[4,2]"
   ]
  },
  {
   "cell_type": "code",
   "execution_count": 79,
   "id": "b307b535-8b88-4921-a2a6-670bfc723bf5",
   "metadata": {},
   "outputs": [
    {
     "data": {
      "text/plain": [
       "120"
      ]
     },
     "execution_count": 79,
     "metadata": {},
     "output_type": "execute_result"
    }
   ],
   "source": [
    "pol53.expand(3)(1,1,1)"
   ]
  },
  {
   "cell_type": "code",
   "execution_count": 80,
   "id": "fb90cf7e-b7e1-4ed5-83bd-85088d8d39cb",
   "metadata": {},
   "outputs": [
    {
     "data": {
      "text/plain": [
       "120"
      ]
     },
     "execution_count": 80,
     "metadata": {},
     "output_type": "execute_result"
    }
   ],
   "source": [
    "len(L53.relations())"
   ]
  },
  {
   "cell_type": "code",
   "execution_count": 81,
   "id": "d3f4d37a-1d22-48a8-9489-24e28047ff29",
   "metadata": {},
   "outputs": [
    {
     "data": {
      "text/plain": [
       "62"
      ]
     },
     "execution_count": 81,
     "metadata": {},
     "output_type": "execute_result"
    }
   ],
   "source": [
    "120-58"
   ]
  },
  {
   "cell_type": "code",
   "execution_count": 82,
   "id": "9cee30ac-c82b-49e1-9d48-aa1e6e7982d5",
   "metadata": {},
   "outputs": [],
   "source": [
    "diff = sum(t**i for i in range(3,9))"
   ]
  },
  {
   "cell_type": "code",
   "execution_count": 83,
   "id": "01957f5d-e2a8-42b9-b1ac-623e75837223",
   "metadata": {},
   "outputs": [],
   "source": [
    "diff+= sum(t**i for i in range(2,7))*q"
   ]
  },
  {
   "cell_type": "code",
   "execution_count": 84,
   "id": "23414238-9c25-4208-8d13-9f910cc8cbef",
   "metadata": {},
   "outputs": [],
   "source": [
    "diff+= sum(t**i for i in range(3,8))*q"
   ]
  },
  {
   "cell_type": "code",
   "execution_count": 85,
   "id": "bfe3980e-fecc-46ca-b666-938b45d05107",
   "metadata": {},
   "outputs": [],
   "source": [
    "diff+= sum(t**i for i in range(1,5))*q**2"
   ]
  },
  {
   "cell_type": "code",
   "execution_count": 86,
   "id": "0eea315a-c748-4737-b4d1-66587e871d2f",
   "metadata": {},
   "outputs": [],
   "source": [
    "diff+= sum(t**i for i in range(2,6))*q**2"
   ]
  },
  {
   "cell_type": "code",
   "execution_count": 87,
   "id": "71ad13db-be2e-413b-a63f-15c907a057c1",
   "metadata": {},
   "outputs": [],
   "source": [
    "diff+= sum(t**i for i in range(3,7))*q**2"
   ]
  },
  {
   "cell_type": "code",
   "execution_count": null,
   "id": "55de189a-03aa-4969-8496-9bf6a3dffb0e",
   "metadata": {},
   "outputs": [],
   "source": [
    "diff+= sum(t**i for i in range(1,5))*q**2"
   ]
  },
  {
   "cell_type": "code",
   "execution_count": 88,
   "id": "9aa45814-ad0c-46e2-8354-64d63972796f",
   "metadata": {},
   "outputs": [],
   "source": [
    "diff+= sum(t**i for i in range(2,6))*q**3"
   ]
  },
  {
   "cell_type": "code",
   "execution_count": 89,
   "id": "a0e8fcea-e6f3-4ec8-bd2a-3e720bbd6a03",
   "metadata": {},
   "outputs": [],
   "source": [
    "diff+= sum(t**i for i in range(1,5))*q**3"
   ]
  },
  {
   "cell_type": "code",
   "execution_count": 90,
   "id": "09a70cce-60ec-483e-a5bf-b709f8c7cb40",
   "metadata": {},
   "outputs": [],
   "source": [
    "diff+= sum(t**i for i in range(0,4))*q**3"
   ]
  },
  {
   "cell_type": "code",
   "execution_count": 91,
   "id": "7c4e97a3-b8e7-4965-8234-2c45c72ffc08",
   "metadata": {},
   "outputs": [],
   "source": [
    "diff+= sum(t**i for i in range(0,3))*q**4"
   ]
  },
  {
   "cell_type": "code",
   "execution_count": 92,
   "id": "cf33a86d-a3c8-471b-b7e2-0f0cf06efd2c",
   "metadata": {},
   "outputs": [],
   "source": [
    "diff+= sum(t**i for i in range(1,4))*q**4"
   ]
  },
  {
   "cell_type": "code",
   "execution_count": 93,
   "id": "ff60877a-3e14-4df2-922e-266dca24543b",
   "metadata": {},
   "outputs": [],
   "source": [
    "diff+= sum(t**i for i in range(2,5))*q**4"
   ]
  },
  {
   "cell_type": "code",
   "execution_count": 94,
   "id": "371c4743-da93-4123-800e-bc66adef28c9",
   "metadata": {},
   "outputs": [],
   "source": [
    "diff+= sum(t**i for i in range(1,4))*q**5"
   ]
  },
  {
   "cell_type": "code",
   "execution_count": 95,
   "id": "12789942-57c0-46f8-b1ed-65eb66e62dbb",
   "metadata": {},
   "outputs": [],
   "source": [
    "diff+= sum(t**i for i in range(0,3))*q**5"
   ]
  },
  {
   "cell_type": "code",
   "execution_count": 96,
   "id": "10c8c017-7bb0-47e3-bd9c-8d375a9db926",
   "metadata": {},
   "outputs": [],
   "source": [
    "diff+= sum(t**i for i in range(0,2))*q**6"
   ]
  },
  {
   "cell_type": "code",
   "execution_count": 97,
   "id": "cda80aa9-cd78-4eab-8ee7-42e660dfba71",
   "metadata": {},
   "outputs": [],
   "source": [
    "diff+= sum(t**i for i in range(1,3))*q**6"
   ]
  },
  {
   "cell_type": "code",
   "execution_count": 98,
   "id": "e80450ad-baa4-46b4-bdb7-a804f0aa3491",
   "metadata": {},
   "outputs": [],
   "source": [
    "diff+= sum(t**i for i in range(0,2))*q**7"
   ]
  },
  {
   "cell_type": "code",
   "execution_count": 99,
   "id": "2adf998b-9e99-4783-9798-36ec2b05c9e7",
   "metadata": {},
   "outputs": [],
   "source": [
    "diff+=q**8"
   ]
  },
  {
   "cell_type": "code",
   "execution_count": 100,
   "id": "7405a515-1903-4687-b973-61bad1ecd18f",
   "metadata": {},
   "outputs": [
    {
     "data": {
      "text/plain": [
       "62"
      ]
     },
     "execution_count": 100,
     "metadata": {},
     "output_type": "execute_result"
    }
   ],
   "source": [
    "diff(1,1)"
   ]
  },
  {
   "cell_type": "code",
   "execution_count": 101,
   "id": "0eb9f099-4d74-4d51-83fc-64cb0a1dfe30",
   "metadata": {},
   "outputs": [
    {
     "data": {
      "text/plain": [
       "True"
      ]
     },
     "execution_count": 101,
     "metadata": {},
     "output_type": "execute_result"
    }
   ],
   "source": [
    "pol53.expand(3)(q,t,1) - pol42.expand(3)(q,t,1) == diff"
   ]
  },
  {
   "cell_type": "code",
   "execution_count": null,
   "id": "09e17d26-4f09-4fa5-a124-b774b886bd69",
   "metadata": {},
   "outputs": [],
   "source": []
  },
  {
   "cell_type": "code",
   "execution_count": null,
   "id": "818e87e9-9fc3-4979-9419-99a86a03fe1c",
   "metadata": {},
   "outputs": [],
   "source": []
  },
  {
   "cell_type": "code",
   "execution_count": null,
   "id": "0b538a0c-886c-46c3-9662-5c80d0f56142",
   "metadata": {},
   "outputs": [],
   "source": []
  },
  {
   "cell_type": "code",
   "execution_count": 24,
   "id": "9f92d615-f6d5-4e67-bf1b-86f01f178350",
   "metadata": {},
   "outputs": [],
   "source": [
    "tr = TriangularPartition((5,3))"
   ]
  },
  {
   "cell_type": "code",
   "execution_count": 25,
   "id": "48b86cba-8997-41e9-bcfd-fc5caacc9c23",
   "metadata": {},
   "outputs": [
    {
     "data": {
      "text/plain": [
       "True"
      ]
     },
     "execution_count": 25,
     "metadata": {},
     "output_type": "execute_result"
    }
   ],
   "source": [
    "tr.is_triangular()"
   ]
  },
  {
   "cell_type": "code",
   "execution_count": 27,
   "id": "ca02c391-4985-42b1-bc00-deb2e635d0ab",
   "metadata": {},
   "outputs": [],
   "source": [
    "tab = tr.top_down_standard_tableau()"
   ]
  },
  {
   "cell_type": "code",
   "execution_count": 26,
   "id": "76ab5a5e-5260-4785-8218-51f57f92216b",
   "metadata": {},
   "outputs": [],
   "source": [
    "tdp = TriangularDyckPath((5,3), (3,))"
   ]
  },
  {
   "cell_type": "code",
   "execution_count": 28,
   "id": "4b8e164c-941a-4cf7-875f-e83af9eb487c",
   "metadata": {},
   "outputs": [
    {
     "data": {
      "text/plain": [
       "3"
      ]
     },
     "execution_count": 28,
     "metadata": {},
     "output_type": "execute_result"
    }
   ],
   "source": [
    "tdp.sim(tableau = tab)"
   ]
  },
  {
   "cell_type": "code",
   "execution_count": null,
   "id": "e552fe37-869e-48b6-917b-93ee9a3e3a08",
   "metadata": {},
   "outputs": [],
   "source": []
  },
  {
   "cell_type": "code",
   "execution_count": null,
   "id": "8474731e-cf4e-4036-a98b-83776859e506",
   "metadata": {},
   "outputs": [],
   "source": []
  },
  {
   "cell_type": "code",
   "execution_count": 180,
   "id": "a4d5e6f0-4aaf-4c0b-8369-314db2ba9bbc",
   "metadata": {},
   "outputs": [],
   "source": [
    "tdp = TriangularDyckPath((7,6,4,3,1), (6,3,2,2))"
   ]
  },
  {
   "cell_type": "code",
   "execution_count": 181,
   "id": "b5f4df33-2257-407b-854f-9ab8fb0ef0e9",
   "metadata": {},
   "outputs": [
    {
     "name": "stdout",
     "output_type": "stream",
     "text": [
      "\\begin{tikzpicture}\n",
      "\\draw[ultra thick, fill = red!30] (0,0)--(7,0)--(7,1)--(6,1)--(6,2)--(4,2)--(4,3)--(3,3)--(3,4)--(1,4)--(1,5)--(0,5)--cycle;\n",
      "\\draw[fill = gray!10] (0,0)--(6,0)--(6,1)--(3,1)--(3,2)--(2,2)--(2,3)--(2,3)--(2,4)--(0,4)--cycle;\n",
      "\\draw[line width = 5px, red] (7,0)--(6,0)--(6,1)--(3,1)--(3,2)--(2,2)--(2,3)--(2,3)--(2,4)--(0,4)--(0,5);\n",
      "\\draw[step=1cm,gray,very thin] (0,0) grid (7,5);\n",
      "\\end{tikzpicture}\n"
     ]
    }
   ],
   "source": [
    "print(latex(tdp))"
   ]
  },
  {
   "cell_type": "code",
   "execution_count": 186,
   "id": "506385ef-1442-457f-a4bc-affe921d3eea",
   "metadata": {},
   "outputs": [
    {
     "name": "stdout",
     "output_type": "stream",
     "text": [
      "\\begin{tikzpicture}\n",
      "\\draw[ultra thick, fill = red!30] (0,0)--(7,0)--(7,1)--(6,1)--(6,2)--(4,2)--(4,3)--(3,3)--(3,4)--(1,4)--(1,5)--(0,5)--cycle;\n",
      "\\draw[fill = gray!10] (0,0)--(6,0)--(6,1)--(2,1)--(2,2)--(1,2)--(1,3)--(1,3)--(1,4)--(0,4)--cycle;\n",
      "\\draw[line width = 5px, red] (7,0)--(6,0)--(6,1)--(2,1)--(2,2)--(1,2)--(1,3)--(1,3)--(1,4)--(0,4)--(0,5);\n",
      "\\draw[step=1cm,gray,very thin] (0,0) grid (7,5);\n",
      "\\end{tikzpicture}\n"
     ]
    }
   ],
   "source": [
    "print(latex(tdp.path_tamari_rotate(3)))"
   ]
  },
  {
   "cell_type": "code",
   "execution_count": 184,
   "id": "9f303d7e-fd7a-438c-98ae-f4a805906c23",
   "metadata": {},
   "outputs": [
    {
     "data": {
      "text/plain": [
       "[(0, 5), (1, 2), (3, 1)]"
      ]
     },
     "execution_count": 184,
     "metadata": {},
     "output_type": "execute_result"
    }
   ],
   "source": [
    "tdp.path().corners()"
   ]
  },
  {
   "cell_type": "code",
   "execution_count": 169,
   "id": "1dd770e9-f0c0-4484-adf7-f2b2b05e57dd",
   "metadata": {},
   "outputs": [],
   "source": [
    "line = 1"
   ]
  },
  {
   "cell_type": "code",
   "execution_count": 170,
   "id": "33099887-cc2c-4dc8-87bf-4d8a09163a66",
   "metadata": {},
   "outputs": [],
   "source": [
    "L = tdp.skew_partition().row_lengths()"
   ]
  },
  {
   "cell_type": "code",
   "execution_count": 171,
   "id": "b2bed0b9-f6a5-4a27-b017-02e54e3069b4",
   "metadata": {},
   "outputs": [
    {
     "data": {
      "text/plain": [
       "[1, 3, 2, 1, 1]"
      ]
     },
     "execution_count": 171,
     "metadata": {},
     "output_type": "execute_result"
    }
   ],
   "source": [
    "L"
   ]
  },
  {
   "cell_type": "code",
   "execution_count": 172,
   "id": "b5376af1-2f50-4f4a-aa9e-73908b032e5b",
   "metadata": {},
   "outputs": [],
   "source": [
    "p = list(tdp.path())"
   ]
  },
  {
   "cell_type": "code",
   "execution_count": 173,
   "id": "3760b354-26e1-42ee-a136-548205257eea",
   "metadata": {},
   "outputs": [
    {
     "data": {
      "text/plain": [
       "[6, 3, 2, 2]"
      ]
     },
     "execution_count": 173,
     "metadata": {},
     "output_type": "execute_result"
    }
   ],
   "source": [
    "p"
   ]
  },
  {
   "cell_type": "code",
   "execution_count": 174,
   "id": "766da943-56f3-4ddb-975b-af5fe5df9742",
   "metadata": {},
   "outputs": [],
   "source": [
    "v = L[line]"
   ]
  },
  {
   "cell_type": "code",
   "execution_count": 175,
   "id": "09257b9e-5003-462a-939a-639cec85c856",
   "metadata": {},
   "outputs": [
    {
     "data": {
      "text/plain": [
       "3"
      ]
     },
     "execution_count": 175,
     "metadata": {},
     "output_type": "execute_result"
    }
   ],
   "source": [
    "v"
   ]
  },
  {
   "cell_type": "code",
   "execution_count": 176,
   "id": "f2849bc6-4ef7-4afc-8f4f-a30948cf8095",
   "metadata": {},
   "outputs": [
    {
     "data": {
      "text/plain": [
       "[[7, 6, 4, 3, 1], [6, 2, 2, 2]]"
      ]
     },
     "execution_count": 176,
     "metadata": {},
     "output_type": "execute_result"
    }
   ],
   "source": [
    "tdp.path_tamari_rotate(1)"
   ]
  },
  {
   "cell_type": "code",
   "execution_count": null,
   "id": "2a5a2044-6d9b-4ed7-84c8-1755c193fcc5",
   "metadata": {},
   "outputs": [],
   "source": []
  },
  {
   "cell_type": "code",
   "execution_count": null,
   "id": "8f7abc51-331c-4c1b-be91-dd103cd2aede",
   "metadata": {},
   "outputs": [],
   "source": []
  },
  {
   "cell_type": "code",
   "execution_count": null,
   "id": "4c77fa82-b895-43bb-be88-44ffe0e31893",
   "metadata": {},
   "outputs": [],
   "source": []
  },
  {
   "cell_type": "code",
   "execution_count": 2,
   "id": "96db339c-01c2-432c-a3b6-62bad7473f23",
   "metadata": {},
   "outputs": [],
   "source": [
    "tp = TriangularPartition((9,4))"
   ]
  },
  {
   "cell_type": "code",
   "execution_count": 40,
   "id": "eeff4441-812f-47f4-86ba-10bca866ca31",
   "metadata": {},
   "outputs": [],
   "source": [
    "tdp = TriangularDyckPath((9,4), (2,2))"
   ]
  },
  {
   "cell_type": "code",
   "execution_count": null,
   "id": "caca8421-cb4f-4e00-9d1a-044c9d1d6f9f",
   "metadata": {},
   "outputs": [],
   "source": []
  },
  {
   "cell_type": "code",
   "execution_count": 4,
   "id": "49b7df3d-6357-4ca5-bac8-e0a789457170",
   "metadata": {},
   "outputs": [],
   "source": [
    "tabs = list(tp.sim_sym_tableaux())"
   ]
  },
  {
   "cell_type": "code",
   "execution_count": 5,
   "id": "5cf31208-f42d-47bf-af76-c73db5164c33",
   "metadata": {},
   "outputs": [
    {
     "data": {
      "text/plain": [
       "[[[1, 2, 3, 4, 6, 8, 10, 12, 13], [5, 7, 9, 11]],\n",
       " [[1, 2, 3, 4, 5, 7, 9, 11, 13], [6, 8, 10, 12]],\n",
       " [[1, 2, 3, 4, 5, 6, 8, 10, 12], [7, 9, 11, 13]]]"
      ]
     },
     "execution_count": 5,
     "metadata": {},
     "output_type": "execute_result"
    }
   ],
   "source": [
    "tabs"
   ]
  },
  {
   "cell_type": "code",
   "execution_count": 27,
   "id": "cfed5d82-b4c6-4974-a7de-9c05542c4fe0",
   "metadata": {},
   "outputs": [],
   "source": [
    "tab = tabs[2]"
   ]
  },
  {
   "cell_type": "code",
   "execution_count": 12,
   "id": "09961a7e-de28-4e0c-8a9e-dff4bbbbcd80",
   "metadata": {},
   "outputs": [
    {
     "data": {
      "text/plain": [
       "[[1, 2, 3, 4, 5, 7, 9, 11, 13], [6, 8, 10, 12]]"
      ]
     },
     "execution_count": 12,
     "metadata": {},
     "output_type": "execute_result"
    }
   ],
   "source": [
    "tab"
   ]
  },
  {
   "cell_type": "code",
   "execution_count": 5,
   "id": "d7576110-40d9-4319-aeef-8ce35306e379",
   "metadata": {},
   "outputs": [],
   "source": [
    "TDP = list(tp.triangular_dyck_paths())"
   ]
  },
  {
   "cell_type": "code",
   "execution_count": 11,
   "id": "bcddb412-a7d2-4ceb-bc0e-fe9959f2f6bc",
   "metadata": {},
   "outputs": [
    {
     "data": {
      "text/plain": [
       "[[[9, 4], [2, 2]]]"
      ]
     },
     "execution_count": 11,
     "metadata": {},
     "output_type": "execute_result"
    }
   ],
   "source": [
    "[tdp for tdp in TDP if tdp.area() == 9 and tdp.deficit(tableau = tab) == 2]"
   ]
  },
  {
   "cell_type": "code",
   "execution_count": 12,
   "id": "37e841dd-e07a-4dde-80a4-0a55c3dac5c5",
   "metadata": {},
   "outputs": [
    {
     "data": {
      "text/plain": [
       "[[[9, 4], [9, 2]]]"
      ]
     },
     "execution_count": 12,
     "metadata": {},
     "output_type": "execute_result"
    }
   ],
   "source": [
    "[tdp for tdp in TDP if tdp.area() == 2 and tdp.deficit(tableau = tab) == 2]"
   ]
  },
  {
   "cell_type": "code",
   "execution_count": 34,
   "id": "85b95e4f-cc26-46b0-b61d-b3d3e33ec27c",
   "metadata": {},
   "outputs": [
    {
     "data": {
      "text/plain": [
       "[[[9, 4], [2, 2]]]"
      ]
     },
     "execution_count": 34,
     "metadata": {},
     "output_type": "execute_result"
    }
   ],
   "source": [
    "[tdp for tdp in TDP if tdp.area() == 9 and tdp.deficit(tableau = tab) == 2]"
   ]
  },
  {
   "cell_type": "code",
   "execution_count": 32,
   "id": "5c62880f-3d03-4673-a8ed-4ae129ac0268",
   "metadata": {},
   "outputs": [],
   "source": [
    "tdp = TriangularDyckPath((9,4),(3,2))"
   ]
  },
  {
   "cell_type": "code",
   "execution_count": null,
   "id": "2ad72656-26c4-4f6b-8806-febbef598631",
   "metadata": {},
   "outputs": [],
   "source": []
  },
  {
   "cell_type": "code",
   "execution_count": 41,
   "id": "1ebcdcb4-9442-4601-ade2-c109880171a8",
   "metadata": {},
   "outputs": [
    {
     "name": "stdout",
     "output_type": "stream",
     "text": [
      "\\begin{tikzpicture}\n",
      "\\draw[ultra thick, fill = red!30] (0,0)--(9,0)--(9,1)--(4,1)--(4,2)--(0,2)--cycle;\n",
      "\\draw[fill = green!10] (0,0)--(2,0)--(2,1)--(2,1)--(2,2)--(0,2)--cycle;\n",
      "\\draw[fill = yellow!50] (0,0) rectangle (1,1);\n",
      "\\draw[pattern=crosshatch dots, pattern color=gray!50] (0,0) rectangle (1,1);\n",
      "\\draw[fill = yellow!50] (1,0) rectangle (2,1);\n",
      "\\draw[pattern=crosshatch dots, pattern color=gray!50] (1,0) rectangle (2,1);\n",
      "\\node at (0.5, 0.5) (int) {$1$};\n",
      "\\node at (1.5, 0.5) (int) {$2$};\n",
      "\\node at (2.5, 0.5) (int) {$3$};\n",
      "\\node at (3.5, 0.5) (int) {$4$};\n",
      "\\node at (4.5, 0.5) (int) {$5$};\n",
      "\\node at (5.5, 0.5) (int) {$6$};\n",
      "\\node at (6.5, 0.5) (int) {$8$};\n",
      "\\node at (7.5, 0.5) (int) {$10$};\n",
      "\\node at (8.5, 0.5) (int) {$12$};\n",
      "\\node at (0.5, 1.5) (int) {$7$};\n",
      "\\node at (1.5, 1.5) (int) {$9$};\n",
      "\\node at (2.5, 1.5) (int) {$11$};\n",
      "\\node at (3.5, 1.5) (int) {$13$};\n",
      "\\draw[line width = 5px, red] (9,0)--(2,0)--(2,1)--(2,1)--(2,2)--(0,2)--(0,2);\n",
      "\\draw[step=1cm,gray,very thin] (0,0) grid (9,2);\n",
      "\\end{tikzpicture}\n"
     ]
    }
   ],
   "source": [
    "print(tdp._grid_latex_(with_deficit = True, tableau = tab))"
   ]
  },
  {
   "cell_type": "code",
   "execution_count": 19,
   "id": "1cc3dc63-bc62-4ecc-8e02-b6b536536c22",
   "metadata": {},
   "outputs": [],
   "source": [
    "tdpbis = TriangularDyckPath((7,4),(5,4))"
   ]
  },
  {
   "cell_type": "code",
   "execution_count": 20,
   "id": "0496fb63-9c22-42df-b778-86b4d177c432",
   "metadata": {},
   "outputs": [
    {
     "data": {
      "text/plain": [
       "2"
      ]
     },
     "execution_count": 20,
     "metadata": {},
     "output_type": "execute_result"
    }
   ],
   "source": [
    "tdpbis.deficit(tableau = tab)"
   ]
  },
  {
   "cell_type": "code",
   "execution_count": 33,
   "id": "001c2032-d185-40c9-a141-eb11403a282b",
   "metadata": {},
   "outputs": [],
   "source": [
    "tp = TriangularPartition((9,5))"
   ]
  },
  {
   "cell_type": "code",
   "execution_count": 34,
   "id": "aa65f0ef-bca0-41b6-b9f5-30d6d55c3747",
   "metadata": {},
   "outputs": [],
   "source": [
    "tabs = list(tp.sim_sym_tableaux())"
   ]
  },
  {
   "cell_type": "code",
   "execution_count": 35,
   "id": "759de1bf-51cf-4c59-92f4-753dbd037297",
   "metadata": {},
   "outputs": [
    {
     "data": {
      "text/plain": [
       "[[[1, 2, 3, 4, 5, 7, 9, 11, 13], [6, 8, 10, 12, 14]]]"
      ]
     },
     "execution_count": 35,
     "metadata": {},
     "output_type": "execute_result"
    }
   ],
   "source": [
    "tabs"
   ]
  },
  {
   "cell_type": "code",
   "execution_count": 10,
   "id": "65bffa75-0511-4fd7-909e-2b8cccc24431",
   "metadata": {},
   "outputs": [],
   "source": [
    "lam = TriangularPartition((4,1))"
   ]
  },
  {
   "cell_type": "code",
   "execution_count": 11,
   "id": "06fc92a3-848b-4845-87ad-17451748856d",
   "metadata": {},
   "outputs": [
    {
     "data": {
      "text/plain": [
       "[4, 1]"
      ]
     },
     "execution_count": 11,
     "metadata": {},
     "output_type": "execute_result"
    }
   ],
   "source": [
    "lam"
   ]
  },
  {
   "cell_type": "code",
   "execution_count": 12,
   "id": "4d6ca94e-f539-4e13-93d3-74eda07471a6",
   "metadata": {},
   "outputs": [],
   "source": [
    "tabs = list(lam.sim_sym_tableaux())"
   ]
  },
  {
   "cell_type": "code",
   "execution_count": 13,
   "id": "c72c1f4f-37fe-4edf-93f8-fb684d32cc51",
   "metadata": {},
   "outputs": [
    {
     "data": {
      "text/plain": [
       "[[[1, 3, 4, 5], [2]],\n",
       " [[1, 2, 4, 5], [3]],\n",
       " [[1, 2, 3, 5], [4]],\n",
       " [[1, 2, 3, 4], [5]]]"
      ]
     },
     "execution_count": 13,
     "metadata": {},
     "output_type": "execute_result"
    }
   ],
   "source": [
    "tabs"
   ]
  },
  {
   "cell_type": "code",
   "execution_count": 2,
   "id": "993b189b-2e64-4a7e-a180-2fa710768747",
   "metadata": {},
   "outputs": [],
   "source": [
    "tr = TriangularPartition([9,4])"
   ]
  },
  {
   "cell_type": "code",
   "execution_count": 3,
   "id": "eec91809-3f5a-4628-a891-ad28564999b4",
   "metadata": {},
   "outputs": [],
   "source": [
    "TDP = tr.triangular_dyck_paths()"
   ]
  },
  {
   "cell_type": "code",
   "execution_count": 4,
   "id": "0f14e7aa-75aa-40a4-8b80-5be454912447",
   "metadata": {},
   "outputs": [
    {
     "data": {
      "text/plain": [
       "40"
      ]
     },
     "execution_count": 4,
     "metadata": {},
     "output_type": "execute_result"
    }
   ],
   "source": [
    "TDP.cardinality()"
   ]
  },
  {
   "cell_type": "code",
   "execution_count": 5,
   "id": "378fa299-90c2-4c39-a649-198e6c0aa6e9",
   "metadata": {},
   "outputs": [
    {
     "data": {
      "text/plain": [
       "40"
      ]
     },
     "execution_count": 5,
     "metadata": {},
     "output_type": "execute_result"
    }
   ],
   "source": [
    "10+9+8+7+6"
   ]
  },
  {
   "cell_type": "code",
   "execution_count": 8,
   "id": "d439ff7d-5d47-4e0d-a3a6-8625d7ff1c96",
   "metadata": {},
   "outputs": [],
   "source": [
    "m = 9"
   ]
  },
  {
   "cell_type": "code",
   "execution_count": 9,
   "id": "b725861e-fcb7-4133-b49c-d92cc7fc8c63",
   "metadata": {},
   "outputs": [],
   "source": [
    "n= 5"
   ]
  },
  {
   "cell_type": "code",
   "execution_count": 10,
   "id": "545905a4-4557-47bd-8a64-c35c72c6406c",
   "metadata": {},
   "outputs": [
    {
     "data": {
      "text/plain": [
       "90"
      ]
     },
     "execution_count": 10,
     "metadata": {},
     "output_type": "execute_result"
    }
   ],
   "source": [
    "(-m +5*n +2)*(m-n+1)"
   ]
  },
  {
   "cell_type": "code",
   "execution_count": 11,
   "id": "fa4104a1-cea6-4aaa-9a65-0eb4c87927e9",
   "metadata": {},
   "outputs": [
    {
     "data": {
      "text/plain": [
       "90"
      ]
     },
     "execution_count": 11,
     "metadata": {},
     "output_type": "execute_result"
    }
   ],
   "source": [
    "(2*m+2-n)*(n+1)"
   ]
  },
  {
   "cell_type": "code",
   "execution_count": 14,
   "id": "5c392eb1-8f91-4daa-8c74-8aa308d6a99f",
   "metadata": {},
   "outputs": [
    {
     "data": {
      "text/plain": [
       "180"
      ]
     },
     "execution_count": 14,
     "metadata": {},
     "output_type": "execute_result"
    }
   ],
   "source": [
    "(3*m+9)*n"
   ]
  },
  {
   "cell_type": "code",
   "execution_count": 114,
   "id": "735722c8-0879-4a96-a711-d3a4ddd34c67",
   "metadata": {},
   "outputs": [],
   "source": [
    "tr = TriangularPartition((6,3))"
   ]
  },
  {
   "cell_type": "code",
   "execution_count": 115,
   "id": "5b82925f-2ea6-4646-ac28-672410960d10",
   "metadata": {},
   "outputs": [
    {
     "data": {
      "text/plain": [
       "True"
      ]
     },
     "execution_count": 115,
     "metadata": {},
     "output_type": "execute_result"
    }
   ],
   "source": [
    "tr.is_triangular()"
   ]
  },
  {
   "cell_type": "code",
   "execution_count": 20,
   "id": "2accffc6-6797-4d7c-bbce-528d876c584a",
   "metadata": {},
   "outputs": [],
   "source": [
    "T = list(tr.sim_sym_tableaux())"
   ]
  },
  {
   "cell_type": "code",
   "execution_count": 21,
   "id": "6063d801-d909-42a7-b8e3-869982e0ff1a",
   "metadata": {},
   "outputs": [],
   "source": [
    "tab = T[0]"
   ]
  },
  {
   "cell_type": "code",
   "execution_count": 22,
   "id": "327c63ac-8f70-4ad2-8e8a-35cf0f731971",
   "metadata": {},
   "outputs": [
    {
     "data": {
      "text/plain": [
       "Standard tableaux of shape [5, 3]"
      ]
     },
     "execution_count": 22,
     "metadata": {},
     "output_type": "execute_result"
    }
   ],
   "source": [
    "tab.parent()"
   ]
  },
  {
   "cell_type": "code",
   "execution_count": 23,
   "id": "a7db0fe2-d058-4825-80b6-259e72f3d718",
   "metadata": {},
   "outputs": [
    {
     "data": {
      "text/plain": [
       "<class 'sage.combinat.tableau.StandardTableaux_shape_with_category.element_class'>"
      ]
     },
     "execution_count": 23,
     "metadata": {},
     "output_type": "execute_result"
    }
   ],
   "source": [
    "type(tab)"
   ]
  },
  {
   "cell_type": "code",
   "execution_count": 116,
   "id": "761b071e-cc7f-4f00-8d5a-f1b135d0b117",
   "metadata": {},
   "outputs": [],
   "source": [
    "tab2 = StandardTableau([[1,2,3,4,5,6],[7,8,9]])"
   ]
  },
  {
   "cell_type": "code",
   "execution_count": 117,
   "id": "f9607ce4-e04d-4535-ae46-4a5575369885",
   "metadata": {},
   "outputs": [
    {
     "data": {
      "text/plain": [
       "[[1, 2, 3, 4, 5, 6], [7, 8, 9]]"
      ]
     },
     "execution_count": 117,
     "metadata": {},
     "output_type": "execute_result"
    }
   ],
   "source": [
    "tab2"
   ]
  },
  {
   "cell_type": "code",
   "execution_count": 124,
   "id": "4170c1d1-e29f-44ec-a93a-5e01ffbf5eeb",
   "metadata": {},
   "outputs": [],
   "source": [
    "tdp = TriangularDyckPath( (6,3), (5,3))"
   ]
  },
  {
   "cell_type": "code",
   "execution_count": 125,
   "id": "39090104-f5d0-4324-9782-6986e8ecf12b",
   "metadata": {},
   "outputs": [
    {
     "data": {
      "text/plain": [
       "[[6, 3], [5, 3]]"
      ]
     },
     "execution_count": 125,
     "metadata": {},
     "output_type": "execute_result"
    }
   ],
   "source": [
    "tdp"
   ]
  },
  {
   "cell_type": "code",
   "execution_count": 126,
   "id": "0d0ca41f-cbc5-4ee1-9118-e142369c2481",
   "metadata": {},
   "outputs": [
    {
     "data": {
      "text/plain": [
       "1"
      ]
     },
     "execution_count": 126,
     "metadata": {},
     "output_type": "execute_result"
    }
   ],
   "source": [
    "tdp.area()"
   ]
  },
  {
   "cell_type": "code",
   "execution_count": 127,
   "id": "e1f8029a-53d1-4d88-b1cc-d343cfb01edc",
   "metadata": {},
   "outputs": [
    {
     "data": {
      "text/plain": [
       "3"
      ]
     },
     "execution_count": 127,
     "metadata": {},
     "output_type": "execute_result"
    }
   ],
   "source": [
    "tdp.deficit(tableau = tab2)"
   ]
  },
  {
   "cell_type": "code",
   "execution_count": 106,
   "id": "fa974f9b-25d0-47cf-a456-4144be5ae244",
   "metadata": {},
   "outputs": [
    {
     "data": {
      "text/plain": [
       "1"
      ]
     },
     "execution_count": 106,
     "metadata": {},
     "output_type": "execute_result"
    }
   ],
   "source": [
    "tdp.sim(tableau = tab2)"
   ]
  },
  {
   "cell_type": "code",
   "execution_count": 94,
   "id": "50ebf815-6f3a-4652-ae49-e9b78b124db2",
   "metadata": {},
   "outputs": [],
   "source": [
    "d = tr.area_sim_distribution(tableau = tab2)"
   ]
  },
  {
   "cell_type": "code",
   "execution_count": 107,
   "id": "75698edf-07a5-4722-a86b-23527af5a9a3",
   "metadata": {},
   "outputs": [],
   "source": [
    "NOT = [(a,b) for a,b in d if (b,a) not in d]"
   ]
  },
  {
   "cell_type": "code",
   "execution_count": 108,
   "id": "e134774f-9cbd-4b0d-a4d1-c9557be16461",
   "metadata": {},
   "outputs": [
    {
     "data": {
      "text/plain": [
       "[(2, 1)]"
      ]
     },
     "execution_count": 108,
     "metadata": {},
     "output_type": "execute_result"
    }
   ],
   "source": [
    "NOT"
   ]
  },
  {
   "cell_type": "code",
   "execution_count": 59,
   "id": "b963c31d-7973-4a3e-b90f-5fa60f621849",
   "metadata": {},
   "outputs": [
    {
     "data": {
      "text/plain": [
       "{(8, 0): 1,\n",
       " (7, 1): 1,\n",
       " (6, 2): 1,\n",
       " (5, 3): 1,\n",
       " (4, 4): 1,\n",
       " (6, 1): 1,\n",
       " (5, 2): 1,\n",
       " (4, 3): 1,\n",
       " (3, 5): 1,\n",
       " (3, 4): 1,\n",
       " (2, 6): 1,\n",
       " (4, 2): 1,\n",
       " (3, 3): 1,\n",
       " (2, 5): 1,\n",
       " (1, 7): 1,\n",
       " (2, 3): 1,\n",
       " (1, 5): 1,\n",
       " (0, 8): 1}"
      ]
     },
     "execution_count": 59,
     "metadata": {},
     "output_type": "execute_result"
    }
   ],
   "source": [
    "d"
   ]
  },
  {
   "cell_type": "code",
   "execution_count": 109,
   "id": "14bd61ca-a291-421a-9868-c1e74dbe18e9",
   "metadata": {},
   "outputs": [],
   "source": [
    "FIND = [tdp for tdp in tr.triangular_dyck_paths() if tdp.area() == 2 and tdp.sim(tableau = tab2) == 1]"
   ]
  },
  {
   "cell_type": "code",
   "execution_count": 110,
   "id": "b5b94538-336b-45e4-81d7-d4ea2af9347d",
   "metadata": {},
   "outputs": [
    {
     "data": {
      "text/plain": [
       "[[[3, 2], [3]]]"
      ]
     },
     "execution_count": 110,
     "metadata": {},
     "output_type": "execute_result"
    }
   ],
   "source": [
    "FIND"
   ]
  },
  {
   "cell_type": "code",
   "execution_count": 41,
   "id": "321987bc-bf49-473f-9f6c-721451f14c0a",
   "metadata": {},
   "outputs": [],
   "source": [
    "FIND2 = [tdp for tdp in tr.triangular_dyck_paths() if tdp.area() == 4 and tdp.sim(tableau = tab2) == 3]"
   ]
  },
  {
   "cell_type": "code",
   "execution_count": 42,
   "id": "54c42d66-8293-4e61-bd24-b06721e66885",
   "metadata": {},
   "outputs": [
    {
     "data": {
      "text/plain": [
       "[[[5, 3], [3, 1]]]"
      ]
     },
     "execution_count": 42,
     "metadata": {},
     "output_type": "execute_result"
    }
   ],
   "source": [
    "FIND2"
   ]
  },
  {
   "cell_type": "code",
   "execution_count": 128,
   "id": "4c84ea2f-bedc-43e3-a70f-44855ae42d91",
   "metadata": {},
   "outputs": [],
   "source": [
    "tr = TriangularPartition([6,2])"
   ]
  },
  {
   "cell_type": "code",
   "execution_count": 129,
   "id": "1e826034-f9e7-4615-8b67-e3d41ab659ed",
   "metadata": {},
   "outputs": [
    {
     "data": {
      "text/plain": [
       "[[[1, 3, 4, 6, 7, 8], [2, 5]],\n",
       " [[1, 2, 4, 6, 7, 8], [3, 5]],\n",
       " [[1, 2, 3, 5, 7, 8], [4, 6]],\n",
       " [[1, 2, 3, 4, 6, 8], [5, 7]],\n",
       " [[1, 2, 3, 4, 5, 7], [6, 8]]]"
      ]
     },
     "execution_count": 129,
     "metadata": {},
     "output_type": "execute_result"
    }
   ],
   "source": [
    "L = list(tr.sim_sym_tableaux())\n",
    "L"
   ]
  },
  {
   "cell_type": "code",
   "execution_count": 134,
   "id": "f8598e89-7f32-4456-a77f-9a72d45ff3d7",
   "metadata": {},
   "outputs": [
    {
     "name": "stdout",
     "output_type": "stream",
     "text": [
      "{\\def\\lr#1{\\multicolumn{1}{|@{\\hspace{.6ex}}c@{\\hspace{.6ex}}|}{\\raisebox{-.3ex}{$#1$}}}\n",
      "\\raisebox{-.6ex}{$\\begin{array}[t]{*{6}c}\\cline{1-2}\n",
      "\\lr{6}&\\lr{8}\\\\\\cline{1-6}\n",
      "\\lr{1}&\\lr{2}&\\lr{3}&\\lr{4}&\\lr{5}&\\lr{7}\\\\\\cline{1-6}\n",
      "\\end{array}$}\n",
      "}\n"
     ]
    }
   ],
   "source": [
    "print(latex(L[4]))"
   ]
  },
  {
   "cell_type": "code",
   "execution_count": 135,
   "id": "9bde47ad-f96a-415d-b41a-669dae0553b2",
   "metadata": {},
   "outputs": [],
   "source": [
    "K.<q,t,r> = QQ[]"
   ]
  },
  {
   "cell_type": "code",
   "execution_count": 136,
   "id": "e08f1ba2-e413-4a4f-8bbe-42b4f8e1da7b",
   "metadata": {},
   "outputs": [],
   "source": [
    "S = SymmetricFunctions(K)"
   ]
  },
  {
   "cell_type": "code",
   "execution_count": 137,
   "id": "aa55bb25-ae19-4566-afc0-3eb153b335f5",
   "metadata": {},
   "outputs": [],
   "source": [
    "s = S.schur()"
   ]
  },
  {
   "cell_type": "code",
   "execution_count": 138,
   "id": "7fc0cb6a-9bff-4ec1-ab30-2b51f4c3323d",
   "metadata": {},
   "outputs": [],
   "source": [
    "pol = s[6] + s[4,1] + s[3,1] + s[1,1,1]"
   ]
  },
  {
   "cell_type": "code",
   "execution_count": 141,
   "id": "2896126a-9e33-485f-8ff4-b428a9ecbce0",
   "metadata": {},
   "outputs": [
    {
     "data": {
      "text/plain": [
       "68"
      ]
     },
     "execution_count": 141,
     "metadata": {},
     "output_type": "execute_result"
    }
   ],
   "source": [
    "pol.expand(3)(1,1,1)"
   ]
  },
  {
   "cell_type": "code",
   "execution_count": 142,
   "id": "078bb811-459d-4537-baa4-05114e2a8e0e",
   "metadata": {},
   "outputs": [
    {
     "data": {
      "text/plain": [
       "14"
      ]
     },
     "execution_count": 142,
     "metadata": {},
     "output_type": "execute_result"
    }
   ],
   "source": [
    "pol.expand(2)(1,1)"
   ]
  },
  {
   "cell_type": "code",
   "execution_count": 145,
   "id": "4020127c-7d53-443e-b9ea-60c275537a94",
   "metadata": {},
   "outputs": [
    {
     "data": {
      "text/plain": [
       "q^6 + q^5*t + q^4*t^2 + q^3*t^3 + q^2*t^4 + q*t^5 + t^6 + q^5*r + q^4*t*r + q^3*t^2*r + q^2*t^3*r + q*t^4*r + t^5*r + q^4*r^2 + q^3*t*r^2 + q^2*t^2*r^2 + q*t^3*r^2 + t^4*r^2 + q^3*r^3 + q^2*t*r^3 + q*t^2*r^3 + t^3*r^3 + q^2*r^4 + q*t*r^4 + t^2*r^4 + q*r^5 + t*r^5 + r^6 + q^4*t + q^3*t^2 + q^2*t^3 + q*t^4 + q^4*r + 2*q^3*t*r + 2*q^2*t^2*r + 2*q*t^3*r + t^4*r + q^3*r^2 + 2*q^2*t*r^2 + 2*q*t^2*r^2 + t^3*r^2 + q^2*r^3 + 2*q*t*r^3 + t^2*r^3 + q*r^4 + t*r^4 + q^3*t + q^2*t^2 + q*t^3 + q^3*r + 2*q^2*t*r + 2*q*t^2*r + t^3*r + q^2*r^2 + 2*q*t*r^2 + t^2*r^2 + q*r^3 + t*r^3 + q*t*r"
      ]
     },
     "execution_count": 145,
     "metadata": {},
     "output_type": "execute_result"
    }
   ],
   "source": [
    "pol.expand(3)(q,t,r)"
   ]
  },
  {
   "cell_type": "code",
   "execution_count": 144,
   "id": "abcae681-6d78-49a4-808b-86f2bbc9b29f",
   "metadata": {},
   "outputs": [
    {
     "name": "stdout",
     "output_type": "stream",
     "text": [
      "q^{6} + 2 q^{5} + 5 q^{4} + 10 q^{3} + 15 q^{2} + 21 q + 14\n"
     ]
    }
   ],
   "source": [
    "print(latex(pol.expand(3)(q,1,1)))"
   ]
  },
  {
   "cell_type": "code",
   "execution_count": 146,
   "id": "0aa5a39e-38e4-4bd7-b4b9-b6efa03fa7ea",
   "metadata": {},
   "outputs": [],
   "source": [
    "pol2 = s[3] + s[1,1]"
   ]
  },
  {
   "cell_type": "code",
   "execution_count": 147,
   "id": "60100f03-908d-4228-a731-f9e127c3b264",
   "metadata": {},
   "outputs": [
    {
     "data": {
      "text/plain": [
       "q^3 + q^2*t + q*t^2 + t^3 + q^2*r + q*t*r + t^2*r + q*r^2 + t*r^2 + r^3 + q*t + q*r + t*r"
      ]
     },
     "execution_count": 147,
     "metadata": {},
     "output_type": "execute_result"
    }
   ],
   "source": [
    "pol2.expand(3)(q,t,r)"
   ]
  },
  {
   "cell_type": "code",
   "execution_count": 148,
   "id": "133775c9-1a27-4c1f-9dfa-ecb812df4408",
   "metadata": {},
   "outputs": [
    {
     "name": "stdout",
     "output_type": "stream",
     "text": [
      "q^{3} + q^{2} t + q t^{2} + t^{3} + q^{2} r + q t r + t^{2} r + q r^{2} + t r^{2} + r^{3} + q t + q r + t r\n"
     ]
    }
   ],
   "source": [
    "print(latex(_))"
   ]
  },
  {
   "cell_type": "code",
   "execution_count": 187,
   "id": "3dd9b0a7-f6cc-464d-98dc-d0f22204c28b",
   "metadata": {},
   "outputs": [],
   "source": [
    "tr = TriangularPartition([2,1,1])"
   ]
  },
  {
   "cell_type": "code",
   "execution_count": 188,
   "id": "a6f2a1f7-a196-446e-8646-27647d62c29a",
   "metadata": {},
   "outputs": [
    {
     "data": {
      "text/plain": [
       "[[1, 3], [2], [4]]"
      ]
     },
     "execution_count": 188,
     "metadata": {},
     "output_type": "execute_result"
    }
   ],
   "source": [
    "tr.triangular_standard_tableau()"
   ]
  },
  {
   "cell_type": "code",
   "execution_count": 189,
   "id": "77075ada-fce5-48ca-a95f-2d170143f792",
   "metadata": {},
   "outputs": [
    {
     "data": {
      "text/plain": [
       "[[1, 2], [3], [4]]"
      ]
     },
     "execution_count": 189,
     "metadata": {},
     "output_type": "execute_result"
    }
   ],
   "source": [
    "tr.top_down_standard_tableau()"
   ]
  },
  {
   "cell_type": "code",
   "execution_count": 190,
   "id": "f053aa9a-edf4-43c1-b358-3d6890c68d23",
   "metadata": {},
   "outputs": [],
   "source": [
    "L1 = tr.path_tamari_lattice()"
   ]
  },
  {
   "cell_type": "code",
   "execution_count": 191,
   "id": "d6e5c303-61a2-4b26-9c5f-3e614e4ae9dd",
   "metadata": {},
   "outputs": [
    {
     "data": {
      "image/png": "[encoded data removed]",
      "text/plain": [
       "Finite lattice containing 7 elements"
      ]
     },
     "execution_count": 191,
     "metadata": {},
     "output_type": "execute_result"
    }
   ],
   "source": [
    "L1"
   ]
  },
  {
   "cell_type": "code",
   "execution_count": 192,
   "id": "2c93c8d7-aadb-46ea-90e5-cc1d6bfb5e6f",
   "metadata": {},
   "outputs": [
    {
     "ename": "KeyboardInterrupt",
     "evalue": "",
     "output_type": "error",
     "traceback": [
      "\u001b[0;31m---------------------------------------------------------------------------\u001b[0m",
      "\u001b[0;31mKeyboardInterrupt\u001b[0m                         Traceback (most recent call last)",
      "Cell \u001b[0;32mIn[192], line 1\u001b[0m\n\u001b[0;32m----> 1\u001b[0m \u001b[43mview\u001b[49m\u001b[43m(\u001b[49m\u001b[43mL1\u001b[49m\u001b[43m)\u001b[49m\n",
      "File \u001b[0;32m~/miniconda3/envs/sage-triangular/lib/python3.12/site-packages/sage/misc/latex.py:1870\u001b[0m, in \u001b[0;36mview\u001b[0;34m(objects, title, debug, sep, tiny, engine, viewer, tightpage, margin, mode, combine_all, **kwds)\u001b[0m\n\u001b[1;32m   1868\u001b[0m \u001b[38;5;28;01mwith\u001b[39;00m \u001b[38;5;28mopen\u001b[39m(tex_file, \u001b[38;5;124m'\u001b[39m\u001b[38;5;124mw\u001b[39m\u001b[38;5;124m'\u001b[39m) \u001b[38;5;28;01mas\u001b[39;00m file:\n\u001b[1;32m   1869\u001b[0m     file\u001b[38;5;241m.\u001b[39mwrite(s)\n\u001b[0;32m-> 1870\u001b[0m suffix \u001b[38;5;241m=\u001b[39m \u001b[43m_run_latex_\u001b[49m\u001b[43m(\u001b[49m\u001b[43mtex_file\u001b[49m\u001b[43m,\u001b[49m\u001b[43m \u001b[49m\u001b[43mdebug\u001b[49m\u001b[38;5;241;43m=\u001b[39;49m\u001b[43mdebug\u001b[49m\u001b[43m,\u001b[49m\u001b[43m \u001b[49m\u001b[43mengine\u001b[49m\u001b[38;5;241;43m=\u001b[39;49m\u001b[43mengine\u001b[49m\u001b[43m,\u001b[49m\u001b[43m \u001b[49m\u001b[43mpng\u001b[49m\u001b[38;5;241;43m=\u001b[39;49m\u001b[38;5;28;43;01mFalse\u001b[39;49;00m\u001b[43m)\u001b[49m\n\u001b[1;32m   1871\u001b[0m \u001b[38;5;28;01mif\u001b[39;00m suffix \u001b[38;5;241m==\u001b[39m \u001b[38;5;124m\"\u001b[39m\u001b[38;5;124mpdf\u001b[39m\u001b[38;5;124m\"\u001b[39m:\n\u001b[1;32m   1872\u001b[0m     \u001b[38;5;28;01mfrom\u001b[39;00m \u001b[38;5;21;01msage\u001b[39;00m\u001b[38;5;21;01m.\u001b[39;00m\u001b[38;5;21;01mmisc\u001b[39;00m\u001b[38;5;21;01m.\u001b[39;00m\u001b[38;5;21;01mviewer\u001b[39;00m \u001b[38;5;28;01mimport\u001b[39;00m pdf_viewer\n",
      "File \u001b[0;32m~/miniconda3/envs/sage-triangular/lib/python3.12/site-packages/sage/misc/latex.py:759\u001b[0m, in \u001b[0;36m_run_latex_\u001b[0;34m(filename, debug, density, engine, png, do_in_background)\u001b[0m\n\u001b[1;32m    757\u001b[0m     \u001b[38;5;28;01mif\u001b[39;00m png:\n\u001b[1;32m    758\u001b[0m         \u001b[38;5;28mprint\u001b[39m(magick)\n\u001b[0;32m--> 759\u001b[0m e \u001b[38;5;241m=\u001b[39m \u001b[43msubpcall\u001b[49m\u001b[43m(\u001b[49m\u001b[43mlt\u001b[49m\u001b[43m)\u001b[49m\n\u001b[1;32m    760\u001b[0m \u001b[38;5;28;01mif\u001b[39;00m png:\n\u001b[1;32m    761\u001b[0m     e \u001b[38;5;241m=\u001b[39m e \u001b[38;5;129;01mand\u001b[39;00m subpcall(magick)\n",
      "File \u001b[0;32m~/miniconda3/envs/sage-triangular/lib/python3.12/site-packages/sage/misc/latex.py:752\u001b[0m, in \u001b[0;36m_run_latex_.<locals>.subpcall\u001b[0;34m(x)\u001b[0m\n\u001b[1;32m    751\u001b[0m \u001b[38;5;28;01mdef\u001b[39;00m \u001b[38;5;21msubpcall\u001b[39m(x):\n\u001b[0;32m--> 752\u001b[0m     \u001b[38;5;28;01mreturn\u001b[39;00m \u001b[38;5;129;01mnot\u001b[39;00m \u001b[43mcall\u001b[49m\u001b[43m(\u001b[49m\u001b[43mx\u001b[49m\u001b[43m,\u001b[49m\u001b[43m \u001b[49m\u001b[43mstdout\u001b[49m\u001b[38;5;241;43m=\u001b[39;49m\u001b[43mredirect\u001b[49m\u001b[43m,\u001b[49m\n\u001b[1;32m    753\u001b[0m \u001b[43m                    \u001b[49m\u001b[43mstderr\u001b[49m\u001b[38;5;241;43m=\u001b[39;49m\u001b[43mredirect\u001b[49m\u001b[43m,\u001b[49m\u001b[43m \u001b[49m\u001b[43mcwd\u001b[49m\u001b[38;5;241;43m=\u001b[39;49m\u001b[43mbase\u001b[49m\u001b[43m)\u001b[49m\n",
      "File \u001b[0;32m~/miniconda3/envs/sage-triangular/lib/python3.12/subprocess.py:391\u001b[0m, in \u001b[0;36mcall\u001b[0;34m(timeout, *popenargs, **kwargs)\u001b[0m\n\u001b[1;32m    389\u001b[0m \u001b[38;5;28;01mwith\u001b[39;00m Popen(\u001b[38;5;241m*\u001b[39mpopenargs, \u001b[38;5;241m*\u001b[39m\u001b[38;5;241m*\u001b[39mkwargs) \u001b[38;5;28;01mas\u001b[39;00m p:\n\u001b[1;32m    390\u001b[0m     \u001b[38;5;28;01mtry\u001b[39;00m:\n\u001b[0;32m--> 391\u001b[0m         \u001b[38;5;28;01mreturn\u001b[39;00m \u001b[43mp\u001b[49m\u001b[38;5;241;43m.\u001b[39;49m\u001b[43mwait\u001b[49m\u001b[43m(\u001b[49m\u001b[43mtimeout\u001b[49m\u001b[38;5;241;43m=\u001b[39;49m\u001b[43mtimeout\u001b[49m\u001b[43m)\u001b[49m\n\u001b[1;32m    392\u001b[0m     \u001b[38;5;28;01mexcept\u001b[39;00m:  \u001b[38;5;66;03m# Including KeyboardInterrupt, wait handled that.\u001b[39;00m\n\u001b[1;32m    393\u001b[0m         p\u001b[38;5;241m.\u001b[39mkill()\n",
      "File \u001b[0;32m~/miniconda3/envs/sage-triangular/lib/python3.12/subprocess.py:1264\u001b[0m, in \u001b[0;36mPopen.wait\u001b[0;34m(self, timeout)\u001b[0m\n\u001b[1;32m   1262\u001b[0m     endtime \u001b[38;5;241m=\u001b[39m _time() \u001b[38;5;241m+\u001b[39m timeout\n\u001b[1;32m   1263\u001b[0m \u001b[38;5;28;01mtry\u001b[39;00m:\n\u001b[0;32m-> 1264\u001b[0m     \u001b[38;5;28;01mreturn\u001b[39;00m \u001b[38;5;28;43mself\u001b[39;49m\u001b[38;5;241;43m.\u001b[39;49m\u001b[43m_wait\u001b[49m\u001b[43m(\u001b[49m\u001b[43mtimeout\u001b[49m\u001b[38;5;241;43m=\u001b[39;49m\u001b[43mtimeout\u001b[49m\u001b[43m)\u001b[49m\n\u001b[1;32m   1265\u001b[0m \u001b[38;5;28;01mexcept\u001b[39;00m \u001b[38;5;167;01mKeyboardInterrupt\u001b[39;00m:\n\u001b[1;32m   1266\u001b[0m     \u001b[38;5;66;03m# https://bugs.python.org/issue25942\u001b[39;00m\n\u001b[1;32m   1267\u001b[0m     \u001b[38;5;66;03m# The first keyboard interrupt waits briefly for the child to\u001b[39;00m\n\u001b[1;32m   1268\u001b[0m     \u001b[38;5;66;03m# exit under the common assumption that it also received the ^C\u001b[39;00m\n\u001b[1;32m   1269\u001b[0m     \u001b[38;5;66;03m# generated SIGINT and will exit rapidly.\u001b[39;00m\n\u001b[1;32m   1270\u001b[0m     \u001b[38;5;28;01mif\u001b[39;00m timeout \u001b[38;5;129;01mis\u001b[39;00m \u001b[38;5;129;01mnot\u001b[39;00m \u001b[38;5;28;01mNone\u001b[39;00m:\n",
      "File \u001b[0;32m~/miniconda3/envs/sage-triangular/lib/python3.12/subprocess.py:2053\u001b[0m, in \u001b[0;36mPopen._wait\u001b[0;34m(self, timeout)\u001b[0m\n\u001b[1;32m   2051\u001b[0m \u001b[38;5;28;01mif\u001b[39;00m \u001b[38;5;28mself\u001b[39m\u001b[38;5;241m.\u001b[39mreturncode \u001b[38;5;129;01mis\u001b[39;00m \u001b[38;5;129;01mnot\u001b[39;00m \u001b[38;5;28;01mNone\u001b[39;00m:\n\u001b[1;32m   2052\u001b[0m     \u001b[38;5;28;01mbreak\u001b[39;00m  \u001b[38;5;66;03m# Another thread waited.\u001b[39;00m\n\u001b[0;32m-> 2053\u001b[0m (pid, sts) \u001b[38;5;241m=\u001b[39m \u001b[38;5;28;43mself\u001b[39;49m\u001b[38;5;241;43m.\u001b[39;49m\u001b[43m_try_wait\u001b[49m\u001b[43m(\u001b[49m\u001b[38;5;241;43m0\u001b[39;49m\u001b[43m)\u001b[49m\n\u001b[1;32m   2054\u001b[0m \u001b[38;5;66;03m# Check the pid and loop as waitpid has been known to\u001b[39;00m\n\u001b[1;32m   2055\u001b[0m \u001b[38;5;66;03m# return 0 even without WNOHANG in odd situations.\u001b[39;00m\n\u001b[1;32m   2056\u001b[0m \u001b[38;5;66;03m# http://bugs.python.org/issue14396.\u001b[39;00m\n\u001b[1;32m   2057\u001b[0m \u001b[38;5;28;01mif\u001b[39;00m pid \u001b[38;5;241m==\u001b[39m \u001b[38;5;28mself\u001b[39m\u001b[38;5;241m.\u001b[39mpid:\n",
      "File \u001b[0;32m~/miniconda3/envs/sage-triangular/lib/python3.12/subprocess.py:2011\u001b[0m, in \u001b[0;36mPopen._try_wait\u001b[0;34m(self, wait_flags)\u001b[0m\n\u001b[1;32m   2009\u001b[0m \u001b[38;5;250m\u001b[39m\u001b[38;5;124;03m\"\"\"All callers to this function MUST hold self._waitpid_lock.\"\"\"\u001b[39;00m\n\u001b[1;32m   2010\u001b[0m \u001b[38;5;28;01mtry\u001b[39;00m:\n\u001b[0;32m-> 2011\u001b[0m     (pid, sts) \u001b[38;5;241m=\u001b[39m \u001b[43mos\u001b[49m\u001b[38;5;241;43m.\u001b[39;49m\u001b[43mwaitpid\u001b[49m\u001b[43m(\u001b[49m\u001b[38;5;28;43mself\u001b[39;49m\u001b[38;5;241;43m.\u001b[39;49m\u001b[43mpid\u001b[49m\u001b[43m,\u001b[49m\u001b[43m \u001b[49m\u001b[43mwait_flags\u001b[49m\u001b[43m)\u001b[49m\n\u001b[1;32m   2012\u001b[0m \u001b[38;5;28;01mexcept\u001b[39;00m \u001b[38;5;167;01mChildProcessError\u001b[39;00m:\n\u001b[1;32m   2013\u001b[0m     \u001b[38;5;66;03m# This happens if SIGCLD is set to be ignored or waiting\u001b[39;00m\n\u001b[1;32m   2014\u001b[0m     \u001b[38;5;66;03m# for child processes has otherwise been disabled for our\u001b[39;00m\n\u001b[1;32m   2015\u001b[0m     \u001b[38;5;66;03m# process.  This child is dead, we can't get the status.\u001b[39;00m\n\u001b[1;32m   2016\u001b[0m     pid \u001b[38;5;241m=\u001b[39m \u001b[38;5;28mself\u001b[39m\u001b[38;5;241m.\u001b[39mpid\n",
      "File \u001b[0;32msrc/cysignals/signals.pyx:310\u001b[0m, in \u001b[0;36mcysignals.signals.python_check_interrupt\u001b[0;34m()\u001b[0m\n",
      "\u001b[0;31mKeyboardInterrupt\u001b[0m: "
     ]
    }
   ],
   "source": [
    "view(L1)"
   ]
  },
  {
   "cell_type": "code",
   "execution_count": null,
   "id": "2e95e6ef-cbe1-4faf-ab01-3db6d8652adf",
   "metadata": {},
   "outputs": [],
   "source": []
  }
 ],
 "metadata": {
  "kernelspec": {
   "display_name": "SageMath 10.4",
   "language": "sage",
   "name": "sagemath"
  },
  "language_info": {
   "codemirror_mode": {
    "name": "ipython",
    "version": 3
   },
   "file_extension": ".py",
   "mimetype": "text/x-python",
   "name": "python",
   "nbconvert_exporter": "python",
   "pygments_lexer": "ipython3",
   "version": "3.12.7"
  }
 },
 "nbformat": 4,
 "nbformat_minor": 5
}
