{
 "cells": [
  {
   "cell_type": "code",
   "execution_count": 1,
   "id": "36a06af1-e91b-4c85-8cbc-a737862a7931",
   "metadata": {},
   "outputs": [],
   "source": [
    "from triangular import *"
   ]
  },
  {
   "cell_type": "markdown",
   "id": "09a891f3-c682-4cdf-9899-46eccba757fa",
   "metadata": {},
   "source": [
    "# Deficic and (q,t) symmetry in Triangular partitions"
   ]
  },
  {
   "cell_type": "markdown",
   "id": "67e2516d-02f2-4a83-a12d-5106cb2d8adb",
   "metadata": {},
   "source": [
    "## Triangular partitions\n",
    "\n",
    "We have developed a specific class for Triangular Partitions"
   ]
  },
  {
   "cell_type": "code",
   "execution_count": 2,
   "id": "6da920f8-097d-4c94-a7ef-63d0b354983b",
   "metadata": {},
   "outputs": [],
   "source": [
    "T6 = TriangularPartitions(6)"
   ]
  },
  {
   "cell_type": "code",
   "execution_count": 3,
   "id": "326dae56-bcd1-4059-9c60-ac30c71dc654",
   "metadata": {},
   "outputs": [
    {
     "data": {
      "text/plain": [
       "[[6],\n",
       " [5, 1],\n",
       " [4, 2],\n",
       " [3, 2, 1],\n",
       " [2, 2, 1, 1],\n",
       " [2, 1, 1, 1, 1],\n",
       " [1, 1, 1, 1, 1, 1]]"
      ]
     },
     "execution_count": 3,
     "metadata": {},
     "output_type": "execute_result"
    }
   ],
   "source": [
    "list(T6)"
   ]
  },
  {
   "cell_type": "markdown",
   "id": "3362cb87-2590-4edd-aa26-96047165211c",
   "metadata": {},
   "source": [
    "You can create a triangular partition with the list of integers as you would create a partition"
   ]
  },
  {
   "cell_type": "code",
   "execution_count": 4,
   "id": "683be8ad-92d3-4e50-a48d-625bd29bec0e",
   "metadata": {},
   "outputs": [],
   "source": [
    "tp = TriangularPartition([4,3,1])"
   ]
  },
  {
   "cell_type": "code",
   "execution_count": 5,
   "id": "e5721869-0386-4936-a0d5-a48db584802b",
   "metadata": {},
   "outputs": [
    {
     "data": {
      "text/plain": [
       "[4, 3, 1]"
      ]
     },
     "execution_count": 5,
     "metadata": {},
     "output_type": "execute_result"
    }
   ],
   "source": [
    "tp"
   ]
  },
  {
   "cell_type": "markdown",
   "id": "0c148ad3-7ea6-4888-be07-d21b44a51618",
   "metadata": {},
   "source": [
    "This is just a wrapper around the classical integer partitions in Sage. \n",
    "For pratical reason, you can also send a non triangular partition in order to check if it's triangular or not"
   ]
  },
  {
   "cell_type": "code",
   "execution_count": 6,
   "id": "cc7d18a5-1ca6-460c-a8fe-01659a17eb77",
   "metadata": {},
   "outputs": [
    {
     "data": {
      "text/plain": [
       "True"
      ]
     },
     "execution_count": 6,
     "metadata": {},
     "output_type": "execute_result"
    }
   ],
   "source": [
    "tp.is_triangular()"
   ]
  },
  {
   "cell_type": "code",
   "execution_count": 7,
   "id": "ac2031b8-12e1-4e8e-9daa-fd6b53134b81",
   "metadata": {},
   "outputs": [
    {
     "data": {
      "text/plain": [
       "False"
      ]
     },
     "execution_count": 7,
     "metadata": {},
     "output_type": "execute_result"
    }
   ],
   "source": [
    "no_tp = TriangularPartition([2,2])\n",
    "no_tp.is_triangular()"
   ]
  },
  {
   "cell_type": "markdown",
   "id": "3de2328a-e5a0-4a90-bf42-583540378a9e",
   "metadata": {},
   "source": [
    "We have implemented the admissible slope interval for each cell of the partition"
   ]
  },
  {
   "cell_type": "code",
   "execution_count": 8,
   "id": "01038030-3d37-4dd2-9c28-a389241aff11",
   "metadata": {},
   "outputs": [
    {
     "data": {
      "text/plain": [
       "{(0, 0): 1/3,\n",
       " (0, 1): 1/4,\n",
       " (0, 2): 1/3,\n",
       " (0, 3): 0,\n",
       " (1, 0): 1/4,\n",
       " (1, 1): 0,\n",
       " (1, 2): 0,\n",
       " (2, 0): 0}"
      ]
     },
     "execution_count": 8,
     "metadata": {},
     "output_type": "execute_result"
    }
   ],
   "source": [
    "tp.min_slopes()"
   ]
  },
  {
   "cell_type": "code",
   "execution_count": 9,
   "id": "c3c22bdd-2ff4-445a-8420-74a49a1b6468",
   "metadata": {},
   "outputs": [
    {
     "data": {
      "text/plain": [
       "{(0, 0): 1/2,\n",
       " (0, 1): 1/2,\n",
       " (0, 2): 2/3,\n",
       " (0, 3): 1,\n",
       " (1, 0): 1/2,\n",
       " (1, 1): 1/2,\n",
       " (1, 2): 1,\n",
       " (2, 0): 1}"
      ]
     },
     "execution_count": 9,
     "metadata": {},
     "output_type": "execute_result"
    }
   ],
   "source": [
    "tp.max_slopes()"
   ]
  },
  {
   "cell_type": "markdown",
   "id": "6284b8aa-7127-4fce-ba34-0ac52ab9d781",
   "metadata": {},
   "source": [
    "The maximum of all min slopes is the global min slope, and the minimum of all max slopes is the global max slope.\n",
    "\n",
    "For a triangular partition, the global min slope is stricktly inferior to the global max slope."
   ]
  },
  {
   "cell_type": "code",
   "execution_count": 10,
   "id": "a8ae8739-36b0-4763-a1e3-a517e9088f24",
   "metadata": {},
   "outputs": [
    {
     "data": {
      "text/plain": [
       "1/3"
      ]
     },
     "execution_count": 10,
     "metadata": {},
     "output_type": "execute_result"
    }
   ],
   "source": [
    "tp.global_min_slope()"
   ]
  },
  {
   "cell_type": "code",
   "execution_count": 11,
   "id": "75b2de69-3bed-4b84-be12-f0c8c619ec23",
   "metadata": {},
   "outputs": [
    {
     "data": {
      "text/plain": [
       "1/2"
      ]
     },
     "execution_count": 11,
     "metadata": {},
     "output_type": "execute_result"
    }
   ],
   "source": [
    "tp.global_max_slope()"
   ]
  },
  {
   "cell_type": "code",
   "execution_count": 12,
   "id": "58de74e9-e9ba-4c6c-b933-7b351b4ca056",
   "metadata": {},
   "outputs": [
    {
     "data": {
      "text/plain": [
       "1/2"
      ]
     },
     "execution_count": 12,
     "metadata": {},
     "output_type": "execute_result"
    }
   ],
   "source": [
    "no_tp.global_min_slope()"
   ]
  },
  {
   "cell_type": "code",
   "execution_count": 13,
   "id": "f90e7500-be18-4a02-954a-e8feb44ec753",
   "metadata": {},
   "outputs": [
    {
     "data": {
      "text/plain": [
       "1/2"
      ]
     },
     "execution_count": 13,
     "metadata": {},
     "output_type": "execute_result"
    }
   ],
   "source": [
    "no_tp.global_max_slope()"
   ]
  },
  {
   "cell_type": "markdown",
   "id": "bcf9e620-338a-4d0c-96d4-1ddc91beefaa",
   "metadata": {},
   "source": [
    "## Triangular Dyck paths\n",
    "\n",
    "Given a triangular partition, you can enumerate its sub partitions as \"Triangular Dyck paths\""
   ]
  },
  {
   "cell_type": "code",
   "execution_count": 14,
   "id": "5bc7d639-2d82-4f5b-a355-7b319af501c7",
   "metadata": {},
   "outputs": [
    {
     "data": {
      "text/plain": [
       "Triangular Dyck Paths of [4, 3, 1]"
      ]
     },
     "execution_count": 14,
     "metadata": {},
     "output_type": "execute_result"
    }
   ],
   "source": [
    "TDP = tp.triangular_dyck_paths()\n",
    "TDP"
   ]
  },
  {
   "cell_type": "code",
   "execution_count": 15,
   "id": "d4ec78b1-f748-4aca-a7fe-46ae5161b152",
   "metadata": {},
   "outputs": [
    {
     "data": {
      "text/plain": [
       "[[[4, 3, 1], []],\n",
       " [[4, 3, 1], [1]],\n",
       " [[4, 3, 1], [2]],\n",
       " [[4, 3, 1], [3]],\n",
       " [[4, 3, 1], [1, 1]],\n",
       " [[4, 3, 1], [2, 1]],\n",
       " [[4, 3, 1], [3, 1]],\n",
       " [[4, 3, 1], [2, 2]],\n",
       " [[4, 3, 1], [3, 2]],\n",
       " [[4, 3, 1], [4]],\n",
       " [[4, 3, 1], [4, 1]],\n",
       " [[4, 3, 1], [4, 2]],\n",
       " [[4, 3, 1], [1, 1, 1]],\n",
       " [[4, 3, 1], [2, 1, 1]],\n",
       " [[4, 3, 1], [3, 1, 1]],\n",
       " [[4, 3, 1], [4, 1, 1]],\n",
       " [[4, 3, 1], [2, 2, 1]],\n",
       " [[4, 3, 1], [3, 2, 1]],\n",
       " [[4, 3, 1], [4, 2, 1]],\n",
       " [[4, 3, 1], [3, 3]],\n",
       " [[4, 3, 1], [4, 3]],\n",
       " [[4, 3, 1], [3, 3, 1]],\n",
       " [[4, 3, 1], [4, 3, 1]]]"
      ]
     },
     "execution_count": 15,
     "metadata": {},
     "output_type": "execute_result"
    }
   ],
   "source": [
    "list(TDP)"
   ]
  },
  {
   "cell_type": "markdown",
   "id": "261cd9fa-0775-43b9-aa70-29c1a8576267",
   "metadata": {},
   "source": [
    "A triangular Dyck path contains both the triangular partition and the sub partition"
   ]
  },
  {
   "cell_type": "code",
   "execution_count": 16,
   "id": "1926f093-58a5-4d58-8b35-b94aa2b03368",
   "metadata": {},
   "outputs": [
    {
     "data": {
      "text/plain": [
       "[[4, 3, 1], [4, 1]]"
      ]
     },
     "execution_count": 16,
     "metadata": {},
     "output_type": "execute_result"
    }
   ],
   "source": [
    "tdp = TriangularDyckPath([4,3,1], [4,1])\n",
    "tdp"
   ]
  },
  {
   "cell_type": "code",
   "execution_count": 17,
   "id": "a8191bd2-84a6-4f79-b650-0d3193125fbe",
   "metadata": {},
   "outputs": [
    {
     "data": {
      "text/plain": [
       "[4, 3, 1]"
      ]
     },
     "execution_count": 17,
     "metadata": {},
     "output_type": "execute_result"
    }
   ],
   "source": [
    "tdp.partition()"
   ]
  },
  {
   "cell_type": "code",
   "execution_count": 18,
   "id": "3f919553-d7d2-46f2-9a00-4ccb6b0f66f0",
   "metadata": {},
   "outputs": [
    {
     "data": {
      "text/plain": [
       "[4, 1]"
      ]
     },
     "execution_count": 18,
     "metadata": {},
     "output_type": "execute_result"
    }
   ],
   "source": [
    "tdp.path()"
   ]
  },
  {
   "cell_type": "markdown",
   "id": "32608f06-c8d5-48e4-a188-6f501ec24c7d",
   "metadata": {},
   "source": [
    "You can get the list of similar / deficit cells of a triangular Dyck path and its area."
   ]
  },
  {
   "cell_type": "code",
   "execution_count": 19,
   "id": "8fbba505-7fae-4a27-a770-f9fd11da9692",
   "metadata": {},
   "outputs": [
    {
     "data": {
      "text/plain": [
       "3"
      ]
     },
     "execution_count": 19,
     "metadata": {},
     "output_type": "execute_result"
    }
   ],
   "source": [
    "tdp.area()"
   ]
  },
  {
   "cell_type": "code",
   "execution_count": 20,
   "id": "88d80837-9d0d-40ca-95b5-ade372b489c1",
   "metadata": {},
   "outputs": [
    {
     "data": {
      "text/plain": [
       "3"
      ]
     },
     "execution_count": 20,
     "metadata": {},
     "output_type": "execute_result"
    }
   ],
   "source": [
    "tdp.sim()"
   ]
  },
  {
   "cell_type": "code",
   "execution_count": 21,
   "id": "02a0fda9-1910-4d6a-84b9-1ff5094a3e1c",
   "metadata": {},
   "outputs": [
    {
     "data": {
      "text/plain": [
       "[(0, 2), (0, 3), (1, 0)]"
      ]
     },
     "execution_count": 21,
     "metadata": {},
     "output_type": "execute_result"
    }
   ],
   "source": [
    "list(tdp.similar_cells())"
   ]
  },
  {
   "cell_type": "code",
   "execution_count": 22,
   "id": "05166278-2c11-461d-b8e0-f2faf38f27b6",
   "metadata": {},
   "outputs": [
    {
     "data": {
      "text/plain": [
       "2"
      ]
     },
     "execution_count": 22,
     "metadata": {},
     "output_type": "execute_result"
    }
   ],
   "source": [
    "tdp.deficit()"
   ]
  },
  {
   "cell_type": "code",
   "execution_count": 23,
   "id": "1d2c136d-6c90-4b67-aff9-3259d60b6ef2",
   "metadata": {},
   "outputs": [
    {
     "data": {
      "text/plain": [
       "[(0, 0), (0, 1)]"
      ]
     },
     "execution_count": 23,
     "metadata": {},
     "output_type": "execute_result"
    }
   ],
   "source": [
    "list(tdp.deficit_cells())"
   ]
  },
  {
   "cell_type": "markdown",
   "id": "5faba370-ca2e-47aa-a59e-3fa84e90555f",
   "metadata": {},
   "source": [
    "Here is the example of Figure 5"
   ]
  },
  {
   "cell_type": "code",
   "execution_count": 24,
   "id": "39db51bd-4f91-4acd-b99c-e848763f7e7b",
   "metadata": {},
   "outputs": [],
   "source": [
    "fig5 = TriangularDyckPath([7,6,4,3,1], [5,5,3,2])"
   ]
  },
  {
   "cell_type": "code",
   "execution_count": 25,
   "id": "a330cf8e-1e8c-4cda-9d6a-53f34982748f",
   "metadata": {},
   "outputs": [
    {
     "data": {
      "text/plain": [
       "[[7, 6, 4, 3, 1], [5, 5, 3, 2]]"
      ]
     },
     "execution_count": 25,
     "metadata": {},
     "output_type": "execute_result"
    }
   ],
   "source": [
    "fig5"
   ]
  },
  {
   "cell_type": "code",
   "execution_count": 26,
   "id": "e9eebbb0-2be1-415f-a002-754c03b7397f",
   "metadata": {},
   "outputs": [
    {
     "data": {
      "text/plain": [
       "13"
      ]
     },
     "execution_count": 26,
     "metadata": {},
     "output_type": "execute_result"
    }
   ],
   "source": [
    "fig5.sim()"
   ]
  },
  {
   "cell_type": "code",
   "execution_count": 27,
   "id": "9c862b71-b621-40bc-9b06-8b157fe32881",
   "metadata": {},
   "outputs": [
    {
     "data": {
      "text/plain": [
       "2"
      ]
     },
     "execution_count": 27,
     "metadata": {},
     "output_type": "execute_result"
    }
   ],
   "source": [
    "fig5.deficit()"
   ]
  },
  {
   "cell_type": "markdown",
   "id": "813e2ecc-cb19-40d6-b578-2306b23cf8e0",
   "metadata": {},
   "source": [
    "Here is the list of triangular Dyck path for the staircase partition with $n=3$, corresponding to the 5 Dyck paths of size $3$."
   ]
  },
  {
   "cell_type": "code",
   "execution_count": 28,
   "id": "e79d015e-f2c4-4ed4-8967-3977a8b33909",
   "metadata": {},
   "outputs": [
    {
     "data": {
      "text/plain": [
       "Triangular Dyck Paths of [2, 1]"
      ]
     },
     "execution_count": 28,
     "metadata": {},
     "output_type": "execute_result"
    }
   ],
   "source": [
    "D3 = TriangularDyckPaths([2,1])\n",
    "D3"
   ]
  },
  {
   "cell_type": "code",
   "execution_count": 29,
   "id": "6e70385c-e972-468c-b526-c7f99c1efddd",
   "metadata": {},
   "outputs": [
    {
     "data": {
      "text/plain": [
       "5"
      ]
     },
     "execution_count": 29,
     "metadata": {},
     "output_type": "execute_result"
    }
   ],
   "source": [
    "D3.cardinality()"
   ]
  },
  {
   "cell_type": "code",
   "execution_count": 30,
   "id": "f9e1d58b-cb71-48f1-9e34-293a38233545",
   "metadata": {},
   "outputs": [
    {
     "data": {
      "text/plain": [
       "[[[2, 1], []],\n",
       " [[2, 1], [1]],\n",
       " [[2, 1], [2]],\n",
       " [[2, 1], [1, 1]],\n",
       " [[2, 1], [2, 1]]]"
      ]
     },
     "execution_count": 30,
     "metadata": {},
     "output_type": "execute_result"
    }
   ],
   "source": [
    "list(D3)"
   ]
  },
  {
   "cell_type": "markdown",
   "id": "3accbe32-c2b3-4c43-ae76-cb4391964dc9",
   "metadata": {},
   "source": [
    "Besides, you can get the polynomial $A_\\lambda$ directly from the triangular partition $\\lambda$."
   ]
  },
  {
   "cell_type": "code",
   "execution_count": 31,
   "id": "606daa6d-0ef6-429d-af67-d1bf2024e5d9",
   "metadata": {},
   "outputs": [],
   "source": [
    "tp = TriangularPartition([3,2])"
   ]
  },
  {
   "cell_type": "code",
   "execution_count": 32,
   "id": "7a9d533c-2be3-4d24-a011-fea151886e8e",
   "metadata": {},
   "outputs": [
    {
     "data": {
      "text/plain": [
       "q^5 + q^4*t + q^3*t^2 + q^2*t^3 + q*t^4 + t^5 + q^3*t + q^2*t^2 + q*t^3"
      ]
     },
     "execution_count": 32,
     "metadata": {},
     "output_type": "execute_result"
    }
   ],
   "source": [
    "tp.Aqt()"
   ]
  },
  {
   "cell_type": "code",
   "execution_count": 33,
   "id": "3486cb9c-4135-44b1-994c-a5388468f3f9",
   "metadata": {},
   "outputs": [
    {
     "name": "stdout",
     "output_type": "stream",
     "text": [
      "5 0\n",
      "4 1\n",
      "3 2\n",
      "2 2\n",
      "3 1\n",
      "2 3\n",
      "1 4\n",
      "1 3\n",
      "0 5\n"
     ]
    }
   ],
   "source": [
    "for tdp in tp.triangular_dyck_paths():\n",
    "    print(tdp.area(), tdp.sim())"
   ]
  },
  {
   "cell_type": "markdown",
   "id": "07700d48-c520-43c0-95a7-f882ce9bbdad",
   "metadata": {},
   "source": [
    "Checking Conjecture 1"
   ]
  },
  {
   "cell_type": "code",
   "execution_count": 34,
   "id": "7a840d9e-0687-4389-96ab-3d923836019b",
   "metadata": {},
   "outputs": [],
   "source": [
    "q,t = tp.Aqt().parent().gens()"
   ]
  },
  {
   "cell_type": "code",
   "execution_count": 35,
   "id": "bb6ced0c-e269-49d7-a427-06c344ebf2b4",
   "metadata": {},
   "outputs": [
    {
     "data": {
      "text/plain": [
       "s[3, 1] + s[5]"
      ]
     },
     "execution_count": 35,
     "metadata": {},
     "output_type": "execute_result"
    }
   ],
   "source": [
    "schur = tp.Aqt_schur2parts()\n",
    "schur"
   ]
  },
  {
   "cell_type": "code",
   "execution_count": 36,
   "id": "a943e9b7-9fb6-4be7-9576-c046a00bdf4f",
   "metadata": {},
   "outputs": [
    {
     "data": {
      "text/plain": [
       "q^5 + q^4*t + q^3*t^2 + q^2*t^3 + q*t^4 + t^5 + q^3*t + q^2*t^2 + q*t^3"
      ]
     },
     "execution_count": 36,
     "metadata": {},
     "output_type": "execute_result"
    }
   ],
   "source": [
    "schur.expand(2, [q,t])"
   ]
  },
  {
   "cell_type": "code",
   "execution_count": 37,
   "id": "4734ae6d-c358-4641-b408-1a9a549d1b1e",
   "metadata": {},
   "outputs": [
    {
     "data": {
      "text/plain": [
       "True"
      ]
     },
     "execution_count": 37,
     "metadata": {},
     "output_type": "execute_result"
    }
   ],
   "source": [
    "schur.is_schur_positive()"
   ]
  },
  {
   "cell_type": "code",
   "execution_count": 38,
   "id": "38672d22-d973-4114-9c59-4c8cc77f9664",
   "metadata": {},
   "outputs": [
    {
     "data": {
      "text/plain": [
       "True"
      ]
     },
     "execution_count": 38,
     "metadata": {},
     "output_type": "execute_result"
    }
   ],
   "source": [
    "# size 4\n",
    "all(part.Aqt_schur2parts().is_schur_positive() for part in TriangularPartitions(4))"
   ]
  },
  {
   "cell_type": "code",
   "execution_count": 39,
   "id": "02300686-cd6e-413d-abaf-2d6d2132af6e",
   "metadata": {},
   "outputs": [
    {
     "data": {
      "text/plain": [
       "True"
      ]
     },
     "execution_count": 39,
     "metadata": {},
     "output_type": "execute_result"
    }
   ],
   "source": [
    "# size 5\n",
    "all(part.Aqt_schur2parts().is_schur_positive() for part in TriangularPartitions(5))"
   ]
  },
  {
   "cell_type": "code",
   "execution_count": 40,
   "id": "20523109-eb04-4410-b67d-408da2b7593d",
   "metadata": {},
   "outputs": [
    {
     "data": {
      "text/plain": [
       "True"
      ]
     },
     "execution_count": 40,
     "metadata": {},
     "output_type": "execute_result"
    }
   ],
   "source": [
    "# size 6\n",
    "all(part.Aqt_schur2parts().is_schur_positive() for part in TriangularPartitions(6))"
   ]
  },
  {
   "cell_type": "code",
   "execution_count": 41,
   "id": "743e5dfc-e3da-4a5e-b3b6-59d2ccf540a8",
   "metadata": {},
   "outputs": [
    {
     "data": {
      "text/plain": [
       "True"
      ]
     },
     "execution_count": 41,
     "metadata": {},
     "output_type": "execute_result"
    }
   ],
   "source": [
    "# size 7\n",
    "all(part.Aqt_schur2parts().is_schur_positive() for part in TriangularPartitions(7))"
   ]
  },
  {
   "cell_type": "code",
   "execution_count": 42,
   "id": "4cbec411-4ba1-4806-987c-5b28234b4b95",
   "metadata": {},
   "outputs": [
    {
     "data": {
      "text/plain": [
       "True"
      ]
     },
     "execution_count": 42,
     "metadata": {},
     "output_type": "execute_result"
    }
   ],
   "source": [
    "# size 8\n",
    "all(part.Aqt_schur2parts().is_schur_positive() for part in TriangularPartitions(8))"
   ]
  },
  {
   "cell_type": "code",
   "execution_count": 43,
   "id": "f7f225ff-9fc1-477a-b13a-25c5c3265baf",
   "metadata": {},
   "outputs": [
    {
     "data": {
      "text/plain": [
       "True"
      ]
     },
     "execution_count": 43,
     "metadata": {},
     "output_type": "execute_result"
    }
   ],
   "source": [
    "# size 9\n",
    "all(part.Aqt_schur2parts().is_schur_positive() for part in TriangularPartitions(9))"
   ]
  },
  {
   "cell_type": "code",
   "execution_count": 44,
   "id": "ca76bb58-1cfc-40ab-a425-8b94d28dd5b7",
   "metadata": {},
   "outputs": [
    {
     "data": {
      "text/plain": [
       "True"
      ]
     },
     "execution_count": 44,
     "metadata": {},
     "output_type": "execute_result"
    }
   ],
   "source": [
    "# size 10\n",
    "all(part.Aqt_schur2parts().is_schur_positive() for part in TriangularPartitions(10))"
   ]
  },
  {
   "cell_type": "markdown",
   "id": "d7d78e10-9e04-4a7d-8236-671899901181",
   "metadata": {},
   "source": [
    "## Tableaux\n",
    "\n",
    "You can compute the triangular tableau associated to a triangular partition."
   ]
  },
  {
   "cell_type": "code",
   "execution_count": 45,
   "id": "d29e157f-7063-48cf-96c8-369d72753403",
   "metadata": {},
   "outputs": [
    {
     "data": {
      "text/plain": [
       "[[1, 2, 4], [3, 5]]"
      ]
     },
     "execution_count": 45,
     "metadata": {},
     "output_type": "execute_result"
    }
   ],
   "source": [
    "tp = TriangularPartition([3,2])\n",
    "tp.triangular_standard_tableau()"
   ]
  },
  {
   "cell_type": "code",
   "execution_count": 46,
   "id": "071f7e2b-290c-4b09-b73e-47137f99b4d6",
   "metadata": {},
   "outputs": [
    {
     "data": {
      "text/plain": [
       "[[1, 2, 4, 7], [3, 5, 8], [6]]"
      ]
     },
     "execution_count": 46,
     "metadata": {},
     "output_type": "execute_result"
    }
   ],
   "source": [
    "tp = TriangularPartition([4,3,1])\n",
    "tp.triangular_standard_tableau()"
   ]
  },
  {
   "cell_type": "markdown",
   "id": "7f9cd012-15c5-45b7-8e2f-4de0cf2a0d5d",
   "metadata": {},
   "source": [
    "You can also obtain the list of sim-sym tableaux"
   ]
  },
  {
   "cell_type": "code",
   "execution_count": 49,
   "id": "e4a29e4d-37aa-47ce-bfb1-0a8272c99d47",
   "metadata": {},
   "outputs": [
    {
     "data": {
      "text/plain": [
       "[[[1, 3, 4], [2, 5]], [[1, 2, 4], [3, 5]]]"
      ]
     },
     "execution_count": 49,
     "metadata": {},
     "output_type": "execute_result"
    }
   ],
   "source": [
    "Tabs = list(tp.sim_sym_tableaux())\n",
    "Tabs"
   ]
  },
  {
   "cell_type": "markdown",
   "id": "9191ce72-a010-40fb-be1c-246db3e8b5c5",
   "metadata": {},
   "source": [
    "The deficit and sim statistics can be computed for a given tableau"
   ]
  },
  {
   "cell_type": "code",
   "execution_count": 50,
   "id": "c2641cab-37b1-42cc-bbbd-ef2f7b5a3a63",
   "metadata": {},
   "outputs": [],
   "source": [
    "tdp = TriangularDyckPath([3,2],[2])"
   ]
  },
  {
   "cell_type": "code",
   "execution_count": 51,
   "id": "93362be7-d934-4249-910f-9f8f2831ceb4",
   "metadata": {},
   "outputs": [
    {
     "data": {
      "text/plain": [
       "1"
      ]
     },
     "execution_count": 51,
     "metadata": {},
     "output_type": "execute_result"
    }
   ],
   "source": [
    "tdp.sim(tableau = Tabs[0])"
   ]
  },
  {
   "cell_type": "code",
   "execution_count": 52,
   "id": "d8510ab9-a180-4c32-ad5b-a9a7acc4a49d",
   "metadata": {},
   "outputs": [
    {
     "data": {
      "text/plain": [
       "2"
      ]
     },
     "execution_count": 52,
     "metadata": {},
     "output_type": "execute_result"
    }
   ],
   "source": [
    "tdp.sim(tableau = Tabs[1])"
   ]
  },
  {
   "cell_type": "code",
   "execution_count": 53,
   "id": "fee116f2-6a5d-4548-aebc-8295fab8c0f5",
   "metadata": {},
   "outputs": [
    {
     "data": {
      "text/plain": [
       "1"
      ]
     },
     "execution_count": 53,
     "metadata": {},
     "output_type": "execute_result"
    }
   ],
   "source": [
    "tdp.deficit(tableau = Tabs[0])"
   ]
  },
  {
   "cell_type": "code",
   "execution_count": 54,
   "id": "3d3a93c3-b14b-49ee-a204-26015f669db6",
   "metadata": {},
   "outputs": [
    {
     "data": {
      "text/plain": [
       "0"
      ]
     },
     "execution_count": 54,
     "metadata": {},
     "output_type": "execute_result"
    }
   ],
   "source": [
    "tdp.deficit(tableau = Tabs[1])"
   ]
  },
  {
   "cell_type": "markdown",
   "id": "1848ed3e-d670-4e94-81d8-f3d331b691f6",
   "metadata": {},
   "source": [
    "As well as the $A_\\lambda$ polynomial."
   ]
  },
  {
   "cell_type": "code",
   "execution_count": 55,
   "id": "5d7764a8-ad5d-4768-b3da-1378c751f71e",
   "metadata": {},
   "outputs": [
    {
     "data": {
      "text/plain": [
       "q^5 + q^4*t + q^3*t^2 + q^2*t^3 + q*t^4 + t^5 + q^3*t + q^2*t^2 + q*t^3"
      ]
     },
     "execution_count": 55,
     "metadata": {},
     "output_type": "execute_result"
    }
   ],
   "source": [
    "tp.Aqt(tableau = Tabs[0])"
   ]
  },
  {
   "cell_type": "code",
   "execution_count": 56,
   "id": "b8ab65f9-54c3-4b2f-b8e9-71a191d48f6a",
   "metadata": {},
   "outputs": [
    {
     "data": {
      "text/plain": [
       "q^5 + q^4*t + q^3*t^2 + q^2*t^3 + q*t^4 + t^5 + q^3*t + q^2*t^2 + q*t^3"
      ]
     },
     "execution_count": 56,
     "metadata": {},
     "output_type": "execute_result"
    }
   ],
   "source": [
    "tp.Aqt(tableau = Tabs[1])"
   ]
  },
  {
   "cell_type": "markdown",
   "id": "7814a101-86e3-4217-ad2b-660bb5865d61",
   "metadata": {},
   "source": [
    "As both tableaux are sim-sym, the polynomial is the same. But for another tableau, we get a different result which is not symmetric."
   ]
  },
  {
   "cell_type": "code",
   "execution_count": 58,
   "id": "564693da-febe-4f7c-af0a-5c357f90c9cb",
   "metadata": {},
   "outputs": [],
   "source": [
    "nonSimSym = Tableau([[1,2,3],[4,5]])"
   ]
  },
  {
   "cell_type": "code",
   "execution_count": 60,
   "id": "612f886d-51d6-44a8-aca4-0a5e09b96da6",
   "metadata": {},
   "outputs": [
    {
     "data": {
      "text/plain": [
       "q^5 + q^4*t + q^3*t^2 + q^2*t^3 + q*t^4 + t^5 + q^3*t + q^2*t^2 + q*t^2"
      ]
     },
     "execution_count": 60,
     "metadata": {},
     "output_type": "execute_result"
    }
   ],
   "source": [
    "pol = tp.Aqt(tableau = nonSimSym)\n",
    "pol"
   ]
  },
  {
   "cell_type": "code",
   "execution_count": 61,
   "id": "a1995bce-44c4-41ba-9429-47939a15a44e",
   "metadata": {},
   "outputs": [
    {
     "data": {
      "text/plain": [
       "False"
      ]
     },
     "execution_count": 61,
     "metadata": {},
     "output_type": "execute_result"
    }
   ],
   "source": [
    "pol(q,t) == pol(t,q)"
   ]
  },
  {
   "cell_type": "markdown",
   "id": "84c23d32-fc6d-4610-b52e-70ca4f6efe4c",
   "metadata": {},
   "source": [
    "Here is the example of the partition $(4,2,1)$ given in the paper."
   ]
  },
  {
   "cell_type": "code",
   "execution_count": 80,
   "id": "09ac8e9b-0eba-4fe3-bd05-fab11388c92b",
   "metadata": {},
   "outputs": [
    {
     "data": {
      "text/plain": [
       "[[[1, 3, 6, 7], [2, 5], [4]],\n",
       " [[1, 2, 6, 7], [3, 5], [4]],\n",
       " [[1, 3, 4, 7], [2, 5], [6]],\n",
       " [[1, 2, 4, 7], [3, 5], [6]],\n",
       " [[1, 3, 4, 6], [2, 5], [7]],\n",
       " [[1, 2, 4, 6], [3, 5], [7]],\n",
       " [[1, 2, 3, 5], [4, 6], [7]]]"
      ]
     },
     "execution_count": 80,
     "metadata": {},
     "output_type": "execute_result"
    }
   ],
   "source": [
    "tp = TriangularPartition([4,2,1])\n",
    "list(tp.sim_sym_tableaux())"
   ]
  },
  {
   "cell_type": "code",
   "execution_count": 81,
   "id": "4fde5012-3ec4-4c26-b624-4dc61b9751b2",
   "metadata": {},
   "outputs": [
    {
     "data": {
      "text/plain": [
       "[[[1, 2, 4, 7], [3, 5], [6]], [[1, 2, 4, 6], [3, 5], [7]]]"
      ]
     },
     "execution_count": 81,
     "metadata": {},
     "output_type": "execute_result"
    }
   ],
   "source": [
    "list(tp.slope_tableaux())"
   ]
  },
  {
   "cell_type": "code",
   "execution_count": 82,
   "id": "5e1f901b-f2d3-4ca9-8726-5183e04c87fa",
   "metadata": {},
   "outputs": [
    {
     "data": {
      "text/plain": [
       "[[1, 2, 4, 7], [3, 5], [6]]"
      ]
     },
     "execution_count": 82,
     "metadata": {},
     "output_type": "execute_result"
    }
   ],
   "source": [
    "tp.triangular_standard_tableau()"
   ]
  },
  {
   "cell_type": "code",
   "execution_count": 3,
   "id": "fcf4fa0e-daa4-4fe0-8c5b-636458c4eff3",
   "metadata": {},
   "outputs": [],
   "source": [
    "tab = TriangularPartition([7,2]).triangular_standard_tableau()"
   ]
  },
  {
   "cell_type": "code",
   "execution_count": 8,
   "id": "2c79d44c-a76d-4e67-88c0-e02a746158c8",
   "metadata": {},
   "outputs": [
    {
     "name": "stdout",
     "output_type": "stream",
     "text": [
      "{\\def\\lr#1{\\multicolumn{1}{|@{\\hspace{.6ex}}c@{\\hspace{.6ex}}|}{\\raisebox{-.3ex}{$#1$}}}\n",
      "\\raisebox{-.6ex}{$\\begin{array}[t]{*{4}c}\\cline{1-2}\n",
      "\\lr{4}&\\lr{6}\\\\\\cline{1-4}\n",
      "\\lr{1}&\\lr{2}&\\lr{3}&\\lr{5}\\\\\\cline{1-4}\n",
      "\\end{array}$}\n",
      "}\n"
     ]
    }
   ],
   "source": [
    "print(latex(tab))"
   ]
  },
  {
   "cell_type": "code",
   "execution_count": 7,
   "id": "222117e3-39ef-46ed-a743-914fc7151c7c",
   "metadata": {},
   "outputs": [],
   "source": [
    "tab = TriangularPartition([4,2]).triangular_standard_tableau()"
   ]
  },
  {
   "cell_type": "code",
   "execution_count": null,
   "id": "aadf3622-09ef-4190-820f-c878010694c4",
   "metadata": {},
   "outputs": [],
   "source": []
  }
 ],
 "metadata": {
  "kernelspec": {
   "display_name": "SageMath 10.4",
   "language": "sage",
   "name": "sagemath"
  },
  "language_info": {
   "codemirror_mode": {
    "name": "ipython",
    "version": 3
   },
   "file_extension": ".py",
   "mimetype": "text/x-python",
   "name": "python",
   "nbconvert_exporter": "python",
   "pygments_lexer": "ipython3",
   "version": "3.12.7"
  }
 },
 "nbformat": 4,
 "nbformat_minor": 5
}
